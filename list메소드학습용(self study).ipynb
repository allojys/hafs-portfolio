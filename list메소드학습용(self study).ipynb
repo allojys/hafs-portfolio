{
 "cells": [
  {
   "cell_type": "markdown",
   "metadata": {},
   "source": [
    "# list method\n",
    "리스트를 사용(활용) 한다는 말은 리스트 메소드를 사용(활용) 한다는 말과 동일하다.  \n",
    "리스트가 강력한 이유는 리스트 메소드가 잘 마련되어 있기 때문이다.  \n",
    "\n",
    "리스트 메소드를 사용하여 문제 해결을 하는 경우 메소드를 얼마나 잘 활용하는가가 관건이다."
   ]
  },
  {
   "cell_type": "code",
   "execution_count": 2,
   "metadata": {},
   "outputs": [
    {
     "name": "stdout",
     "output_type": "stream",
     "text": [
      "리스트 메소드  11개\n",
      "['append', 'clear', 'copy', 'count', 'extend', 'index', 'insert', 'pop', 'remove', 'reverse', 'sort']\n"
     ]
    }
   ],
   "source": [
    "# 11 methods of list\n",
    "list_method=[method for method in dir([])if '_' not in method]\n",
    "\n",
    "print(f'리스트 메소드  {len(list_method)}개\\n{list_method}')"
   ]
  },
  {
   "cell_type": "markdown",
   "metadata": {},
   "source": [
    " * 메소드, 자신이 하는 일을 이름으로 가지고 있음\n",
    " * 처음 보는 함수나 메소드는 help를 통해 help 출력을 보고 이해하도록 하자! "
   ]
  },
  {
   "cell_type": "markdown",
   "metadata": {},
   "source": [
    "## 1. append\n",
    "\n",
    "* The append() method adds an item to the end of the list.  \n",
    "* return값 없음"
   ]
  },
  {
   "cell_type": "code",
   "execution_count": 4,
   "metadata": {},
   "outputs": [
    {
     "name": "stdout",
     "output_type": "stream",
     "text": [
      "['red', 'blue', 'yellow', 'red', 'while']\n"
     ]
    }
   ],
   "source": [
    "#1. append\n",
    "colors=['red', 'blue', 'yellow', 'red']\n",
    "colors.append('while')\n",
    "print(colors)\n"
   ]
  },
  {
   "cell_type": "code",
   "execution_count": 3,
   "metadata": {},
   "outputs": [
    {
     "name": "stdout",
     "output_type": "stream",
     "text": [
      "Help on built-in function append:\n",
      "\n",
      "append(object, /) method of builtins.list instance\n",
      "    Append object to the end of the list.\n",
      "\n"
     ]
    }
   ],
   "source": [
    "help([].append)"
   ]
  },
  {
   "cell_type": "code",
   "execution_count": null,
   "metadata": {},
   "outputs": [],
   "source": [
    "#append 예제 #1\n",
    "\n",
    "score=[100, 99, 89]\n",
    "\n",
    "score.append(90)\n",
    "print(score)"
   ]
  },
  {
   "cell_type": "code",
   "execution_count": 5,
   "metadata": {},
   "outputs": [
    {
     "name": "stdout",
     "output_type": "stream",
     "text": [
      "[1, 2, 3, 4, 5, 6, 7, 8, 9, 10]\n"
     ]
    }
   ],
   "source": [
    "#append 예제 #2\n",
    "\n",
    "result=[]\n",
    "for n in range(1, 10+1):\n",
    "    result.append(n)\n",
    "    \n",
    "print(result)"
   ]
  },
  {
   "cell_type": "code",
   "execution_count": null,
   "metadata": {},
   "outputs": [],
   "source": [
    "#append 예제 #3\n",
    "\n",
    "# animals list\n",
    "animals = ['cat', 'dog', 'rabbit']\n",
    "\n",
    "# list of wild animals\n",
    "wild_animals = ['tiger', 'fox']\n",
    "\n",
    "# appending wild_animals list to the animals list\n",
    "animals.append(wild_animals)\n",
    "\n",
    "print('Updated animals list: ', animals)"
   ]
  },
  {
   "cell_type": "markdown",
   "metadata": {},
   "source": [
    "## 2. clear\n",
    "\n",
    "* The clear() method removes all items from the list. \n",
    "* return값 없음"
   ]
  },
  {
   "cell_type": "code",
   "execution_count": 6,
   "metadata": {},
   "outputs": [
    {
     "name": "stdout",
     "output_type": "stream",
     "text": [
      "Help on built-in function clear:\n",
      "\n",
      "clear() method of builtins.list instance\n",
      "    Remove all items from list.\n",
      "\n"
     ]
    }
   ],
   "source": [
    "help([].clear)"
   ]
  },
  {
   "cell_type": "code",
   "execution_count": 7,
   "metadata": {},
   "outputs": [
    {
     "name": "stdout",
     "output_type": "stream",
     "text": [
      "data: []\n"
     ]
    }
   ],
   "source": [
    "# clear 예제 #1\n",
    "\n",
    "data = [{1, 2}, ('a'), ['1.1', '2.2']]\n",
    "\n",
    "# clearing the list\n",
    "data.clear()\n",
    "\n",
    "print('data:', data)"
   ]
  },
  {
   "cell_type": "code",
   "execution_count": 8,
   "metadata": {},
   "outputs": [
    {
     "name": "stdout",
     "output_type": "stream",
     "text": [
      "data: []\n"
     ]
    }
   ],
   "source": [
    "#2. clear\n",
    "data = [{1, 2}, ('a'), ['1.1', '2.2']]\n",
    "data.clear()\n",
    "print('data:', data)\n"
   ]
  },
  {
   "cell_type": "code",
   "execution_count": null,
   "metadata": {},
   "outputs": [],
   "source": [
    "# clear와 같은 결과를 만드는 del\n",
    "\n",
    "data = [{1, 2}, ('a'), ['1.1', '2.2']]\n",
    "\n",
    "# clearing the list\n",
    "del data[:]\n",
    "\n",
    "print('data:', data)"
   ]
  },
  {
   "cell_type": "code",
   "execution_count": null,
   "metadata": {},
   "outputs": [],
   "source": [
    "# 요소를 지울 때 del을 사용해도 OK\n",
    "\n",
    "data = [{1, 2}, ('a'), ['1.1', '2.2'], 'hafs', 'yes']\n",
    "\n",
    "# clearing the list\n",
    "print('before del:',data)\n",
    "del data[0]\n",
    "print('after del data[0]:', data)\n",
    "\n",
    "del data[0:2]\n",
    "print('after datap[0:2]:', data)"
   ]
  },
  {
   "cell_type": "markdown",
   "metadata": {},
   "source": [
    "# 리스트 초기화\n",
    "\n",
    "1. alist.clear()\n",
    "2. del alist[:]\n",
    "3. alist[:] = []\n",
    "4. alist *= 0\n",
    "\n",
    "퍼포먼스 : 4 > 1 > 2 == 3"
   ]
  },
  {
   "cell_type": "code",
   "execution_count": null,
   "metadata": {},
   "outputs": [],
   "source": [
    "# 리스트를  reset(초기화)는 여러가지 방법\n",
    "\n",
    "a=[1,2]\n",
    "# a.clear()\n",
    "# del a[:]\n",
    "# a[:]=[:]\n",
    "# a*=0\n",
    "a[:]=list()\n",
    "print(a)"
   ]
  },
  {
   "cell_type": "markdown",
   "metadata": {},
   "source": [
    "## 3. copy\n",
    "\n",
    "* The copy() method returns a shallow copy of the list.  \n"
   ]
  },
  {
   "cell_type": "code",
   "execution_count": null,
   "metadata": {},
   "outputs": [],
   "source": [
    "help([].copy)"
   ]
  },
  {
   "cell_type": "code",
   "execution_count": null,
   "metadata": {},
   "outputs": [],
   "source": [
    "# mixed list\n",
    "my_list = ['cat', 0, 6.7]\n",
    "\n",
    "# copying a list\n",
    "new_list = my_list.copy()\n",
    "\n",
    "print('Copied List:', new_list)"
   ]
  },
  {
   "cell_type": "code",
   "execution_count": null,
   "metadata": {},
   "outputs": [],
   "source": [
    "# shallow copy using the slicing syntax\n",
    "\n",
    "# mixed list\n",
    "list = ['cat', 0, 6.7]\n",
    "\n",
    "# copying a list using slicing\n",
    "new_list = list[:]\n",
    "\n",
    "# Adding an element to the new list\n",
    "new_list.append('dog')\n",
    "\n",
    "# Printing new and old list\n",
    "print('Old List:', list)\n",
    "print('New List:', new_list)"
   ]
  },
  {
   "cell_type": "code",
   "execution_count": null,
   "metadata": {},
   "outputs": [],
   "source": [
    "# 리스의의 요소가 리스트일 때 shaloow copy  동작방식 확인\n",
    "\n",
    "old_list=[1,2,[3,4]] # list 안에 mutable객체가 있는 경우\n",
    "new_list=old_list.copy()\n",
    "\n",
    "old_list.append(5)\n",
    "print('old:',old_list, '\\nnew:',new_list)\n",
    "print()\n",
    "\n",
    "new_list.append(6)\n",
    "print('old:',old_list, '\\nnew:',new_list)\n",
    "print()\n",
    "\n",
    "#리스트객체는 분리가 되었지만 리스트안에 있는 mutable 객체는 분리가 안됨\n",
    "old_list[2].insert(2,7)\n",
    "\n",
    "old_list[2].append(7)\n",
    "print('old:',old_list, '\\nnew:',new_list)\n",
    "print()\n",
    "\n",
    "new_list[2].append(8)\n",
    "print('old:',old_list, '\\nnew:',new_list)"
   ]
  },
  {
   "cell_type": "markdown",
   "metadata": {},
   "source": [
    "## 4. count\n",
    "\n",
    "* The count() method returns the number of times the specified element appears in the list. \n"
   ]
  },
  {
   "cell_type": "code",
   "execution_count": 9,
   "metadata": {},
   "outputs": [
    {
     "name": "stdout",
     "output_type": "stream",
     "text": [
      "Help on built-in function count:\n",
      "\n",
      "count(value, /) method of builtins.list instance\n",
      "    Return number of occurrences of value.\n",
      "\n"
     ]
    }
   ],
   "source": [
    "help([].count)"
   ]
  },
  {
   "cell_type": "code",
   "execution_count": 12,
   "metadata": {},
   "outputs": [
    {
     "name": "stdout",
     "output_type": "stream",
     "text": [
      "The count of i is: 2\n",
      "The count of p is: 0\n",
      "The count of s is: 0\n"
     ]
    }
   ],
   "source": [
    "# count 예제\n",
    "\n",
    "# vowels list\n",
    "vowels = ['a', 'e', 'i', 'o', 'i', 'u']\n",
    "\n",
    "# count element 'i'\n",
    "count = vowels.count('i')\n",
    "\n",
    "# print count\n",
    "print('The count of i is:', count)\n",
    "\n",
    "# count element 'p'\n",
    "count = vowels.count('p')\n",
    "\n",
    "# print count\n",
    "print('The count of p is:', count)\n",
    "#없는 것을 count 하면 0이 나옴\n",
    "print('The count of s is:', vowels.count('s'))"
   ]
  },
  {
   "cell_type": "code",
   "execution_count": 11,
   "metadata": {},
   "outputs": [
    {
     "name": "stdout",
     "output_type": "stream",
     "text": [
      "2\n"
     ]
    }
   ],
   "source": [
    "#4. count\n",
    "colors=['red', 'blue', 'yellow', 'red']\n",
    "print(colors.count('red'))"
   ]
  },
  {
   "cell_type": "markdown",
   "metadata": {},
   "source": [
    "## 5. extend\n",
    "\n",
    "* The extend() method adds all the elements of an iterable (list, tuple, string etc.) to the end of the list.  \n",
    "* list_data.extend(iterable)\n",
    "* append는 list 에 iterable 상관없이 원소를 추가 시키는데, extend는 iterable 의 원소를 추가한다."
   ]
  },
  {
   "cell_type": "code",
   "execution_count": 13,
   "metadata": {},
   "outputs": [
    {
     "name": "stdout",
     "output_type": "stream",
     "text": [
      "Help on built-in function extend:\n",
      "\n",
      "extend(iterable, /) method of builtins.list instance\n",
      "    Extend list by appending elements from the iterable.\n",
      "\n"
     ]
    }
   ],
   "source": [
    "help([].extend)"
   ]
  },
  {
   "cell_type": "code",
   "execution_count": 14,
   "metadata": {},
   "outputs": [
    {
     "name": "stdout",
     "output_type": "stream",
     "text": [
      "Language List: ['French', 'English', 'Spanish', 'korean']\n"
     ]
    }
   ],
   "source": [
    "# language list\n",
    "language = ['French', 'English']\n",
    "\n",
    "# another list of language\n",
    "language1 = ['Spanish', 'korean']\n",
    "\n",
    "# appending language1 elements to language\n",
    "language.extend(language1)\n",
    "\n",
    "print('Language List:', language)"
   ]
  },
  {
   "cell_type": "code",
   "execution_count": 19,
   "metadata": {},
   "outputs": [],
   "source": [
    "colors=['red', 'blue', 'yellow', 'red']\n",
    "# 다음 두 줄의 차이\n",
    "# colors.extend(1) # 오류 발생\n",
    "# colors.append(1)\n",
    "\n",
    "# 이 줄의 실행 결과는?\n",
    "# colors.extend('hafs')"
   ]
  },
  {
   "cell_type": "code",
   "execution_count": 15,
   "metadata": {},
   "outputs": [
    {
     "name": "stdout",
     "output_type": "stream",
     "text": [
      "Language List: ['French', 'English', 'k', 'o', 'r', 'e', 'a', 'n']\n"
     ]
    }
   ],
   "source": [
    "# itrable 인 string일때 extend 동작 \n",
    "\n",
    "# language list\n",
    "language = ['French', 'English']\n",
    "\n",
    "# another string of language\n",
    "language1 = 'korean'\n",
    "\n",
    "# appending language1 elements to language\n",
    "language.extend(language1)\n",
    "\n",
    "print('Language List:', language)"
   ]
  },
  {
   "cell_type": "code",
   "execution_count": null,
   "metadata": {},
   "outputs": [],
   "source": [
    "# iterable 인 튜플과 집합의 경우 extend\n",
    "\n",
    "# language list\n",
    "language = ['French']\n",
    "\n",
    "# language tuple\n",
    "language_tuple = ('Spanish', 'korean')\n",
    "\n",
    "# language set\n",
    "language_set = {'Chinese', 'Japanese'}\n",
    "\n",
    "# appending language_tuple elements to language\n",
    "language.extend(language_tuple)\n",
    "\n",
    "print('New Language List:', language)\n",
    "\n",
    "# appending language_set elements to language\n",
    "language.extend(language_set)\n",
    "\n",
    "print('Newer Language List:', language)"
   ]
  },
  {
   "cell_type": "code",
   "execution_count": null,
   "metadata": {},
   "outputs": [],
   "source": [
    "# 리스트의 + 연산이 가져오는 결과도 extend\n",
    "\n",
    "a = [1, 2]\n",
    "b = [3, 4]\n",
    "\n",
    "a += b    # a = a + b\n",
    "\n",
    "# Output: [1, 2, 3, 4]\n",
    "print('a =', a)"
   ]
  },
  {
   "cell_type": "code",
   "execution_count": null,
   "metadata": {},
   "outputs": [],
   "source": [
    "# 슬라이싱으로 만드는 extend\n",
    "\n",
    "a = [1, 2]\n",
    "b = [3, 4]\n",
    "\n",
    "a[len(a):] = b\n",
    "\n",
    "# Output: [1, 2, 3, 4]\n",
    "print('a =', a)"
   ]
  },
  {
   "cell_type": "code",
   "execution_count": null,
   "metadata": {},
   "outputs": [],
   "source": [
    "# append vs extend\n",
    "    \n",
    "a1 = [1, 2]\n",
    "a2 = [1, 2]\n",
    "b = (3, 4)\n",
    "\n",
    "a1.extend(b) \n",
    "print(a1)\n",
    "\n",
    "a2.append(b)\n",
    "print(a2)"
   ]
  },
  {
   "cell_type": "markdown",
   "metadata": {},
   "source": [
    "## 6. index\n",
    "\n",
    "* The index() method returns the index of the specified element in the list.  \n",
    "* list_data.index(element, start, end)   \n",
    ">element - the element to be searched  \n",
    ">start (optional) - start searching from this index  \n",
    ">end (optional) - search the element up to this index\n",
    "\n"
   ]
  },
  {
   "cell_type": "code",
   "execution_count": 20,
   "metadata": {},
   "outputs": [
    {
     "name": "stdout",
     "output_type": "stream",
     "text": [
      "Help on built-in function index:\n",
      "\n",
      "index(value, start=0, stop=9223372036854775807, /) method of builtins.list instance\n",
      "    Return first index of value.\n",
      "    \n",
      "    Raises ValueError if the value is not present.\n",
      "\n"
     ]
    }
   ],
   "source": [
    "help([].index)"
   ]
  },
  {
   "cell_type": "code",
   "execution_count": null,
   "metadata": {},
   "outputs": [],
   "source": [
    "#5. extend\n",
    "colors=['red', 'blue', 'yellow', 'red']\n",
    "\n",
    "# 다음 두줄의 차이는?\n",
    "colors.extend(1)\n",
    "colors.append(1)\n",
    "\n",
    "colors.extend(['cyan', 'green'])\n",
    "print(colors)\n",
    "colors.append(['cyan', 'green'])  # append와 extend의 차이점을 확인하세요\n",
    "print(colors)\n"
   ]
  },
  {
   "cell_type": "code",
   "execution_count": null,
   "metadata": {},
   "outputs": [],
   "source": [
    "#6. index\n",
    "colors=['red', 'blue', 'yellow', 'red']\n",
    "\n",
    "print(f\"blue의 위치 : {colors.index('blue')}\") \n",
    "print(f\"red의 위치 : {colors.index('red')}\") # 찾는 요소가 두개면 어떤 요소의 위치를 반환하는가?\n",
    "# print(f\"black의 위치 : {colors.index('black')}\") # black이라는 요소는 없음. 없는걸 찾으면 오류"
   ]
  },
  {
   "cell_type": "code",
   "execution_count": 24,
   "metadata": {},
   "outputs": [
    {
     "name": "stdout",
     "output_type": "stream",
     "text": [
      "The index of e: 1\n",
      "The index of i: 2\n"
     ]
    }
   ],
   "source": [
    "# vowels list\n",
    "vowels = ['a', 'e', 'i', 'o', 'i', 'u']\n",
    "\n",
    "# index of 'e' in vowels\n",
    "index = vowels.index('e')\n",
    "print('The index of e:', index)\n",
    "\n",
    "# element 'i' is searched\n",
    "# index of the first 'i' is returned\n",
    "index = vowels.index('i')\n",
    "\n",
    "print('The index of i:', index)"
   ]
  },
  {
   "cell_type": "code",
   "execution_count": null,
   "metadata": {},
   "outputs": [],
   "source": [
    "# vowels list\n",
    "vowels = ['a', 'e', 'i', 'o', 'u']\n",
    "\n",
    "# index of'p' is vowels\n",
    "index = vowels.index('p')\n",
    "print('The index of p:', index)"
   ]
  },
  {
   "cell_type": "code",
   "execution_count": null,
   "metadata": {},
   "outputs": [],
   "source": [
    "# alphabets list\n",
    "alphabets = ['a', 'e', 'i', 'o', 'g', 'l', 'i', 'u']\n",
    "\n",
    "# index of 'i' in alphabets\n",
    "index = alphabets.index('e')   # 2\n",
    "print('The index of e:', index)\n",
    "\n",
    "# 'i' after the 4th index is searched\n",
    "index = alphabets.index('i', 4)   # 6\n",
    "print('The index of i:', index)\n",
    "\n",
    "# 'i' between 3rd and 5th index is searched\n",
    "index = alphabets.index('i', 3, 5)   # Error!\n",
    "print('The index of i:', index)"
   ]
  },
  {
   "cell_type": "markdown",
   "metadata": {},
   "source": [
    "## 7. insert\n",
    "\n",
    "* The list insert() method inserts an element to the list at the specified index.  \n",
    "* list_data.nsert(i, elem)\n",
    "* insert는 append와 다르게 원소를 index 자리에 추가하고 뒤에 있는 원소는 뒤로 1칸 씩 민다.\n",
    "\n",
    ">index - the index where the element needs to be inserted  \n",
    ">element - this is the element to be inserted in the list\n"
   ]
  },
  {
   "cell_type": "code",
   "execution_count": 25,
   "metadata": {},
   "outputs": [
    {
     "name": "stdout",
     "output_type": "stream",
     "text": [
      "Help on built-in function insert:\n",
      "\n",
      "insert(index, object, /) method of builtins.list instance\n",
      "    Insert object before index.\n",
      "\n"
     ]
    }
   ],
   "source": [
    "    help([].insert)"
   ]
  },
  {
   "cell_type": "code",
   "execution_count": null,
   "metadata": {},
   "outputs": [],
   "source": [
    "#7. insert\n",
    "colors=['red', 'blue', 'yellow', 'red']\n",
    "\n",
    "colors.insert(1,'gray')\n",
    "print(colors)\n",
    "colors.insert(-1,'pink') # append와의 차이점을 확인하세요. 지금 리스트에서 -1 자리에 'pink'가 가고 'red'는 한 칸 밀림.\n",
    "print(colors)\n"
   ]
  },
  {
   "cell_type": "code",
   "execution_count": null,
   "metadata": {},
   "outputs": [],
   "source": [
    "# vowel list\n",
    "vowel = ['a', 'e', 'i', 'u']\n",
    "\n",
    "# 'o' is inserted at index 3\n",
    "# the position of 'o' will be 4th\n",
    "vowel.insert(3, 'o')\n",
    "\n",
    "print('Updated List:', vowel)"
   ]
  },
  {
   "cell_type": "code",
   "execution_count": null,
   "metadata": {},
   "outputs": [],
   "source": [
    "mixed_list = [{1, 2}, [5, 6, 7]]\n",
    "\n",
    "# number tuple\n",
    "number_tuple = (3, 4)\n",
    "\n",
    "# inserting a tuple to the list\n",
    "mixed_list.insert(1, number_tuple)\n",
    "\n",
    "print('Updated List:', mixed_list)"
   ]
  },
  {
   "cell_type": "markdown",
   "metadata": {},
   "source": [
    "## 8. pop\n",
    "\n",
    "* The pop() method removes the item at the given index from the list and returns the removed item.  \n",
    "* list_data.pop(index)\n",
    "\n",
    "\n",
    ">The argument passed to the method is optional. If not passed, the default index -1 is passed as an argument (index of the last item).\n"
   ]
  },
  {
   "cell_type": "code",
   "execution_count": 26,
   "metadata": {},
   "outputs": [
    {
     "name": "stdout",
     "output_type": "stream",
     "text": [
      "Help on built-in function pop:\n",
      "\n",
      "pop(index=-1, /) method of builtins.list instance\n",
      "    Remove and return item at index (default last).\n",
      "    \n",
      "    Raises IndexError if list is empty or index is out of range.\n",
      "\n"
     ]
    }
   ],
   "source": [
    "    help([].pop)"
   ]
  },
  {
   "cell_type": "code",
   "execution_count": 30,
   "metadata": {},
   "outputs": [
    {
     "name": "stdout",
     "output_type": "stream",
     "text": [
      "Return Value: French\n",
      "Updated List: ['Python', 'Java', 'C++', 'C']\n"
     ]
    }
   ],
   "source": [
    "# programming languages list\n",
    "languages = ['Python', 'Java', 'C++', 'French', 'C']\n",
    "\n",
    "# remove and return the 4th item\n",
    "return_value = languages.pop(3)\n",
    "print('Return Value:', return_value) #pop은 요소를 삭제하고 반환한다. 반환된 값은 삭제된 요소이다. 디폴트 값은 index: -1 이다. # Updated List\n",
    "print('Updated List:', languages)"
   ]
  },
  {
   "cell_type": "code",
   "execution_count": 31,
   "metadata": {},
   "outputs": [
    {
     "name": "stdout",
     "output_type": "stream",
     "text": [
      "['red', 'ornage', 'yellow', 'green', 'yellow', 'red']\n",
      "red\n",
      "['red', 'ornage', 'yellow', 'green', 'yellow']\n",
      "red\n",
      "['ornage', 'yellow', 'green', 'yellow']\n"
     ]
    }
   ],
   "source": [
    "#8. pop\n",
    "\n",
    "colors=['red','ornage', 'yellow','green', 'yellow','red']\n",
    "print(colors)\n",
    "\n",
    "print(colors.pop())\n",
    "print(colors)\n",
    "\n",
    "print(colors.pop(0))\n",
    "print(colors)\n"
   ]
  },
  {
   "cell_type": "code",
   "execution_count": null,
   "metadata": {},
   "outputs": [],
   "source": [
    "# programming languages list\n",
    "languages = ['Python', 'Java', 'C++', 'Ruby', 'C']\n",
    "\n",
    "# remove and return the last item\n",
    "print('When index is not passed:') \n",
    "print('Return Value:', languages.pop())\n",
    "print('Updated List:', languages)\n",
    "\n",
    "# remove and return the last item\n",
    "print('\\nWhen -1 is passed:') \n",
    "print('Return Value:', languages.pop(-1))\n",
    "print('Updated List:', languages)\n",
    "\n",
    "# remove and return the third last item\n",
    "print('\\nWhen -3 is passed:') \n",
    "print('Return Value:', languages.pop(-3))\n",
    "print('Updated List:', languages)"
   ]
  },
  {
   "cell_type": "markdown",
   "metadata": {},
   "source": [
    "## 9. remove\n",
    "\n",
    "* The remove() method removes the first matching element (which is passed as an argument) from the list.  \n",
    "* list_data.remove(element)\n",
    "\n",
    "\n",
    ">The remove() method takes a single element as an argument and removes it from the list.  \n",
    ">If the element doesn't exist, it throws ValueError: list.remove(x): x not in list exception.\n",
    "\n"
   ]
  },
  {
   "cell_type": "code",
   "execution_count": 1,
   "metadata": {},
   "outputs": [
    {
     "name": "stdout",
     "output_type": "stream",
     "text": [
      "Help on built-in function remove:\n",
      "\n",
      "remove(value, /) method of builtins.list instance\n",
      "    Remove first occurrence of value.\n",
      "    \n",
      "    Raises ValueError if the value is not present.\n",
      "\n"
     ]
    }
   ],
   "source": [
    "    help([].remove)"
   ]
  },
  {
   "cell_type": "code",
   "execution_count": 3,
   "metadata": {},
   "outputs": [
    {
     "name": "stdout",
     "output_type": "stream",
     "text": [
      "['orange', 'yellow', 'green', 'yellow', 'red']\n"
     ]
    }
   ],
   "source": [
    "#9. remove\n",
    "colors=['red','orange', 'yellow','green', 'yellow','red']\n",
    "\n",
    "colors.remove('red') # 지울 요소가 두개면 어떤 요소를 지우는가?\n",
    "print(colors)\n",
    "# colors.remove('black') # black이라는 요소는 없음. 없는걸 지우면 오류\n"
   ]
  },
  {
   "cell_type": "code",
   "execution_count": null,
   "metadata": {},
   "outputs": [],
   "source": [
    "# animals list\n",
    "animals = ['cat', 'dog', 'rabbit', 'guinea pig']\n",
    "\n",
    "# 'rabbit' is removed\n",
    "animals.remove('rabbit')\n",
    "\n",
    "# Updated animals List\n",
    "print('Updated animals list: ', animals)"
   ]
  },
  {
   "cell_type": "code",
   "execution_count": null,
   "metadata": {},
   "outputs": [],
   "source": [
    "# animals list\n",
    "animals = ['cat', 'dog', 'dog', 'guinea pig', 'dog']\n",
    "\n",
    "# 'dog' is removed\n",
    "animals.remove('dog')\n",
    "\n",
    "# Updated animals list\n",
    "print('Updated animals list: ', animals)"
   ]
  },
  {
   "cell_type": "code",
   "execution_count": null,
   "metadata": {},
   "outputs": [],
   "source": [
    "# animals list\n",
    "animals = ['cat', 'dog', 'rabbit', 'guinea pig']\n",
    "\n",
    "# Deleting 'fish' element\n",
    "animals.remove('fish')\n",
    "\n",
    "# Updated animals List\n",
    "print('Updated animals list: ', animals)"
   ]
  },
  {
   "cell_type": "markdown",
   "metadata": {},
   "source": [
    "## 10. reverse\n",
    "\n",
    "* The reverse() method reverses the elements of the list.\n",
    "\n",
    "\n",
    ">The reverse() method doesn't return any value. It updates the existing list.\n",
    "\n",
    "reverse는 원본에 영향을 주지 않는다. 메소드 reverse 를 썼다고 해서 원본이 reversed가 되는 것이 아님"
   ]
  },
  {
   "cell_type": "code",
   "execution_count": 4,
   "metadata": {},
   "outputs": [
    {
     "name": "stdout",
     "output_type": "stream",
     "text": [
      "Help on built-in function reverse:\n",
      "\n",
      "reverse() method of builtins.list instance\n",
      "    Reverse *IN PLACE*.\n",
      "\n"
     ]
    }
   ],
   "source": [
    "        help([].reverse)"
   ]
  },
  {
   "cell_type": "code",
   "execution_count": null,
   "metadata": {},
   "outputs": [],
   "source": [
    "#10. reverse\n",
    "colors=['red','ornage', 'yellow','green', 'yellow','red']\n",
    "\n",
    "colors.reverse()\n",
    "print(colors)\n",
    "\n",
    "# 슬라이싱을 이용한 reverse\n",
    "print(colors[::-1])\n",
    "print(colors)"
   ]
  },
  {
   "cell_type": "code",
   "execution_count": null,
   "metadata": {},
   "outputs": [],
   "source": [
    "# Operating System List\n",
    "systems = ['Windows', 'macOS', 'Linux']\n",
    "print('Original List:', systems)\n",
    "\n",
    "# List Reverse\n",
    "systems.reverse()\n",
    "\n",
    "# updated list\n",
    "print('Updated List:', systems)"
   ]
  },
  {
   "cell_type": "code",
   "execution_count": null,
   "metadata": {},
   "outputs": [],
   "source": [
    "# Operating System List\n",
    "systems = ['Windows', 'macOS', 'Linux']\n",
    "print('Original List:', systems)\n",
    "\n",
    "# Reversing a list\t\n",
    "#Syntax: reversed_list = systems[start:stop:step] \n",
    "reversed_list = systems[::-1]\n",
    "\n",
    "# updated list\n",
    "print('Updated List:', reversed_list)"
   ]
  },
  {
   "cell_type": "code",
   "execution_count": null,
   "metadata": {},
   "outputs": [],
   "source": [
    "# Operating System List\n",
    "systems = ['Windows', 'macOS', 'Linux']\n",
    "\n",
    "# Printing Elements in Reversed Order\n",
    "for os in reversed(systems):\n",
    "    print(os)"
   ]
  },
  {
   "cell_type": "markdown",
   "metadata": {},
   "source": [
    "## 11. sort\n",
    "\n",
    "* The sort() method sorts the elements of a given list in a specific ascending or descending order.  \n",
    "* list_data.sort(key=..., reverse=...)\n",
    "\n",
    "\n",
    ">reverse - If True, the sorted list is reversed (or sorted in Descending order)  \n",
    ">key - function that serves as a key for the sort comparison\n",
    "\n",
    "\n",
    "* sort에서 사용하는 알고리즘  \n",
    "python에서의 정렬 함수 sorted()와 list.sort()에 사용된 정렬 알고리즘은 Timsort, 팀정렬입니다.  \n",
    "팀정렬은 파이썬 핵심 개발자인 팀 피터스에 의해서 Cpython에서 처음으로 구현되었으며 2009년 이후 표준 자바 및 안드로이드, swift 등 여러 언어에서 사용되고 있습니다.  \n",
    "이는 데이터의 정렬된 정도에 따라 삽입정렬과 병합정렬 사이를 전환하는 적응형 알고리즘입니다. 두 정렬방법을 결합했기에 안정적이며, 추가 메모리는 사용하지만 기존의 병합정렬에 비해 적은 추가메모리를 사용하여 다른 O(nlogn) 정렬 알고리즘의 단점을 최대한 극복한 알고리즘입니다."
   ]
  },
  {
   "cell_type": "code",
   "execution_count": 5,
   "metadata": {},
   "outputs": [
    {
     "name": "stdout",
     "output_type": "stream",
     "text": [
      "Help on built-in function sort:\n",
      "\n",
      "sort(*, key=None, reverse=False) method of builtins.list instance\n",
      "    Sort the list in ascending order and return None.\n",
      "    \n",
      "    The sort is in-place (i.e. the list itself is modified) and stable (i.e. the\n",
      "    order of two equal elements is maintained).\n",
      "    \n",
      "    If a key function is given, apply it once to each list item and sort them,\n",
      "    ascending or descending, according to their function values.\n",
      "    \n",
      "    The reverse flag can be set to sort in descending order.\n",
      "\n"
     ]
    }
   ],
   "source": [
    "help([].sort)"
   ]
  },
  {
   "cell_type": "code",
   "execution_count": null,
   "metadata": {},
   "outputs": [],
   "source": [
    "#11. sort\n",
    "colors=['red','ornage', 'yellow','green', 'yellow','red']\n",
    "\n",
    "colors.sort()\n",
    "print(colors)\n",
    "\n",
    "colors.sort(reverse=True)\n",
    "print(colors)\n",
    "# sort는 내림차순default / reverse=True는 오름차순'\n",
    "# 차수가 다른 것보다 낮음\n"
   ]
  },
  {
   "cell_type": "code",
   "execution_count": null,
   "metadata": {
    "tags": []
   },
   "outputs": [],
   "source": [
    "# vowels list\n",
    "vowels = ['e', 'a', 'u', 'o', 'i']\n",
    "\n",
    "# sort the vowels\n",
    "vowels.sort()\n",
    "\n",
    "# print vowels\n",
    "print('Sorted list:', vowels)"
   ]
  },
  {
   "cell_type": "code",
   "execution_count": null,
   "metadata": {},
   "outputs": [],
   "source": [
    "# vowels list\n",
    "vowels = ['e', 'a', 'u', 'o', 'i']\n",
    "\n",
    "# sort the vowels\n",
    "vowels.sort(reverse=True)\n",
    "\n",
    "# print vowels\n",
    "print('Sorted list (in Descending):', vowels)"
   ]
  },
  {
   "cell_type": "code",
   "execution_count": null,
   "metadata": {},
   "outputs": [],
   "source": [
    "# take second element for sort\n",
    "def takeSecond(elem):\n",
    "    return elem[1]\n",
    "\n",
    "# random list\n",
    "random = [(2, 2), (3, 4), (4, 1), (1, 3)]\n",
    "\n",
    "# sort list with key\n",
    "random.sort(key=takeSecond)\n",
    "\n",
    "# print list\n",
    "print('Sorted list:', random)"
   ]
  },
  {
   "cell_type": "markdown",
   "metadata": {},
   "source": [
    "리스트명.copy()\n",
    "shallow copy(얕은 복사)가 일어난다.\n",
    "주소복사, shallow copy, deep copy 를 비교해서 알아두자.\n",
    "\n",
    "코드와 object의 변화를 실시간으로 살펴보기 http://pythontutor.com/live.html#mode=edit\n"
   ]
  },
  {
   "cell_type": "code",
   "execution_count": null,
   "metadata": {},
   "outputs": [],
   "source": [
    "a=[1,2]\n",
    "b=a #주소복사 / a가 링크하고 있는것을 b가 링크한다. -> a or b 바뀌면 둘다 바뀐다.\n",
    "\n",
    "a.append(3)\n",
    "print(a)\n",
    "print(b)"
   ]
  },
  {
   "cell_type": "code",
   "execution_count": null,
   "metadata": {},
   "outputs": [],
   "source": [
    "a=[1,2,[3,4]]\n",
    "b=a\n",
    "\n",
    "a.append(5)\n",
    "b[2].append(6)"
   ]
  },
  {
   "cell_type": "code",
   "execution_count": null,
   "metadata": {},
   "outputs": [],
   "source": [
    "# 주소 복사 #1\n",
    "\n",
    "a=[1,2]            # 단순 리스트\n",
    "b=a                # 주소복사, 사실상 a, b는 동일한 객체\n",
    "# print(f'before: a={a},b={b}, id 동일여부:{id(a)==id(b)}') \n",
    "print(f'b=a 결과 : a={a},b={b}')\n",
    "a.append(4)\n",
    "print(f'a.append(4) 결과 : a={a},b={b}')\n",
    "\n",
    "b.append(3)\n",
    "print(f'b.append(3) 결과 : a={a},b={b}')"
   ]
  },
  {
   "cell_type": "code",
   "execution_count": null,
   "metadata": {},
   "outputs": [],
   "source": [
    "#주소복사#2\n",
    "\n",
    "a=[1,2,[3,4]]      # nested list\n",
    "b=a\n",
    "# print(f'before: a={a},b={b}, a,b의 id 동일여부:{id(a)==id(b)}, a[2],b[2]의 id 동일 여부:{id(a[2])==id(b[2])}') \n",
    "print(f'b=a 결과 : a={a},b={b}')\n",
    "a.append(7)     #a에 변화를 주면 b가 같이 바뀐다.\n",
    "print(f'a.append(7) 결과 : a={a},b={b}')\n",
    "\n",
    "b[2].append(8)  #b에 변화를 주면 a가 같이 바뀐다. / 슬라이싱으로 새로운 함수\n",
    "print(f'b[2].append(8) 결과 : a={a},b={b}')\n"
   ]
  },
  {
   "cell_type": "code",
   "execution_count": null,
   "metadata": {},
   "outputs": [],
   "source": [
    "a=[1,2]\n",
    "b=a.copy()\n",
    "c=a # b가 변했음에도 불구하고 a에는 영향을 주지 않는다. \n",
    "#단순 리스트일 때 shallow copy하면 새로 만들어진다. \n",
    "#얕은 것만 복제가 따로 된다."
   ]
  },
  {
   "cell_type": "code",
   "execution_count": null,
   "metadata": {},
   "outputs": [],
   "source": [
    "# shallow copy(얕은 복사) #1 단순리스트\n",
    "\n",
    "a=[1,2]            # 단순 리스트\n",
    "b=a.copy()     # 주소복사와는 다른 shallow copy, a[:]를 써도 된다.\n",
    "# b=a[:]       # shallow copy\n",
    "# b=list(a)    # shallow copy. \n",
    "'''\n",
    "b=a\n",
    "c=a.copy() 로 실시간 object를 확인해보면서 \n",
    "주소복사와  shallow copy의 차이점을 확실히 파악해보자\n",
    "'''\n",
    "# print(f'before: a={a},b={b}, id 동일여부:{id(a)==id(b)}') \n",
    "print(f'b=a.copy() 결과 : a={a},b={b}')\n",
    "a.append(4)\n",
    "print(f'a.append(4) 결과 : a={a},b={b}')\n",
    "\n",
    "b.append(3)\n",
    "print(f'b.append(3) 결과 : a={a},b={b}')\n"
   ]
  },
  {
   "cell_type": "code",
   "execution_count": null,
   "metadata": {},
   "outputs": [],
   "source": [
    "# shallow copy의 여러가지 방법\n",
    "''' \n",
    "b=a.copy() # 방법1\n",
    "b=a[:]   # 방법2\n",
    "b=list(a) # 방법3, 잘 안쓰는 방법\n",
    "\n",
    "import copy  # copy 모듈 사용\n",
    "b=copy.copy(a) # 방법4 앞의 copy는 모듈, 뒤의 copy는 함수          \n",
    " 1,3,4 는 자주 사용하지만 3은 자주 사용하지 않음\n",
    "'''"
   ]
  },
  {
   "cell_type": "code",
   "execution_count": null,
   "metadata": {},
   "outputs": [],
   "source": [
    "# copy 모듈 사용\n",
    "a=[1,2,[3,4]]\n",
    "\n",
    "b=a.copy()\n",
    "c=a[:]\n",
    "d=list(a)\n",
    "\n",
    "import copy\n",
    "e=copy.copy(a)"
   ]
  }
 ],
 "metadata": {
  "interpreter": {
   "hash": "4f946df053fbf2b937619d3c5458e7af74262f9a954d8797ba0b27400bcafe06"
  },
  "kernelspec": {
   "display_name": "Python 3.8.12 64-bit",
   "language": "python",
   "name": "python3"
  },
  "language_info": {
   "codemirror_mode": {
    "name": "ipython",
    "version": 3
   },
   "file_extension": ".py",
   "mimetype": "text/x-python",
   "name": "python",
   "nbconvert_exporter": "python",
   "pygments_lexer": "ipython3",
   "version": "3.8.12"
  }
 },
 "nbformat": 4,
 "nbformat_minor": 4
}
