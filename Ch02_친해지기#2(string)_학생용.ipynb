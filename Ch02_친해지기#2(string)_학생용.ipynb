{
 "cells": [
  {
   "cell_type": "markdown",
   "metadata": {},
   "source": [
    "# **파이썬과 친해지기**\n",
    "\n",
    "파이썬이 기본적으로 제공해 주는 자료형에 대한 내용.  \n",
    "모든 언어의 학습에서 가장 기초가 되고 중요한 부분.  \n",
    "\n",
    "파이썬의 기본 자료형에는  \n",
    ">int, float, complex, str, list, tuple, dicionary, set, bool\n",
    "\n",
    "등 9개가 있다."
   ]
  },
  {
   "cell_type": "markdown",
   "metadata": {
    "id": "IGVQ0OOZQqd7"
   },
   "source": [
    "* # 문자열 안에 ' 또는 \"를 넣고 싶을 때\n",
    "\n",
    "작은 따옴표, 큰 따옴표의 쓰임새를 파악하자.  \n",
    "문자열 중간에, 작은 따옴표, 큰 따옴표를 다 쓰고 싶으면?  Escape String을 이용한다.  \n",
    "\n",
    "|Escape String|기능|\n",
    "|:--:|--|\n",
    "|\\\\'|화면에 작은 따옴표 표시|\n",
    "|\\\\\"|화면에 큰 따옴표 표시|\n",
    "|\\n|줄 바꿈|\n",
    "| \\\\\\\\ |화면에 \\ 표시|\n",
    "|\\t|탭(tab)만큼 띄우기|"
   ]
  },
  {
   "cell_type": "code",
   "execution_count": null,
   "metadata": {
    "id": "0IVHcVq8M1zx"
   },
   "outputs": [],
   "source": [
    "# 작은 따옴표, 큰 따옴표의 쓰임새\n",
    "\n",
    "\n"
   ]
  },
  {
   "cell_type": "markdown",
   "metadata": {},
   "source": [
    "### [실습1] '그는 이렇게 말했다. \"난 hafs를 사랑해\" 라고' 를 따옴표까지 나오게 출력해 보세요."
   ]
  },
  {
   "cell_type": "code",
   "execution_count": null,
   "metadata": {},
   "outputs": [],
   "source": [
    "# your code\n"
   ]
  },
  {
   "cell_type": "markdown",
   "metadata": {
    "id": "IGVQ0OOZQqd7"
   },
   "source": [
    "* # 여러 줄 문자열 처리\n",
    "\n",
    "여러 줄 문자열은 보이는 그대로 출력해 준다."
   ]
  },
  {
   "cell_type": "code",
   "execution_count": null,
   "metadata": {
    "id": "0IVHcVq8M1zx"
   },
   "outputs": [],
   "source": [
    "# 여러줄 문자열 처리 \n",
    "\n",
    "\n"
   ]
  },
  {
   "cell_type": "markdown",
   "metadata": {
    "id": "IGVQ0OOZQqd7"
   },
   "source": [
    "* # 문자열 연산\n",
    "\n",
    "문자열+문자열  \n",
    "문자열*숫자"
   ]
  },
  {
   "cell_type": "code",
   "execution_count": null,
   "metadata": {
    "id": "0IVHcVq8M1zx"
   },
   "outputs": [],
   "source": [
    "# 문자열 +, *\n",
    "\n",
    "\n"
   ]
  },
  {
   "cell_type": "markdown",
   "metadata": {},
   "source": [
    "### [실습1] hafs  hafs  hafs  hafs  hafs  hafs  hafs  hafs  hafs  hafs  를 출력해보자."
   ]
  },
  {
   "cell_type": "code",
   "execution_count": null,
   "metadata": {},
   "outputs": [],
   "source": [
    "# your code\n"
   ]
  },
  {
   "cell_type": "markdown",
   "metadata": {
    "id": "IGVQ0OOZQqd7"
   },
   "source": [
    "* # 문자열 indexing\n",
    "\n",
    "문자열을 구성하는 각 문자는 (위치)번호-index를 이용하여 접근할 수 있다.  \n",
    "문자열[인덱스] 또는 문자열변수[인덱스]   \n",
    "ex) 'hafs'[0], school_name[0]\n"
   ]
  },
  {
   "cell_type": "code",
   "execution_count": null,
   "metadata": {
    "id": "0IVHcVq8M1zx"
   },
   "outputs": [],
   "source": [
    "# indexing 실습\n",
    "\n",
    "\n"
   ]
  },
  {
   "cell_type": "markdown",
   "metadata": {},
   "source": [
    "### [실습1] '대한민국'에서 '민'을 indexing해보자"
   ]
  },
  {
   "cell_type": "code",
   "execution_count": null,
   "metadata": {},
   "outputs": [],
   "source": [
    "# your code\n"
   ]
  },
  {
   "cell_type": "markdown",
   "metadata": {
    "id": "IGVQ0OOZQqd7"
   },
   "source": [
    "* # 문자열 slicing\n",
    "\n",
    "문자열의 일부분을 추출할 수 있다.  \n",
    "슬라이싱 결과에 제일 끝은 포함되지 않는다.  \n",
    "\n",
    "기본 폼은 문자열[start:stop:step]  \n",
    "step이 양수이면 슬라이싱 방향은 left to right, 음수이면 right to left"
   ]
  },
  {
   "cell_type": "code",
   "execution_count": null,
   "metadata": {
    "id": "0IVHcVq8M1zx"
   },
   "outputs": [],
   "source": [
    "# 슬라이싱 실습\n",
    "\n",
    "\n",
    "\n"
   ]
  },
  {
   "cell_type": "markdown",
   "metadata": {},
   "source": [
    "### [실습1] string='0123456789' 일때 슬라이싱과 문자열 연산을 이용해 963789 를 출력해 보세요."
   ]
  },
  {
   "cell_type": "code",
   "execution_count": null,
   "metadata": {},
   "outputs": [],
   "source": [
    "# your code\n"
   ]
  },
  {
   "cell_type": "markdown",
   "metadata": {
    "id": "IGVQ0OOZQqd7"
   },
   "source": [
    "* # 한번 만들어진 문자열은 불변! immutable\n",
    "\n",
    "문자열의 문자는 다른 문자로 변경할 수 없다.  \n",
    "즉 choijongwoa라는 스트링이 만들어지면 a를 o로바꿀 수 없다.  \n",
    "바꾸려면 새로 만드는 수 밖에!!"
   ]
  },
  {
   "cell_type": "code",
   "execution_count": null,
   "metadata": {
    "id": "0IVHcVq8M1zx"
   },
   "outputs": [],
   "source": [
    "# immutable 실습\n",
    "\n",
    "\n"
   ]
  },
  {
   "cell_type": "markdown",
   "metadata": {
    "id": "IGVQ0OOZQqd7"
   },
   "source": [
    "* # 문자열 관련 메소드(method)\n",
    "\n",
    "강력한(다양한, 효과적인, 뛰어난) 문자열 활용을 위해 메소드(함수) 사용은 필수!"
   ]
  },
  {
   "cell_type": "code",
   "execution_count": null,
   "metadata": {
    "id": "0IVHcVq8M1zx"
   },
   "outputs": [],
   "source": [
    "# 메소드 실습\n",
    "\n",
    "\n",
    "\n"
   ]
  },
  {
   "cell_type": "markdown",
   "metadata": {},
   "source": [
    "### [실습1] string='choi/jong/woo'일 때 /를 기준으로 split해보라"
   ]
  },
  {
   "cell_type": "code",
   "execution_count": null,
   "metadata": {},
   "outputs": [],
   "source": [
    "# your code\n"
   ]
  }
 ],
 "metadata": {
  "colab": {
   "authorship_tag": "ABX9TyNQqglfZlt1aAo0zl7IKr9n",
   "name": "Ch01_파이썬 맛보기.ipynb",
   "provenance": []
  },
  "kernelspec": {
   "display_name": "Python 3",
   "language": "python",
   "name": "python3"
  },
  "language_info": {
   "codemirror_mode": {
    "name": "ipython",
    "version": 3
   },
   "file_extension": ".py",
   "mimetype": "text/x-python",
   "name": "python",
   "nbconvert_exporter": "python",
   "pygments_lexer": "ipython3",
   "version": "3.8.8"
  },
  "widgets": {
   "application/vnd.jupyter.widget-state+json": {
    "state": {},
    "version_major": 2,
    "version_minor": 0
   }
  }
 },
 "nbformat": 4,
 "nbformat_minor": 4
}
