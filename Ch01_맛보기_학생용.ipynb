{
 "cells": [
  {
   "cell_type": "markdown",
   "metadata": {
    "colab_type": "text",
    "id": "8veHROGkOv-F"
   },
   "source": [
    "# ❑ 주석(Comment)\n",
    "\n",
    "프로그램에 전혀 영향을 주지 않는 코드로, 설명을 위해 사용.  <font color=red>#</font> 기호를 붙이면 #부터 그 이후의 글자는 주석처리됨(컴퓨터가 읽지 않음).   \n",
    "주석은 기술(skill)이 아니라 습관.  \n",
    "\n",
    "* 행단위 주석처리 : #을 사용. 일반적인 주석을 위해 사용.    \n",
    "~~~python\n",
    "# 주석처리 적용 문장 1\n",
    "# 주석처리 적용 문장 2\n",
    "# 주석처리 적용 문장 3\n",
    "~~~\n",
    "\n",
    "\n",
    "* 블록단위 문서(주석)처리 : 작은 따옴표 3개 연속 사용. 프로그램의 문서화 또는 시작 시 설명을 위해 주로 사용.  \n",
    "~~~python\n",
    "''' \n",
    "주석처리 적용 문장 1\n",
    "주석처리 적용 문장 2\n",
    "주석처리 적용 문장 3\n",
    "'''\n",
    "~~~\n",
    "\n",
    "\n",
    "* <font color=blue>Tip : Ctrl(Mac에서는 cmd) + /  또는 블럭 지정 후  Ctrl + /</font>"
   ]
  },
  {
   "cell_type": "markdown",
   "metadata": {
    "id": "IGVQ0OOZQqd7"
   },
   "source": [
    "# ❑ 값 출력하기 와 주석넣기\n",
    "\n",
    "print()는 화면에 값(value)을 출력하는 명령  \n",
    "#으로 주석처리하기"
   ]
  },
  {
   "cell_type": "code",
   "execution_count": 39,
   "metadata": {
    "colab": {
     "base_uri": "https://localhost:8080/"
    },
    "executionInfo": {
     "elapsed": 9,
     "status": "ok",
     "timestamp": 1644978270813,
     "user": {
      "displayName": "Jong-woo Choi",
      "photoUrl": "https://lh3.googleusercontent.com/a-/AOh14GggZ4k8kLx7dOF77fbaPH-AT-MSHGB46qurrPeBQA=s64",
      "userId": "10060612862027541196"
     },
     "user_tz": -540
    },
    "id": "0IVHcVq8M1zx",
    "outputId": "6771de53-6b2d-4822-9970-ff84bb3be08b"
   },
   "outputs": [],
   "source": [
    "# print(), # 실습\n",
    "\n",
    "\n"
   ]
  },
  {
   "cell_type": "code",
   "execution_count": null,
   "metadata": {},
   "outputs": [],
   "source": [
    "print('hafs')\n",
    "print(2022)\n",
    "print('hafs', 2022)\n",
    "print(1+2+3)\n",
    "print('입학을 축하합니다')\n",
    "#' \"\" 사이에 문자열을 넣어서 출력한다.\n",
    "# \",\"를 이용해서 여러개를 출력한다\n",
    "# print 함수 속에 식을 넣으면 결과를 계산해서 출력한다. "
   ]
  },
  {
   "cell_type": "code",
   "execution_count": 73,
   "metadata": {},
   "outputs": [
    {
     "name": "stdout",
     "output_type": "stream",
     "text": [
      "hello world\n"
     ]
    }
   ],
   "source": [
    "print('hello world')"
   ]
  },
  {
   "cell_type": "code",
   "execution_count": 79,
   "metadata": {},
   "outputs": [
    {
     "name": "stdout",
     "output_type": "stream",
     "text": [
      "1\n"
     ]
    }
   ],
   "source": [
    "a=1\n",
    "b=2\n",
    "print(b-a)"
   ]
  },
  {
   "cell_type": "markdown",
   "metadata": {
    "id": "IGVQ0OOZQqd7"
   },
   "source": [
    "# ❑ 변수와 변수 출력\n",
    "\n",
    "* 변수(varialbe)는 값(value)을 저장하는 공간이다.  \n",
    "* =는 equal의 의미가 아니라 assignment의 의미  \n",
    "* 변수=값 : 어떤 값을 변수에 할당하시오 의 의미  \n",
    "* = 오른쪽에 수식(연산식)이 있으면 연산의 결과를 변수에 할당한다"
   ]
  },
  {
   "cell_type": "code",
   "execution_count": 58,
   "metadata": {
    "colab": {
     "base_uri": "https://localhost:8080/"
    },
    "executionInfo": {
     "elapsed": 9,
     "status": "ok",
     "timestamp": 1644978270813,
     "user": {
      "displayName": "Jong-woo Choi",
      "photoUrl": "https://lh3.googleusercontent.com/a-/AOh14GggZ4k8kLx7dOF77fbaPH-AT-MSHGB46qurrPeBQA=s64",
      "userId": "10060612862027541196"
     },
     "user_tz": -540
    },
    "id": "0IVHcVq8M1zx",
    "outputId": "6771de53-6b2d-4822-9970-ff84bb3be08b"
   },
   "outputs": [],
   "source": [
    "# var_a와 var_b에는 각각 어떤 값이 저장될까?\n",
    "\n",
    "\n",
    "\n",
    "\n",
    "# 변수의 값은 불변이 아니다. 할당을 다시 하면 바뀐다. \n",
    "\n",
    "\n",
    "\n"
   ]
  },
  {
   "cell_type": "markdown",
   "metadata": {
    "id": "yGYgA-8JVwXE"
   },
   "source": [
    "### [실습1] 자신의 이름과 나이를 각각 변수에 저장하고 출력해 보자\n",
    "### [실습2] 자신의 좌우시력을 각각 변수에 저장하고 출력해 보자"
   ]
  },
  {
   "cell_type": "code",
   "execution_count": 59,
   "metadata": {
    "executionInfo": {
     "elapsed": 7,
     "status": "ok",
     "timestamp": 1644978270815,
     "user": {
      "displayName": "Jong-woo Choi",
      "photoUrl": "https://lh3.googleusercontent.com/a-/AOh14GggZ4k8kLx7dOF77fbaPH-AT-MSHGB46qurrPeBQA=s64",
      "userId": "10060612862027541196"
     },
     "user_tz": -540
    },
    "id": "CaqgGMrpVwXE"
   },
   "outputs": [],
   "source": [
    "# your code\n"
   ]
  },
  {
   "cell_type": "markdown",
   "metadata": {
    "id": "IGVQ0OOZQqd7"
   },
   "source": [
    "# ❑ variable naming rule\n",
    "\n",
    "* 영문, 숫자, _ 로 만든다 # 한글도 가능하지만 하지마라  \n",
    "* 시작은 반드시 영문자로\n",
    "* 변수명 중간에 공백은 안됨\n",
    "* 예약어, 내장함수 이름등은 변수명으로 사용 불가 예) True, for, print 등\n",
    "* 대소문자 구분 # Age와 age는 다른 변수  \n",
    "---\n",
    "* ### 사용 가능한 변수명  \n",
    "> sum, maxAge, next_value. \n",
    "\n",
    "* ### 사용 불가능한 변수명  \n",
    "> 2016year, user name, $wish, print\n",
    "\n",
    "* ### 좋은 변수명의 예\n",
    "> myage, school_name, address, score, eng_score\n",
    "\n",
    "* ### 나쁜 변수명의 예\n",
    "> abc, aaa, a1, a2, <font color=red>hafs, choi</font>  \n",
    "hafs, choi같은 것이 왜 나쁜 변수명일까?\n",
    "\n",
    "* 참고. 내장함수 목록  \n",
    "> https://docs.python.org/ko/3/library/functions.html"
   ]
  },
  {
   "cell_type": "code",
   "execution_count": 60,
   "metadata": {},
   "outputs": [],
   "source": [
    "# 파이썬 예약어 출력하기, 외우지 마세요\n",
    "\n",
    "\n",
    "\n"
   ]
  },
  {
   "cell_type": "markdown",
   "metadata": {
    "id": "IGVQ0OOZQqd7"
   },
   "source": [
    "# ❑ 간단한 연산 해보기\n",
    "\n",
    "산술 연산과 산술 연산자"
   ]
  },
  {
   "cell_type": "code",
   "execution_count": 61,
   "metadata": {
    "colab": {
     "base_uri": "https://localhost:8080/"
    },
    "executionInfo": {
     "elapsed": 9,
     "status": "ok",
     "timestamp": 1644978270813,
     "user": {
      "displayName": "Jong-woo Choi",
      "photoUrl": "https://lh3.googleusercontent.com/a-/AOh14GggZ4k8kLx7dOF77fbaPH-AT-MSHGB46qurrPeBQA=s64",
      "userId": "10060612862027541196"
     },
     "user_tz": -540
    },
    "id": "0IVHcVq8M1zx",
    "outputId": "6771de53-6b2d-4822-9970-ff84bb3be08b"
   },
   "outputs": [],
   "source": [
    "# 간단한 연산 실습\n",
    "\n",
    "\n"
   ]
  },
  {
   "cell_type": "markdown",
   "metadata": {
    "id": "5dosuTalQ75k"
   },
   "source": [
    "* #  문자열 맛보기"
   ]
  },
  {
   "cell_type": "code",
   "execution_count": 62,
   "metadata": {
    "id": "6ZLoD8tJRIcr"
   },
   "outputs": [],
   "source": [
    "# your code\n",
    "\n",
    "\n"
   ]
  },
  {
   "cell_type": "markdown",
   "metadata": {
    "id": "qwAszm7iVwXH"
   },
   "source": [
    "### [실습1] 자신이 전공하고 싶은 학과명을 변수에 저장하고 출력해 보자\n",
    "### [실습2] 가장 감명깊게 읽으 책제목과 저자를 각각 변수에 저장하고 출력해 보자"
   ]
  },
  {
   "cell_type": "code",
   "execution_count": 63,
   "metadata": {
    "id": "fpzAXciqVwXJ"
   },
   "outputs": [],
   "source": [
    "# your code\n"
   ]
  },
  {
   "cell_type": "markdown",
   "metadata": {
    "id": "zIrp0QpBStNv"
   },
   "source": [
    "* # 파이썬은 문장 단위로 처리(실행) 한다.  \n",
    "\n",
    "문장(statement)이란 코드로 한 줄을 구성할 수 있는 모든 것을 뜻한다.  \n",
    "기본적으로 한 줄 이지만 여러 줄로 구성된 문장도 가능. 그러나 대부분의 경우 한 줄을 하나의 문장으로 만든다.  \n",
    "여러 문장을 한 줄에 나타내고 싶으면 ;을 사용한다."
   ]
  },
  {
   "cell_type": "code",
   "execution_count": 64,
   "metadata": {
    "id": "irJ5xY-8SxML"
   },
   "outputs": [],
   "source": [
    "# your code\n",
    "\n",
    "\n"
   ]
  },
  {
   "cell_type": "markdown",
   "metadata": {
    "id": "H0emeXdyT4jz"
   },
   "source": [
    "* # (내장)함수 맛보기(built-in function)\n",
    "\n",
    "함수(function)은 특정한 일을 처리해 주는 코드들의 집합. Do Something!!!  \n",
    "내장함수는 누군가가 이미 만들어둔 함수, 이름과 사용법을 익혀 그 함수가 수행하는 기능이 필요할 경우 실행(호출)하면 된다!!\n",
    "\n"
   ]
  },
  {
   "cell_type": "code",
   "execution_count": 65,
   "metadata": {
    "id": "2HL2qI09T_DM"
   },
   "outputs": [],
   "source": [
    "# your code\n",
    "\n",
    "\n"
   ]
  },
  {
   "cell_type": "markdown",
   "metadata": {
    "id": "fyEAipYaVRFT"
   },
   "source": [
    "* # 내장함수 도움말(help)"
   ]
  },
  {
   "cell_type": "code",
   "execution_count": 66,
   "metadata": {
    "id": "nD09yiyVVWiK"
   },
   "outputs": [],
   "source": [
    "# your code\n",
    "\n",
    "\n"
   ]
  },
  {
   "cell_type": "markdown",
   "metadata": {
    "id": "RQ-Bvj3hVwXN"
   },
   "source": [
    "### [실습1] 파이썬의 내장함수가 모두 몇개인지 찾아보자(웹사이트를 찾으세요)\n",
    "### [실습2] 위에서 찾은 내장함수 중에서 관심가는 함수의 도움말을 help를 통해서 얻어보자"
   ]
  },
  {
   "cell_type": "code",
   "execution_count": 67,
   "metadata": {
    "id": "BqKb6kMcVwXN"
   },
   "outputs": [],
   "source": [
    "# your code\n"
   ]
  },
  {
   "cell_type": "markdown",
   "metadata": {
    "id": "uhjmg20GWAs9"
   },
   "source": [
    "* # 사용자로부터 입력 받기"
   ]
  },
  {
   "cell_type": "code",
   "execution_count": 68,
   "metadata": {
    "id": "or-NxHH6WEKo"
   },
   "outputs": [],
   "source": [
    "# input()에서 ()안의 텍스트 역할은 무엇일까요?\n",
    "\n",
    "\n",
    "\n"
   ]
  },
  {
   "cell_type": "markdown",
   "metadata": {
    "id": "oHgcUaFRWlu2"
   },
   "source": [
    "* # type conversion\n"
   ]
  },
  {
   "cell_type": "code",
   "execution_count": 69,
   "metadata": {
    "id": "I3EIVLzmWsOC"
   },
   "outputs": [],
   "source": [
    "# your code\n",
    "\n",
    "\n"
   ]
  },
  {
   "cell_type": "markdown",
   "metadata": {
    "id": "FvoO7wHTVwXP"
   },
   "source": [
    "### [실습1] 로그인 하기 위해서 아이디와 비밀번호를 입력받아서 각각 변수에 저장하세요.\n",
    "### [실습2] 아이디와 비밀번호가 각각 몇글자인지 출력하세요.\n",
    "### [실습3] 좌우 시력을 각각 입력받아 변수에 저장하고, 2.0을 기준으로 얼마나 차이가 나는지 출력하시오."
   ]
  },
  {
   "cell_type": "code",
   "execution_count": 70,
   "metadata": {
    "id": "-8xLpZl1VwXP"
   },
   "outputs": [],
   "source": [
    "# your code\n"
   ]
  },
  {
   "cell_type": "markdown",
   "metadata": {
    "id": "qrvX-jPbXXNO"
   },
   "source": [
    "* # 복합 대입 연산자\n",
    "\n",
    "두 개의 연산자를 결합해 놓은 것"
   ]
  },
  {
   "cell_type": "code",
   "execution_count": 71,
   "metadata": {
    "id": "5UXHCgA0XcvD"
   },
   "outputs": [],
   "source": [
    "# your code\n",
    "\n",
    "\n"
   ]
  },
  {
   "cell_type": "markdown",
   "metadata": {
    "id": "azskyK_IVwXS"
   },
   "source": [
    "* # 연산자 우선 순위\n",
    "\n",
    "|우선순위|연산자|참고|\n",
    "|:--:|:--:|:--:|\n",
    "|1|()|괄호를 제일 먼저 계산|\n",
    "|2|**|지수승|\n",
    "|3 | *,/,//,% |  곱셈, 나눗셈|\n",
    "|4| +,- | 덧셈, 뺄셈|\n",
    "|5|=, 복합대입연산자|대입|\n",
    "\n",
    "<font color=red><b>우선순위를 알든, 모르든 괄호를 사용!!</b></font>"
   ]
  },
  {
   "cell_type": "code",
   "execution_count": 72,
   "metadata": {
    "id": "MkgATSaLVwXS"
   },
   "outputs": [],
   "source": [
    "# your code\n",
    "\n",
    "\n"
   ]
  }
 ],
 "metadata": {
  "colab": {
   "name": "Ch01_맛보기.ipynb",
   "provenance": []
  },
  "kernelspec": {
   "display_name": "Python 3",
   "language": "python",
   "name": "python3"
  },
  "language_info": {
   "codemirror_mode": {
    "name": "ipython",
    "version": 3
   },
   "file_extension": ".py",
   "mimetype": "text/x-python",
   "name": "python",
   "nbconvert_exporter": "python",
   "pygments_lexer": "ipython3",
   "version": "3.8.12"
  }
 },
 "nbformat": 4,
 "nbformat_minor": 4
}
