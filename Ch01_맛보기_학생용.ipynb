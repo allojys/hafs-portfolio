{
 "cells": [
  {
   "cell_type": "markdown",
   "metadata": {
    "colab_type": "text",
    "id": "8veHROGkOv-F"
   },
   "source": [
    "# ❑ 주석(Comment)\n",
    "\n",
    "프로그램에 전혀 영향을 주지 않는 코드로, 설명을 위해 사용.  <font color=red>#</font> 기호를 붙이면 #부터 그 이후의 글자는 주석처리됨(컴퓨터가 읽지 않음).   \n",
    "주석은 기술(skill)이 아니라 습관.  \n",
    "\n",
    "* 행단위 주석처리 : #을 사용. 일반적인 주석을 위해 사용.    \n",
    "~~~python\n",
    "# 주석처리 적용 문장 1\n",
    "# 주석처리 적용 문장 2\n",
    "# 주석처리 적용 문장 3\n",
    "~~~\n",
    "\n",
    "\n",
    "* 블록단위 문서(주석)처리 : 작은 따옴표 3개 연속 사용. 프로그램의 문서화 또는 시작 시 설명을 위해 주로 사용. (DOC 스트링이라고 함. 주석은 아니지만 주석처럼 사용 가능!)\n",
    "~~~python\n",
    "''' \n",
    "주석처리 적용 문장 1\n",
    "주석처리 적용 문장 2\n",
    "주석처리 적용 문장 3\n",
    "'''\n",
    "~~~\n",
    "\n",
    "\n",
    "* <font color=blue>Tip : Ctrl(Mac에서는 cmd) + /  또는 블럭 지정 후  Ctrl + /</font>"
   ]
  },
  {
   "cell_type": "markdown",
   "metadata": {
    "id": "IGVQ0OOZQqd7"
   },
   "source": [
    "# ❑ 값 출력하기 와 주석넣기\n",
    "\n",
    "print()는 화면에 값(value)을 출력하는 명령  \n",
    "#으로 주석처리하기"
   ]
  },
  {
   "cell_type": "code",
   "execution_count": 2,
   "metadata": {
    "colab": {
     "base_uri": "https://localhost:8080/"
    },
    "executionInfo": {
     "elapsed": 9,
     "status": "ok",
     "timestamp": 1644978270813,
     "user": {
      "displayName": "Jong-woo Choi",
      "photoUrl": "https://lh3.googleusercontent.com/a-/AOh14GggZ4k8kLx7dOF77fbaPH-AT-MSHGB46qurrPeBQA=s64",
      "userId": "10060612862027541196"
     },
     "user_tz": -540
    },
    "id": "0IVHcVq8M1zx",
    "outputId": "6771de53-6b2d-4822-9970-ff84bb3be08b"
   },
   "outputs": [],
   "source": [
    "# print(), # 실습\n",
    "\n",
    "\n"
   ]
  },
  {
   "cell_type": "code",
   "execution_count": 3,
   "metadata": {},
   "outputs": [
    {
     "name": "stdout",
     "output_type": "stream",
     "text": [
      "hafs\n",
      "2022\n",
      "hafs 2022\n",
      "6\n",
      "입학을 축하합니다\n"
     ]
    }
   ],
   "source": [
    "print('hafs')\n",
    "print(2022)\n",
    "print('hafs', 2022)\n",
    "print(1+2+3)\n",
    "print('입학을 축하합니다')\n",
    "#' \"\" 사이에 문자열을 넣어서 출력한다.\n",
    "# \",\"를 이용해서 여러개를 출력한다\n",
    "# print 함수 속에 식을 넣으면 결과를 계산해서 출력한다. "
   ]
  },
  {
   "cell_type": "code",
   "execution_count": null,
   "metadata": {},
   "outputs": [],
   "source": [
    "print('hello world')"
   ]
  },
  {
   "cell_type": "code",
   "execution_count": 1,
   "metadata": {},
   "outputs": [
    {
     "name": "stdout",
     "output_type": "stream",
     "text": [
      "1\n"
     ]
    }
   ],
   "source": [
    "a=1\n",
    "b=2\n",
    "print(b-a)"
   ]
  },
  {
   "cell_type": "markdown",
   "metadata": {
    "id": "IGVQ0OOZQqd7"
   },
   "source": [
    "# ❑ 변수와 변수 출력\n",
    "\n",
    "* 변수(varialbe)는 값(value)을 저장하는 공간이다. (프로그래밍 언어마다 처리할 수 있는 val의 종류와 언어가 다르다. => 이것을 배운다.) (모든 프로그래밍 언어는 문자열과 숫자 출력 가능) (파이썬에서는 하나의 변수에 숫자와 문자열 저장 가능!)\n",
    "* =는 equal의 의미가 아니라 assignment의 의미  \n",
    "* 변수=값 : 어떤 값을 변수에 할당하시오 의 의미  \n",
    "* = 오른쪽에 수식(연산식)이 있으면 연산의 결과를 변수에 할당한다"
   ]
  },
  {
   "cell_type": "markdown",
   "metadata": {},
   "source": []
  },
  {
   "cell_type": "code",
   "execution_count": null,
   "metadata": {
    "colab": {
     "base_uri": "https://localhost:8080/"
    },
    "executionInfo": {
     "elapsed": 9,
     "status": "ok",
     "timestamp": 1644978270813,
     "user": {
      "displayName": "Jong-woo Choi",
      "photoUrl": "https://lh3.googleusercontent.com/a-/AOh14GggZ4k8kLx7dOF77fbaPH-AT-MSHGB46qurrPeBQA=s64",
      "userId": "10060612862027541196"
     },
     "user_tz": -540
    },
    "id": "0IVHcVq8M1zx",
    "outputId": "6771de53-6b2d-4822-9970-ff84bb3be08b"
   },
   "outputs": [],
   "source": [
    "# var_a와 var_b에는 각각 어떤 값이 저장될까?\n",
    "var_a, var_b = 1,2 \n",
    "print(var_a, var_b)\n",
    "print() # 한줄 띄우는 역할\n",
    "\n",
    "# 변수의 값은 불변이 아니다. 할당을 다시 하면 바뀐다. \n",
    "year=2022\n",
    "print(year)\n",
    "year=2023\n",
    "print(year)"
   ]
  },
  {
   "cell_type": "markdown",
   "metadata": {
    "id": "yGYgA-8JVwXE"
   },
   "source": [
    "### [실습1] 자신의 이름과 나이를 각각 변수에 저장하고 출력해 보자\n",
    "### [실습2] 자신의 좌우시력을 각각 변수에 저장하고 출력해 보자"
   ]
  },
  {
   "cell_type": "code",
   "execution_count": 1,
   "metadata": {
    "executionInfo": {
     "elapsed": 7,
     "status": "ok",
     "timestamp": 1644978270815,
     "user": {
      "displayName": "Jong-woo Choi",
      "photoUrl": "https://lh3.googleusercontent.com/a-/AOh14GggZ4k8kLx7dOF77fbaPH-AT-MSHGB46qurrPeBQA=s64",
      "userId": "10060612862027541196"
     },
     "user_tz": -540
    },
    "id": "CaqgGMrpVwXE"
   },
   "outputs": [
    {
     "name": "stdout",
     "output_type": "stream",
     "text": [
      "지윤서 20 1.5 1.5\n"
     ]
    }
   ],
   "source": [
    "# your code\n",
    "my_name='지윤서'\n",
    "my_age=20\n",
    "my_RIGHT_VA=1.5\n",
    "my_LEFT_VA=1.5\n",
    "print(my_name, my_age, my_RIGHT_VA, my_LEFT_VA)"
   ]
  },
  {
   "cell_type": "markdown",
   "metadata": {
    "id": "IGVQ0OOZQqd7"
   },
   "source": [
    "# ❑ variable naming rule\n",
    "\n",
    "* 영문, 숫자, _ 로 만든다 # 한글도 가능하지만 하지마라  \n",
    "* 시작은 반드시 영문자로 or _만\n",
    "* 변수명 중간에 공백은 안됨\n",
    "* 예약어, 내장함수 이름등은 변수명으로 사용 불가 예) True, for, print 등\n",
    "* 대소문자 구분 # Age와 age는 다른 변수  \n",
    "* 내장함수 필요한 것 (중요한 것) 외우기!\n",
    "---\n",
    "* ### 사용 가능한 변수명  (sum 사용 주의하기! sum()이 있어서)\n",
    "> sum, maxAge, next_value. \n",
    "\n",
    "* ### 사용 불가능한 변수명  \n",
    "> 2016year, user name, $wish, print\n",
    "\n",
    "* ### 좋은 변수명의 예\n",
    "> myage, school_name, address, score, eng_score\n",
    "\n",
    "* ### 나쁜 변수명의 예 (-> 변수명만 보고도 변수에 담긴 의미를 짐작할 수 있어야 한다. 즉 직관적이여야함)\n",
    "> abc, aaa, a1, a2, <font color=red>hafs, choi</font>  \n",
    "hafs, choi같은 것이 왜 나쁜 변수명일까?\n",
    "\n",
    "* ### 사용 가능한 변수명  \n",
    "> maxAge, next_value. \n",
    "\n",
    "* ### 사용 불가능한 변수명  \n",
    "> 2016year, user name, $wish\n",
    "\n",
    "* ### 사용 가능하지만 쓰면 안되는 변수명의 예  \n",
    "> sum, print, 변수_a\n",
    "\n",
    "* 참고. 내장함수 목록  \n",
    "> https://docs.python.org/ko/3/library/functions.html"
   ]
  },
  {
   "cell_type": "code",
   "execution_count": null,
   "metadata": {},
   "outputs": [],
   "source": [
    "# 파이썬 예약어 출력하기, 외우지 마세요\n",
    "total=sum([1,2,3]) \n",
    "print(total)\n",
    "\n",
    "sum=1+2+3 #sum 을 변수로 사용할 시 기존의 내장함수는 사용 불가! (기존의 내장함수를 사용하려면 runtime 초기화 해야함)\n",
    "print(sum)\n",
    "# total=sum([1,2,3]) #: 이 때 sum 내장함수는 사용불가\n",
    "\n",
    "\n",
    "\n",
    "\n"
   ]
  },
  {
   "cell_type": "markdown",
   "metadata": {},
   "source": [
    "* ### 사용 가능한 변수명  \n",
    "> maxAge, next_value. \n",
    "\n",
    "* ### 사용 불가능한 변수명  \n",
    "> 2016year, user name, $wish\n",
    "\n",
    "* ### 사용 가능하지만 쓰면 안되는 변수명의 예  \n",
    "> sum, print, 변수_a\n"
   ]
  },
  {
   "cell_type": "markdown",
   "metadata": {
    "id": "IGVQ0OOZQqd7"
   },
   "source": [
    "# ❑ 간단한 연산 해보기\n",
    "\n",
    "산술 연산과 산술 연산자"
   ]
  },
  {
   "cell_type": "code",
   "execution_count": null,
   "metadata": {
    "colab": {
     "base_uri": "https://localhost:8080/"
    },
    "executionInfo": {
     "elapsed": 9,
     "status": "ok",
     "timestamp": 1644978270813,
     "user": {
      "displayName": "Jong-woo Choi",
      "photoUrl": "https://lh3.googleusercontent.com/a-/AOh14GggZ4k8kLx7dOF77fbaPH-AT-MSHGB46qurrPeBQA=s64",
      "userId": "10060612862027541196"
     },
     "user_tz": -540
    },
    "id": "0IVHcVq8M1zx",
    "outputId": "6771de53-6b2d-4822-9970-ff84bb3be08b"
   },
   "outputs": [],
   "source": [
    "# 간단한 연산 실습\n",
    "\n",
    "\n"
   ]
  },
  {
   "cell_type": "markdown",
   "metadata": {
    "id": "5dosuTalQ75k"
   },
   "source": [
    "* #  문자열 맛보기"
   ]
  },
  {
   "cell_type": "code",
   "execution_count": null,
   "metadata": {
    "id": "6ZLoD8tJRIcr"
   },
   "outputs": [],
   "source": [
    "# your code\n",
    "\n",
    "\n"
   ]
  },
  {
   "cell_type": "markdown",
   "metadata": {
    "id": "qwAszm7iVwXH"
   },
   "source": [
    "### [실습1] 자신이 전공하고 싶은 학과명을 변수에 저장하고 출력해 보자\n",
    "### [실습2] 가장 감명깊게 읽으 책제목과 저자를 각각 변수에 저장하고 출력해 보자"
   ]
  },
  {
   "cell_type": "code",
   "execution_count": null,
   "metadata": {
    "id": "fpzAXciqVwXJ"
   },
   "outputs": [],
   "source": [
    "# your code\n",
    "my_major='컴퓨터공학'\n",
    "book_name='자바의 정석'\n",
    "print(my_major, book_name)"
   ]
  },
  {
   "cell_type": "markdown",
   "metadata": {
    "id": "zIrp0QpBStNv"
   },
   "source": [
    "* # 파이썬은 문장 단위로 처리(실행) 한다.  \n",
    "\n",
    "문장(statement)이란 코드로 한 줄을 구성할 수 있는 모든 것을 뜻한다.  \n",
    "기본적으로 한 줄 이지만 여러 줄로 구성된 문장도 가능. 그러나 대부분의 경우 한 줄을 하나의 문장으로 만든다.  \n",
    "여러 문장을 한 줄에 나타내고 싶으면 ;을 사용한다."
   ]
  },
  {
   "cell_type": "code",
   "execution_count": null,
   "metadata": {
    "id": "irJ5xY-8SxML"
   },
   "outputs": [],
   "source": [
    "# your code\n",
    "\n",
    "\n"
   ]
  },
  {
   "cell_type": "markdown",
   "metadata": {
    "id": "H0emeXdyT4jz"
   },
   "source": [
    "* # (내장)함수 맛보기(built-in function)\n",
    "\n",
    "함수(function)은 특정한 일을 처리해 주는 코드들의 집합. Do Something!!!  \n",
    "내장함수는 누군가가 이미 만들어둔 함수, 이름과 사용법을 익혀 그 함수가 수행하는 기능이 필요할 경우 실행(호출)하면 된다!!\n",
    "\n"
   ]
  },
  {
   "cell_type": "code",
   "execution_count": null,
   "metadata": {
    "id": "2HL2qI09T_DM"
   },
   "outputs": [],
   "source": [
    "\n",
    "# 내장함수, 만들어져 있는 것을 사용하자!\n",
    "print('print함수는 어떤 값을 모니터에 출력하는 operation을 수행')\n",
    "\n",
    "length=len('hafs')\n",
    "print(length)\n",
    "\n",
    "max_number=max(11,2,63,47,50)\n",
    "print(max_number)\n",
    "\n",
    "min_number=min(11,2,63,47,50)\n",
    "print(min_number)\n",
    "\n",
    "result=sum([1,2,3,4,5,6,7,8,9,10])\n",
    "print(result) \n",
    "\n"
   ]
  },
  {
   "cell_type": "markdown",
   "metadata": {
    "id": "fyEAipYaVRFT"
   },
   "source": [
    "* # 내장함수 도움말(help)"
   ]
  },
  {
   "cell_type": "code",
   "execution_count": 5,
   "metadata": {
    "id": "nD09yiyVVWiK"
   },
   "outputs": [
    {
     "name": "stdout",
     "output_type": "stream",
     "text": [
      "Help on built-in function len in module builtins:\n",
      "\n",
      "len(obj, /)\n",
      "    Return the number of items in a container.\n",
      "\n",
      "Help on built-in function sum in module builtins:\n",
      "\n",
      "sum(iterable, /, start=0)\n",
      "    Return the sum of a 'start' value (default: 0) plus an iterable of numbers\n",
      "    \n",
      "    When the iterable is empty, return the start value.\n",
      "    This function is intended specifically for use with numeric values and may\n",
      "    reject non-numeric types.\n",
      "\n"
     ]
    }
   ],
   "source": [
    "# your code\n",
    "help(len)\n",
    "\n",
    "help(sum) # help는 개발자가 중요하게 여기는 키 포인트. 한번쯤은 정독하자\n"
   ]
  },
  {
   "cell_type": "code",
   "execution_count": 6,
   "metadata": {},
   "outputs": [
    {
     "name": "stdout",
     "output_type": "stream",
     "text": [
      "Help on built-in function abs in module builtins:\n",
      "\n",
      "abs(x, /)\n",
      "    Return the absolute value of the argument.\n",
      "\n"
     ]
    }
   ],
   "source": [
    "help(abs)"
   ]
  },
  {
   "cell_type": "markdown",
   "metadata": {
    "id": "RQ-Bvj3hVwXN"
   },
   "source": [
    "### [실습1] 파이썬의 내장함수가 모두 몇개인지 찾아보자(웹사이트를 찾으세요)\n",
    "### [실습2] 위에서 찾은 내장함수 중에서 관심가는 함수의 도움말을 help를 통해서 얻어보자"
   ]
  },
  {
   "cell_type": "code",
   "execution_count": null,
   "metadata": {
    "id": "BqKb6kMcVwXN"
   },
   "outputs": [],
   "source": [
    "# your code\n"
   ]
  },
  {
   "cell_type": "markdown",
   "metadata": {},
   "source": []
  },
  {
   "cell_type": "markdown",
   "metadata": {
    "id": "uhjmg20GWAs9"
   },
   "source": [
    "* # 사용자로부터 입력 받기"
   ]
  },
  {
   "cell_type": "code",
   "execution_count": null,
   "metadata": {
    "id": "or-NxHH6WEKo"
   },
   "outputs": [],
   "source": [
    "# input()에서 ()안의 텍스트 역할은 무엇일까요?\n",
    "name=input()  \n",
    "age=int(input('나이를 입력하세요 : '))\n",
    "\n",
    "# 다음 코드의 결과는 무엇일까? 짐작부터해보자.\n",
    "print(age+10)\n",
    "\n",
    "\n",
    "\n"
   ]
  },
  {
   "cell_type": "code",
   "execution_count": 6,
   "metadata": {},
   "outputs": [
    {
     "name": "stdout",
     "output_type": "stream",
     "text": [
      "21 189.23\n"
     ]
    }
   ],
   "source": [
    "\n",
    "'''\n",
    "위의 코드에서 age는 숫자가 아니어서 + 연산 불가. 오류발생.\n",
    "input()의 결과는 항상 문자열\n",
    "숫자를 입력 받고 싶으면????\n",
    "'''\n",
    "\n",
    "age=int(input('나이를 입력하세요 : '))\n",
    "height=float(input('키를 입력하세요 : '))\n",
    "print(age, height)\n"
   ]
  },
  {
   "cell_type": "code",
   "execution_count": null,
   "metadata": {},
   "outputs": [],
   "source": [
    "name='jongwoo' # 1번은 먼저 assign 된것\n",
    "my_name=input('이름 : ') # 2번은 입력한 후에 변수가 assign 된 것"
   ]
  },
  {
   "cell_type": "code",
   "execution_count": 18,
   "metadata": {},
   "outputs": [
    {
     "name": "stdout",
     "output_type": "stream",
     "text": [
      "Help on method raw_input in module ipykernel.kernelbase:\n",
      "\n",
      "raw_input(prompt='') method of ipykernel.ipkernel.IPythonKernel instance\n",
      "    Forward raw_input to frontends\n",
      "    \n",
      "    Raises\n",
      "    ------\n",
      "    StdinNotImplementedError if active frontend doesn't support stdin.\n",
      "\n"
     ]
    }
   ],
   "source": [
    "help(input)"
   ]
  },
  {
   "cell_type": "markdown",
   "metadata": {
    "id": "oHgcUaFRWlu2"
   },
   "source": [
    "* # type conversion\n"
   ]
  },
  {
   "cell_type": "code",
   "execution_count": 3,
   "metadata": {
    "id": "I3EIVLzmWsOC"
   },
   "outputs": [
    {
     "ename": "SyntaxError",
     "evalue": "invalid syntax (2331902028.py, line 6)",
     "output_type": "error",
     "traceback": [
      "\u001b[0;36m  Input \u001b[0;32mIn [3]\u001b[0;36m\u001b[0m\n\u001b[0;31m    print(type(<1,2,3>))\u001b[0m\n\u001b[0m               ^\u001b[0m\n\u001b[0;31mSyntaxError\u001b[0m\u001b[0;31m:\u001b[0m invalid syntax\n"
     ]
    }
   ],
   "source": [
    "# your code\n",
    "print(type('hafs'))\n",
    "print(type(35))\n",
    "print(type(1.0))\n",
    "print(type([1,2,3]))\n",
    "print(type(<1,2,3>))\n"
   ]
  },
  {
   "cell_type": "code",
   "execution_count": null,
   "metadata": {},
   "outputs": [],
   "source": [
    "# your code\n",
    "print(int(3))\n",
    "print(int(3.5))  \n",
    "# print(int('3.5'))  \n",
    "print(int('3'))   \n",
    "print()\n",
    "print(float(3))\n",
    "print(float(3.5))\n",
    "print(float('3'))\n",
    "print(float('3.5'))\n"
   ]
  },
  {
   "cell_type": "code",
   "execution_count": null,
   "metadata": {},
   "outputs": [],
   "source": [
    "help(int)"
   ]
  },
  {
   "cell_type": "markdown",
   "metadata": {},
   "source": [
    "### int 함수, 소숫점이하는 버림 처리\n",
    "### str 을 int 함수로 변환하면 정수로 변환됨 (단, str 안의 숫자가 정수가 아니면 변환 불가!)"
   ]
  },
  {
   "cell_type": "markdown",
   "metadata": {},
   "source": [
    "# type은 변수의 값이 어떤 종류가 어떤 것인지 알려준다.\n",
    "# float: 실수형, list: 리스트, int: 정수형, str: 문자열 "
   ]
  },
  {
   "cell_type": "markdown",
   "metadata": {
    "id": "FvoO7wHTVwXP"
   },
   "source": [
    "### [실습1] 로그인 하기 위해서 아이디와 비밀번호를 입력받아서 각각 변수에 저장하세요.\n",
    "### [실습2] 아이디와 비밀번호가 각각 몇글자인지 출력하세요.\n",
    "### [실습3] 좌우 시력을 각각 입력받아 변수에 저장하고, 2.0을 기준으로 얼마나 차이가 나는지 출력하시오."
   ]
  },
  {
   "cell_type": "code",
   "execution_count": 11,
   "metadata": {
    "id": "-8xLpZl1VwXP"
   },
   "outputs": [
    {
     "name": "stdout",
     "output_type": "stream",
     "text": [
      "6\n",
      "4\n",
      "0.8\n",
      "0.5\n"
     ]
    }
   ],
   "source": [
    "# your code\n",
    "ID=input('ID')\n",
    "PW=input('Password : ')\n",
    "print(len(ID))\n",
    "print(len(PW))\n",
    "Left_Eye=float(input('Left Eye : '))\n",
    "Right_Eye=float(input('Right Eye : '))\n",
    "print(2.0-Left_Eye); print(2.0-Right_Eye)"
   ]
  },
  {
   "cell_type": "markdown",
   "metadata": {},
   "source": [
    "* # 연산자"
   ]
  },
  {
   "cell_type": "code",
   "execution_count": null,
   "metadata": {
    "id": "5UXHCgA0XcvD"
   },
   "outputs": [],
   "source": [
    "add=3+25\n",
    "sub=45-13\n",
    "mul=9*9\n",
    "div=3/2\n",
    "div_int=3//2  # 몫을 구하는 연산자 \n",
    "exp=10**3     # 거듭제곱\n",
    "mod=5%3       # 나머지를 구하는 연산자\n",
    "\n",
    "print(f'add={add}')  #f-string 방식, 값과 변수를 출력하는 가장 좋은 방식\n",
    "print(f'sub={sub}')\n",
    "print('mul=',mul)\n",
    "print('div=',div)\n",
    "print(div_int)\n",
    "print(exp)\n",
    "print(mod)# your code\n",
    "\n",
    "\n"
   ]
  },
  {
   "cell_type": "markdown",
   "metadata": {},
   "source": [
    "f string: 값과 변수(문자열)를 출력하는 쉬운 방식\n",
    "print(f'add={add}') { } 로 묶으면 변수안에 저장된 값, { } 로 묶지 않으면 변수명 그대로 출력\n",
    "값과 변수를 동시에 출력할 때 매우매우 편하다"
   ]
  },
  {
   "cell_type": "code",
   "execution_count": null,
   "metadata": {},
   "outputs": [],
   "source": [
    "univ_name='서울대학교'\n",
    "univ_major='컴퓨터공학'\n",
    "print(f'나는 {univ_name}에서 {univ_major}과에 진학할겁니다.')"
   ]
  },
  {
   "cell_type": "markdown",
   "metadata": {
    "id": "qrvX-jPbXXNO"
   },
   "source": [
    "* # 복합 대입 연산자\n",
    "\n",
    "두 개의 연산자를 결합해 놓은 것"
   ]
  },
  {
   "cell_type": "code",
   "execution_count": 15,
   "metadata": {},
   "outputs": [
    {
     "name": "stdout",
     "output_type": "stream",
     "text": [
      "6\n",
      "7\n",
      "14\n"
     ]
    }
   ],
   "source": [
    "x=5\n",
    "x=x+1\n",
    "print(x)\n",
    "\n",
    "y=1\n",
    "y+=x #y=y+x\n",
    "print(y)\n",
    "\n",
    "z=2\n",
    "z*=y # z=z*y\n",
    "print(z)\n"
   ]
  },
  {
   "cell_type": "code",
   "execution_count": null,
   "metadata": {},
   "outputs": [],
   "source": [
    "num=10\n",
    "if num%2==0:\n",
    "    print('짝수')\n",
    "else: \n",
    "    print('홀수')"
   ]
  },
  {
   "cell_type": "markdown",
   "metadata": {
    "id": "azskyK_IVwXS"
   },
   "source": [
    "* # 연산자 우선 순위\n",
    "\n",
    "|우선순위|연산자|참고|\n",
    "|:--:|:--:|:--:|\n",
    "|1|()|괄호를 제일 먼저 계산|\n",
    "|2|**|지수승|\n",
    "|3 | *,/,//,% |  곱셈, 나눗셈|\n",
    "|4| +,- | 덧셈, 뺄셈|\n",
    "|5|=, 복합대입연산자|대입|\n",
    "\n",
    "<font color=red><b>우선순위를 알든, 모르든 괄호를 사용!!</b></font>"
   ]
  },
  {
   "cell_type": "code",
   "execution_count": 16,
   "metadata": {
    "id": "MkgATSaLVwXS"
   },
   "outputs": [
    {
     "name": "stdout",
     "output_type": "stream",
     "text": [
      "15\n",
      "32\n",
      "282\n"
     ]
    }
   ],
   "source": [
    "# your code\n",
    "x=5\n",
    "x=x+1*10\n",
    "print(x)\n",
    "\n",
    "y=42-1+1-10\n",
    "print(y)\n",
    "\n",
    "z=(x+y)*6\n",
    "print(z)\n",
    "\n",
    "\n"
   ]
  },
  {
   "cell_type": "markdown",
   "metadata": {},
   "source": [
    "* # 스트링 (문자열)"
   ]
  },
  {
   "cell_type": "code",
   "execution_count": null,
   "metadata": {},
   "outputs": [],
   "source": [
    "# '', \"\", ''' ''', \"\"\" \"\"\" 는 모두 string을 만든다.\n",
    "\n",
    "'''\n",
    "'와', \"와\", \"\"\"와 \"\"\" \n",
    "는 항상 쌍(pair)를 이루어야 한다.\n",
    "'''\n",
    "\n",
    "#'와', \"와\", '''와''', \"\"\"와 \"\"\" \n",
    "#는 항상 쌍(pair)를 이루어야 한다.\n",
    "\n",
    "# ' ' , \" \" 은 한줄만 처리 가능하다. \"\"\" \"\"\", ''' ''' 은 여러줄 처리 가능하다. \n",
    "\n",
    "print('Hello World!')\n",
    "print(\"Hello World!\")\n",
    "print('''Hello World!''')\n",
    "print(\"\"\"Hello World!\"\"\")\n",
    "\n",
    "# 다음 코드는 오류 발생\n",
    "# doc='\n",
    "# hafs\n",
    "# '\n",
    "\n",
    "# 다음 코드는 정상 실행, ' 대신 \" 사용 가능\n",
    "doc='''\n",
    "hafs\n",
    "'''\n",
    "\n",
    "country='korea'\n",
    "city=\"seoul\"\n",
    "\n",
    "print(country, city)\n"
   ]
  },
  {
   "cell_type": "code",
   "execution_count": null,
   "metadata": {},
   "outputs": [],
   "source": [
    "school_name='hafs'hafs'hafs' #값과 변수사이가 관계가 없다. 쌍으로 붙어야 되고 가장 가까운 ' ' 와 매칭된다"
   ]
  },
  {
   "cell_type": "code",
   "execution_count": null,
   "metadata": {},
   "outputs": [],
   "source": [
    "a=''''hafs\"'''\n",
    "b=\"'hafs\"\n",
    "print(a,b)"
   ]
  },
  {
   "cell_type": "code",
   "execution_count": 1,
   "metadata": {},
   "outputs": [
    {
     "name": "stdout",
     "output_type": "stream",
     "text": [
      "12.4\n"
     ]
    }
   ],
   "source": [
    "age=float(input('나이를 입력하세요'))\n",
    "print(age)"
   ]
  }
 ],
 "metadata": {
  "colab": {
   "name": "Ch01_맛보기.ipynb",
   "provenance": []
  },
  "interpreter": {
   "hash": "4f946df053fbf2b937619d3c5458e7af74262f9a954d8797ba0b27400bcafe06"
  },
  "kernelspec": {
   "display_name": "Python 3.8.12 64-bit",
   "language": "python",
   "name": "python3"
  },
  "language_info": {
   "codemirror_mode": {
    "name": "ipython",
    "version": 3
   },
   "file_extension": ".py",
   "mimetype": "text/x-python",
   "name": "python",
   "nbconvert_exporter": "python",
   "pygments_lexer": "ipython3",
   "version": "3.8.12"
  }
 },
 "nbformat": 4,
 "nbformat_minor": 4
}
