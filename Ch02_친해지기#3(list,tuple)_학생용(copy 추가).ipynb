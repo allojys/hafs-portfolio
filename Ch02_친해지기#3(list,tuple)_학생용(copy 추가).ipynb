{
 "cells": [
  {
   "cell_type": "markdown",
   "metadata": {},
   "source": [
    "# **파이썬과 친해지기**\n",
    "\n",
    "파이썬이 기본적으로 제공해 주는 자료형에 대한 내용.  \n",
    "모든 언어의 학습에서 가장 기초가 되고 중요한 부분.  \n",
    "\n",
    "파이썬의 기본 자료형에는  \n",
    ">int, float, complex, str, list, tuple, dicionary, set, bool\n",
    "\n",
    "등 9개가 있다."
   ]
  },
  {
   "cell_type": "markdown",
   "metadata": {
    "id": "IGVQ0OOZQqd7"
   },
   "source": [
    "* # 리스트(list)사용하기\n",
    "\n",
    "리스트는 여러 항목(값)을 저장하고, 관리하고 싶을 때 사용  \n",
    "리스트 안의 값을 멤버, 요소, 아이템 등으로 부른다.  \n",
    "파이썬의 모든 데이터 타입이 리스트의 멤버가 될 수 있다(int, float, complex, str, bool, list, tuple, set, dict)"
   ]
  },
  {
   "cell_type": "code",
   "execution_count": null,
   "metadata": {
    "id": "0IVHcVq8M1zx"
   },
   "outputs": [],
   "source": [
    "# 다음 3줄의 공통점과 차이점에 대해 알아보자\n",
    "\n",
    "\n",
    "# list의 일반적인 사용\n",
    "\n"
   ]
  },
  {
   "cell_type": "code",
   "execution_count": null,
   "metadata": {
    "id": "9---TohV-nOd"
   },
   "outputs": [],
   "source": [
    "# list 안에 스트링이나 list같은 iterable 자료가 있는 경우\n",
    "\n",
    "\n"
   ]
  },
  {
   "cell_type": "markdown",
   "metadata": {},
   "source": [
    "### [실습1] class102의 마지막 학생의 성씨는 무엇인가? (인덱싱으로 구해 보세요)  \n",
    "### [실습2] n개 과목의 점수를 리스트로 만들어 scores에 넣고 내장함수를 이용해 총점, 평균을 구해보시오."
   ]
  },
  {
   "cell_type": "code",
   "execution_count": null,
   "metadata": {},
   "outputs": [],
   "source": [
    "# your code\n"
   ]
  },
  {
   "cell_type": "markdown",
   "metadata": {
    "id": "IGVQ0OOZQqd7"
   },
   "source": [
    "* # 리스트 변경하기 - 리스트는 mutable, 스트링은 immutable"
   ]
  },
  {
   "cell_type": "code",
   "execution_count": null,
   "metadata": {
    "id": "0IVHcVq8M1zx"
   },
   "outputs": [],
   "source": [
    "# your code\n",
    "\n",
    "\n"
   ]
  },
  {
   "cell_type": "markdown",
   "metadata": {},
   "source": [
    "### [실습1] 5개 과목의 점수를 리스트로 만들어 scores에 넣고 변경하고 싶은 점수를 변경해 보세요."
   ]
  },
  {
   "cell_type": "code",
   "execution_count": null,
   "metadata": {},
   "outputs": [],
   "source": [
    "# your code\n",
    "\n",
    "\n"
   ]
  },
  {
   "cell_type": "markdown",
   "metadata": {
    "id": "IGVQ0OOZQqd7"
   },
   "source": [
    "* # 리스트 슬라이싱\n",
    "\n",
    "스트링의 슬라이싱과 규칙 동일"
   ]
  },
  {
   "cell_type": "code",
   "execution_count": null,
   "metadata": {
    "id": "0IVHcVq8M1zx"
   },
   "outputs": [],
   "source": [
    "#예제 코드\n",
    "\n",
    "\n"
   ]
  },
  {
   "cell_type": "code",
   "execution_count": null,
   "metadata": {
    "id": "Pr1MSBX7-nOf"
   },
   "outputs": [],
   "source": [
    "#리스트 슬라이싱\n",
    "\n",
    "\n"
   ]
  },
  {
   "cell_type": "markdown",
   "metadata": {},
   "source": [
    "### [실습1] 위의 numbers에서 [7,3]이 나오게 슬라이싱 해보시오."
   ]
  },
  {
   "cell_type": "code",
   "execution_count": null,
   "metadata": {},
   "outputs": [],
   "source": [
    "# your code\n"
   ]
  },
  {
   "cell_type": "markdown",
   "metadata": {
    "id": "IGVQ0OOZQqd7"
   },
   "source": [
    "* # 리스트 메소드 \n",
    "\n",
    "```python\n",
    "list_method=[method for method in dir([])if '_' not in method]\n",
    "\n",
    "print(f'리스트 메소드  {len(list_method)}개\\n{list_method}')\n",
    "```\n"
   ]
  },
  {
   "cell_type": "code",
   "execution_count": null,
   "metadata": {
    "id": "0IVHcVq8M1zx"
   },
   "outputs": [],
   "source": [
    "# 예제 코드\n",
    "\n",
    "\n"
   ]
  },
  {
   "cell_type": "markdown",
   "metadata": {},
   "source": [
    "### [실습1] 가고 싶은 도시를 가고 싶은 순서대로 리스트로 만든 후(5개 이상)   \n",
    "1. 도시 추가  \n",
    "2. 어떤 도시가 몇번째로 가고싶은지  \n",
    "3. 중간에 가고 싶은 도시 삽입 \n",
    "을 구현하세요."
   ]
  },
  {
   "cell_type": "code",
   "execution_count": null,
   "metadata": {},
   "outputs": [],
   "source": [
    "# your code\n"
   ]
  },
  {
   "cell_type": "markdown",
   "metadata": {
    "id": "IGVQ0OOZQqd7"
   },
   "source": [
    "* # 리스트 메소드 copy\n",
    "\n",
    "리스트명.copy()    \n",
    "<font color=blue>shallow copy(얕은 복사)가 일어난다.</font>  \n",
    "    주소복사, shallow copy, deep copy 를 비교해서 알아두자.\n",
    "    \n",
    "[코드와 object의 변화를 실시간으로 살펴보기](http://pythontutor.com/live.html#mode=edit)"
   ]
  },
  {
   "cell_type": "markdown",
   "metadata": {
    "id": "E9kOBOzD-nOn"
   },
   "source": [
    "## <font color=blue>주소복사</font>"
   ]
  },
  {
   "cell_type": "code",
   "execution_count": null,
   "metadata": {
    "id": "LkDmbsP7-nOn"
   },
   "outputs": [],
   "source": [
    "# 주소 복사 #1\n",
    "\n",
    "\n"
   ]
  },
  {
   "cell_type": "code",
   "execution_count": null,
   "metadata": {
    "id": "KeGZvQF7-nOp"
   },
   "outputs": [],
   "source": [
    "#주소복사#2\n",
    "\n"
   ]
  },
  {
   "cell_type": "markdown",
   "metadata": {
    "id": "1Btsnj30-nOp"
   },
   "source": [
    "<hr>"
   ]
  },
  {
   "cell_type": "markdown",
   "metadata": {
    "id": "d8D-wEJ3-nOp"
   },
   "source": [
    "## <font color=blue>shallow copy</font>"
   ]
  },
  {
   "cell_type": "code",
   "execution_count": null,
   "metadata": {
    "id": "U_YiNH1D-nOq"
   },
   "outputs": [],
   "source": [
    "# shallow copy(얕은 복사) #1 단순리스트\n",
    "\n",
    "\n",
    "\n"
   ]
  },
  {
   "cell_type": "code",
   "execution_count": null,
   "metadata": {
    "id": "5PldBV7I-nOr"
   },
   "outputs": [],
   "source": [
    "# shallow copy(얕은 복사) #2 nested list\n",
    "\n",
    "\n"
   ]
  },
  {
   "cell_type": "code",
   "execution_count": null,
   "metadata": {
    "id": "f5qwpIB42SV6"
   },
   "outputs": [],
   "source": [
    "# shallow copy의 여러 방법\n",
    "\n",
    "\n"
   ]
  },
  {
   "cell_type": "code",
   "execution_count": null,
   "metadata": {
    "id": "3qLiIx-f-nOr"
   },
   "outputs": [],
   "source": [
    "#  copy모듈의 copy()를 이용한 shallow copy(얕은 복사)  #1 단순 리스트\n",
    "\n",
    "\n"
   ]
  },
  {
   "cell_type": "code",
   "execution_count": null,
   "metadata": {
    "id": "LPfr2wgD-nOs"
   },
   "outputs": [],
   "source": [
    "#  copy모듈의 copy()를 이용한 shallow copy(얕은 복사)  #2 nested list\n",
    "\n",
    "\n"
   ]
  },
  {
   "cell_type": "markdown",
   "metadata": {
    "id": "EVg09hq0-nOs"
   },
   "source": [
    "<hr>"
   ]
  },
  {
   "cell_type": "markdown",
   "metadata": {
    "id": "rOCjTsVb-nOz"
   },
   "source": [
    "## <font color=blue>deep copy</font>\n",
    "deep copy는 깊이에 상관 없이 모두 복제가 가능하다"
   ]
  },
  {
   "cell_type": "code",
   "execution_count": null,
   "metadata": {
    "id": "opmVt0vm-nO0"
   },
   "outputs": [],
   "source": [
    "# copy모듈의 copy()를 이용한 deep copy(깊은 복사) #1 단순 리스트\n",
    "\n",
    "import copy\n",
    "\n",
    "a=[1,2]                    # 단순 리스트\n",
    "b=copy.deepcopy(a)             \n",
    "# print(f'before: a={a},b={b}, id 동일여부:{id(a)==id(b)}') \n",
    "print(f'b=copy.deepcopy(a) 결과: a={a},b={b}')\n",
    "\n",
    "a.append(4)\n",
    "print(f'a.append(4) 결과 : a={a},b={b}')\n",
    "\n",
    "b.append(3)\n",
    "print(f'b.append(3) 결과 : a={a},b={b}')\n",
    "print()\n",
    "\n",
    "\n",
    "\n",
    "\n"
   ]
  },
  {
   "cell_type": "code",
   "execution_count": null,
   "metadata": {
    "id": "7kd29B3e-nO1"
   },
   "outputs": [],
   "source": [
    "# copy모듈의 copy()를 이용한 deep copy(깊은 복사) #2 nested list\n",
    "\n",
    "a=[1,2,[3,4]]      # 리스트안에 iterable 객체가 있는 경우\n",
    "b=copy.deepcopy(a)             \n",
    "# print(f'before: a={a},b={b}, a,b의 id 동일여부:{id(a)==id(b)}, a[2],b[2]의 id 동일 여부:{id(a[2])==id(b[2])}') \n",
    "print(f'b=copy.deepcopy(a) 결과 : a={a},b={b}')\n",
    "\n",
    "a.append(7)\n",
    "print(f'a.append(7) 결과 : a={a},b={b}')\n",
    "\n",
    "b[2].append(8)\n",
    "print(f'b[2].append(8) 결과: a={a},b={b}')\n",
    "\n",
    "\n"
   ]
  },
  {
   "cell_type": "code",
   "execution_count": 1,
   "metadata": {
    "id": "DlMkGAnN-nO1"
   },
   "outputs": [
    {
     "name": "stdout",
     "output_type": "stream",
     "text": [
      "a=[1, [2, [3, 3], 4]]\n",
      "b=[1, [2, [3, 3], 4]]\n",
      "\n"
     ]
    }
   ],
   "source": [
    "# copy 메소드 이해 확인용\n",
    "import copy\n",
    "a=[1,[2,[3]]]\n",
    "\n",
    "b=copy.copy(a) \n",
    "b[1][1].append(3)\n",
    "a[1].append(4)\n",
    "\n",
    "print(f'a={a}\\nb={b}\\n')\n",
    "\n"
   ]
  },
  {
   "cell_type": "code",
   "execution_count": null,
   "metadata": {
    "id": "L5FrZpfY-nO1"
   },
   "outputs": [],
   "source": [
    "# deepcopy 메소드 이해 확인용\n",
    "\n",
    "\n"
   ]
  },
  {
   "cell_type": "markdown",
   "metadata": {},
   "source": [
    "### [실습1] numbers=[0~9 사이의 임의의 숫자, 중복 가능] 일때 하나의 숫자를 입력받은 다음\n",
    "1. 가장 작은 수와 가장 큰 수를 출력한다.\n",
    "2. 그 숫자가 1개 있으면 삭제한다.    \n",
    "3. 그 숫자가 없으면 제일 끝에 추가한다.  \n",
    "4. 그 숫자가 2개 이상 있으면 몇개 있는지 출력한다."
   ]
  },
  {
   "cell_type": "code",
   "execution_count": null,
   "metadata": {},
   "outputs": [],
   "source": [
    "# your code\n",
    "\n",
    "\n"
   ]
  },
  {
   "cell_type": "markdown",
   "metadata": {
    "id": "KxrAC8XO-nO7"
   },
   "source": [
    "* # string과 list 사이의 변환\n"
   ]
  },
  {
   "cell_type": "code",
   "execution_count": null,
   "metadata": {
    "colab": {
     "base_uri": "https://localhost:8080/"
    },
    "executionInfo": {
     "elapsed": 1179,
     "status": "ok",
     "timestamp": 1633674278689,
     "user": {
      "displayName": "Jong-woo Choi",
      "photoUrl": "https://lh3.googleusercontent.com/a-/AOh14GggZ4k8kLx7dOF77fbaPH-AT-MSHGB46qurrPeBQA=s64",
      "userId": "10060612862027541196"
     },
     "user_tz": -540
    },
    "id": "ZH7izlfI-nO8",
    "outputId": "606d8fe7-83c3-4582-d8e9-b3b75074261d"
   },
   "outputs": [],
   "source": [
    "#string to list #1\n",
    "\n",
    "_str = \"I love hafs\"   \n",
    "str2list = _str.split()               # str을 띄어쓰기로 쪼갬   \n",
    "print(_str,'\\n', str2list) \n",
    "\n",
    "_str = \"I-love-hafs\"  \n",
    "str2list = _str.split('-') # 기준점을 split()에 지정하여 띄어쓰기로 쪼갬 // split('-')는 기준점을 -로 쪼갬\n",
    "print(_str,'\\n', str2list) \n",
    "\n",
    "\n"
   ]
  },
  {
   "cell_type": "code",
   "execution_count": null,
   "metadata": {
    "id": "piZKGOsT-nO8"
   },
   "outputs": [],
   "source": [
    "#string to list #2\n",
    "\n",
    "_str = \"hello world\"\n",
    "print(list(_str))\n"
   ]
  },
  {
   "cell_type": "code",
   "execution_count": null,
   "metadata": {
    "colab": {
     "base_uri": "https://localhost:8080/"
    },
    "executionInfo": {
     "elapsed": 334,
     "status": "ok",
     "timestamp": 1633674443593,
     "user": {
      "displayName": "Jong-woo Choi",
      "photoUrl": "https://lh3.googleusercontent.com/a-/AOh14GggZ4k8kLx7dOF77fbaPH-AT-MSHGB46qurrPeBQA=s64",
      "userId": "10060612862027541196"
     },
     "user_tz": -540
    },
    "id": "6GdvsUhw-nO8",
    "outputId": "4beae10e-60f7-4839-feea-2f79de90da12"
   },
   "outputs": [],
   "source": [
    "#list to string\n",
    "#string의 메소드인 join은 string으로만 구성된 list일때 정상 동작  \n",
    "\n",
    "AppleProduct = [ 'iPhone','iMac', 'MacBook', 'AirPods','AppleWatch']\n",
    "print (\" \".join(AppleProduct))\n",
    "print (\"\".join(AppleProduct))\n",
    "print (\"/\".join(AppleProduct))\n",
    "print (\"\\n\".join(AppleProduct))\n",
    "\n",
    "\n"
   ]
  },
  {
   "cell_type": "code",
   "execution_count": 2,
   "metadata": {},
   "outputs": [
    {
     "name": "stdout",
     "output_type": "stream",
     "text": [
      "Help on method_descriptor:\n",
      "\n",
      "join(self, iterable, /)\n",
      "    Concatenate any number of strings.\n",
      "    \n",
      "    The string whose method is called is inserted in between each given string.\n",
      "    The result is returned as a new string.\n",
      "    \n",
      "    Example: '.'.join(['ab', 'pq', 'rs']) -> 'ab.pq.rs'\n",
      "\n"
     ]
    }
   ],
   "source": [
    "help(str.join)"
   ]
  },
  {
   "cell_type": "code",
   "execution_count": 5,
   "metadata": {
    "id": "OkPFf1eY-nO9"
   },
   "outputs": [
    {
     "name": "stdout",
     "output_type": "stream",
     "text": [
      "123\n"
     ]
    }
   ],
   "source": [
    "# join사용시 iterable이 어떤 타입이냐 점검\n",
    "I=['1','2','3']\n",
    "# I=[1,2,3]\n",
    "print(''.join(I))\n"
   ]
  },
  {
   "cell_type": "markdown",
   "metadata": {
    "id": "IGVQ0OOZQqd7"
   },
   "source": [
    "* # 리스트 관련 내장 함수\n",
    "\n",
    "리스트와 함께 사용할 수 있는 내장함수를 알면 코딩을 쉽고, 빠르게, 편라하게 할 수 있다."
   ]
  },
  {
   "cell_type": "code",
   "execution_count": 6,
   "metadata": {
    "id": "0IVHcVq8M1zx"
   },
   "outputs": [
    {
     "name": "stdout",
     "output_type": "stream",
     "text": [
      "4\n",
      "12.9\n",
      "3.14\n",
      "27.82\n",
      "\n",
      "[3.14, 5, 6.78, 12.9]\n",
      "[12.9, 5, 6.78, 3.14]\n"
     ]
    }
   ],
   "source": [
    "#예제 코드\n",
    "nums=[12.9, 5, 6.78, 3.14]\n",
    "\n",
    "print(len(nums))\n",
    "print(max(nums))\n",
    "print(min(nums))\n",
    "print(sum(nums))\n",
    "print()\n",
    "\n",
    "print(sorted(nums))\n",
    "print(nums) # 위에서 sorted함수가 원래 리스트를 변경시키는 것은 아님을 확인\n",
    "\n",
    "\n"
   ]
  },
  {
   "cell_type": "markdown",
   "metadata": {},
   "source": [
    "### [실습1] "
   ]
  },
  {
   "cell_type": "code",
   "execution_count": null,
   "metadata": {},
   "outputs": [],
   "source": [
    "# your code\n"
   ]
  },
  {
   "cell_type": "markdown",
   "metadata": {},
   "source": [
    "* # 리스트 사용시 반드시 주의해야 할 사항"
   ]
  },
  {
   "cell_type": "code",
   "execution_count": null,
   "metadata": {},
   "outputs": [],
   "source": [
    "# method호출결과 return의 유무를 아는것이 왜 중요한가?\n",
    "# 실행전에 짐작부터 하기\n",
    "\n"
   ]
  },
  {
   "cell_type": "code",
   "execution_count": null,
   "metadata": {},
   "outputs": [],
   "source": [
    "# d1, d2, d3는 각각 무엇일까?\n",
    "\n",
    "\n"
   ]
  },
  {
   "cell_type": "code",
   "execution_count": null,
   "metadata": {
    "id": "ZEaopGWM-nPC"
   },
   "outputs": [],
   "source": [
    "# data, r_data는 각각 무엇일까?\n",
    "\n",
    "\n"
   ]
  },
  {
   "cell_type": "code",
   "execution_count": null,
   "metadata": {
    "id": "fWyxZ7DQ-nPD"
   },
   "outputs": [],
   "source": [
    "# data, r_data는 각각 무엇일까?\n",
    "\n",
    "\n"
   ]
  },
  {
   "cell_type": "code",
   "execution_count": null,
   "metadata": {},
   "outputs": [],
   "source": [
    "# sorted_data는 무엇인가?\n",
    "\n",
    "\n"
   ]
  },
  {
   "cell_type": "markdown",
   "metadata": {
    "id": "IGVQ0OOZQqd7"
   },
   "source": [
    "* # 튜플 사용하기\n",
    "\n",
    "튜플은 리스트와 같지만 튜플은 항목을 변경할 수 없다.  \n",
    "변경가능성이 전혀 없는 자료를 묶을 때는 리스트보다 튜플이 더 나은 선택"
   ]
  },
  {
   "cell_type": "code",
   "execution_count": null,
   "metadata": {
    "id": "0IVHcVq8M1zx"
   },
   "outputs": [],
   "source": [
    "#예제 코드\n",
    "\n",
    "\n"
   ]
  },
  {
   "cell_type": "markdown",
   "metadata": {},
   "source": [
    "### [실습1] "
   ]
  },
  {
   "cell_type": "code",
   "execution_count": null,
   "metadata": {},
   "outputs": [],
   "source": [
    "# your code\n"
   ]
  },
  {
   "cell_type": "markdown",
   "metadata": {
    "id": "IGVQ0OOZQqd7"
   },
   "source": [
    "* # 튜플의 인덱싱과 슬라이싱\n",
    "\n",
    "문자, 리스트에서의 인덱싱과 슬라이싱과 규칙이 동일"
   ]
  },
  {
   "cell_type": "code",
   "execution_count": null,
   "metadata": {
    "id": "0IVHcVq8M1zx"
   },
   "outputs": [],
   "source": [
    "#예제 코드\n",
    "\n",
    "\n"
   ]
  },
  {
   "cell_type": "markdown",
   "metadata": {},
   "source": [
    "### [실습1] "
   ]
  },
  {
   "cell_type": "code",
   "execution_count": null,
   "metadata": {},
   "outputs": [],
   "source": [
    "# your code\n"
   ]
  },
  {
   "cell_type": "markdown",
   "metadata": {
    "id": "IGVQ0OOZQqd7"
   },
   "source": [
    "* # 튜플안에 mutable객체가 있다면?"
   ]
  },
  {
   "cell_type": "code",
   "execution_count": null,
   "metadata": {
    "id": "0IVHcVq8M1zx"
   },
   "outputs": [],
   "source": [
    "#예제 코드\n",
    "\n",
    "\n"
   ]
  },
  {
   "cell_type": "markdown",
   "metadata": {},
   "source": [
    "### [실습1] "
   ]
  },
  {
   "cell_type": "code",
   "execution_count": null,
   "metadata": {},
   "outputs": [],
   "source": [
    "# your code\n"
   ]
  },
  {
   "cell_type": "markdown",
   "metadata": {
    "id": "IGVQ0OOZQqd7"
   },
   "source": [
    "* # 튜플의 연산과 관련 메소드"
   ]
  },
  {
   "cell_type": "code",
   "execution_count": null,
   "metadata": {
    "id": "0IVHcVq8M1zx"
   },
   "outputs": [],
   "source": [
    "#예제 코드\n",
    "\n",
    "\n"
   ]
  },
  {
   "cell_type": "markdown",
   "metadata": {},
   "source": [
    "### [실습1] "
   ]
  },
  {
   "cell_type": "code",
   "execution_count": null,
   "metadata": {},
   "outputs": [],
   "source": [
    "# your code\n"
   ]
  },
  {
   "cell_type": "markdown",
   "metadata": {
    "id": "IGVQ0OOZQqd7"
   },
   "source": [
    "* # 튜플관련 내장 함수"
   ]
  },
  {
   "cell_type": "code",
   "execution_count": null,
   "metadata": {
    "id": "0IVHcVq8M1zx"
   },
   "outputs": [],
   "source": [
    "#예제 코드\n",
    "\n",
    "\n"
   ]
  },
  {
   "cell_type": "markdown",
   "metadata": {},
   "source": [
    "### [실습1] "
   ]
  },
  {
   "cell_type": "code",
   "execution_count": null,
   "metadata": {},
   "outputs": [],
   "source": [
    "# your code\n"
   ]
  }
 ],
 "metadata": {
  "colab": {
   "authorship_tag": "ABX9TyNQqglfZlt1aAo0zl7IKr9n",
   "name": "Ch01_파이썬 맛보기.ipynb",
   "provenance": []
  },
  "interpreter": {
   "hash": "4f946df053fbf2b937619d3c5458e7af74262f9a954d8797ba0b27400bcafe06"
  },
  "kernelspec": {
   "display_name": "Python 3.8.12 64-bit",
   "language": "python",
   "name": "python3"
  },
  "language_info": {
   "codemirror_mode": {
    "name": "ipython",
    "version": 3
   },
   "file_extension": ".py",
   "mimetype": "text/x-python",
   "name": "python",
   "nbconvert_exporter": "python",
   "pygments_lexer": "ipython3",
   "version": "3.8.12"
  },
  "widgets": {
   "application/vnd.jupyter.widget-state+json": {
    "state": {},
    "version_major": 2,
    "version_minor": 0
   }
  }
 },
 "nbformat": 4,
 "nbformat_minor": 4
}
