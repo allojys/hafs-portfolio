{
 "cells": [
  {
   "cell_type": "markdown",
   "metadata": {},
   "source": [
    "# **파이썬과 친해지기**\n",
    "\n",
    "파이썬이 기본적으로 제공해 주는 자료형에 대한 내용.  \n",
    "모든 언어의 학습에서 가장 기초가 되고 중요한 부분.  \n",
    "\n",
    "파이썬의 기본 자료형에는  \n",
    ">int, float, complex, str, list, tuple, dicionary, set, bool\n",
    "\n",
    "등 9개가 있다."
   ]
  },
  {
   "cell_type": "markdown",
   "metadata": {
    "id": "IGVQ0OOZQqd7"
   },
   "source": [
    "# ❑ 여러 개의 값 출력"
   ]
  },
  {
   "cell_type": "code",
   "execution_count": null,
   "metadata": {
    "id": "0IVHcVq8M1zx"
   },
   "outputs": [],
   "source": [
    "# print문의 다양한 사용\n",
    "\n"
   ]
  },
  {
   "cell_type": "markdown",
   "metadata": {},
   "source": [
    "### [실습1] 3과목의 점수를 입력받아, print문으로 3과목의 점수와 총점, 평균을 출력해보자"
   ]
  },
  {
   "cell_type": "code",
   "execution_count": null,
   "metadata": {},
   "outputs": [],
   "source": [
    "# your code\n"
   ]
  },
  {
   "cell_type": "markdown",
   "metadata": {
    "id": "IGVQ0OOZQqd7"
   },
   "source": [
    "# ❑ 정수(int)\n",
    "type()의 사용법을 살펴보자.  \n",
    "정수형을 int라고 하며, 소수점이 없는 음수,0,양수의 집합이다.  \n",
    "파이썬에서 정수를 표현하는데는 거의 한계가 없기 때문에 일상적으로 사용하는 수는 모두 표현 가능."
   ]
  },
  {
   "cell_type": "code",
   "execution_count": null,
   "metadata": {
    "id": "0IVHcVq8M1zx"
   },
   "outputs": [],
   "source": [
    "# 정수 타입(type)이름알기\n",
    "\n"
   ]
  },
  {
   "cell_type": "markdown",
   "metadata": {},
   "source": [
    "### [실습1] C나 Java의 정수와 Python의 정수를 비교해봅시다"
   ]
  },
  {
   "cell_type": "markdown",
   "metadata": {
    "id": "IGVQ0OOZQqd7"
   },
   "source": [
    "# ❑ 실수(float)\n",
    "type()의 사용법을 살펴보자.  \n",
    "실수형을 float라고 하며, 소수점있는 숫자.  \n",
    "수학과는 다르게 실수에는 정수가 포함되지 않는다. 두개는 구별한다."
   ]
  },
  {
   "cell_type": "code",
   "execution_count": null,
   "metadata": {
    "id": "0IVHcVq8M1zx"
   },
   "outputs": [],
   "source": [
    "# 실수 타입(type)이름알기\n",
    "\n",
    "\n"
   ]
  },
  {
   "cell_type": "markdown",
   "metadata": {},
   "source": [
    "### [실습1] 반지름을 입력받아 원의 면적을 구하는 프로그램을 작성하시오."
   ]
  },
  {
   "cell_type": "code",
   "execution_count": null,
   "metadata": {},
   "outputs": [],
   "source": [
    "# your code\n"
   ]
  },
  {
   "cell_type": "markdown",
   "metadata": {
    "id": "IGVQ0OOZQqd7"
   },
   "source": [
    "# ❑ bool\n",
    "참(True), 거짓(False)를 표현한다.  \n",
    "T, F는 대문자로  \n",
    "False, None, 0인 숫자, 빈컨테이너(빈 문자열, 빈 리스트, 빈 튜플, 빈 딕셔너리, 빈 집합) 는 False로, 그외에는 모두 True로 판단.\n",
    "\n",
    "즉 뭔가 없는 것 같은 것은 False라고 이해."
   ]
  },
  {
   "cell_type": "code",
   "execution_count": null,
   "metadata": {
    "id": "0IVHcVq8M1zx"
   },
   "outputs": [],
   "source": [
    "# bool 자료형(True, False) 알아보기\n",
    "\n"
   ]
  },
  {
   "cell_type": "markdown",
   "metadata": {},
   "source": [
    "### [실습1] true, TRUE, false, FALSE는 각각 무엇인지 말해보세요"
   ]
  },
  {
   "cell_type": "code",
   "execution_count": null,
   "metadata": {},
   "outputs": [],
   "source": [
    "# your code\n"
   ]
  }
 ],
 "metadata": {
  "colab": {
   "authorship_tag": "ABX9TyNQqglfZlt1aAo0zl7IKr9n",
   "name": "Ch01_파이썬 맛보기.ipynb",
   "provenance": []
  },
  "kernelspec": {
   "display_name": "Python 3",
   "language": "python",
   "name": "python3"
  },
  "language_info": {
   "codemirror_mode": {
    "name": "ipython",
    "version": 3
   },
   "file_extension": ".py",
   "mimetype": "text/x-python",
   "name": "python",
   "nbconvert_exporter": "python",
   "pygments_lexer": "ipython3",
   "version": "3.8.8"
  },
  "widgets": {
   "application/vnd.jupyter.widget-state+json": {
    "state": {},
    "version_major": 2,
    "version_minor": 0
   }
  }
 },
 "nbformat": 4,
 "nbformat_minor": 4
}
