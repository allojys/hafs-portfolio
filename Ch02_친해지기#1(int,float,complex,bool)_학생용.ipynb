{
 "cells": [
  {
   "cell_type": "markdown",
   "metadata": {},
   "source": [
    "# **파이썬과 친해지기**\n",
    "\n",
    "파이썬이 기본적으로 제공해 주는 자료형에 대한 내용.  \n",
    "모든 언어의 학습에서 가장 기초가 되고 중요한 부분.  \n",
    "\n",
    "파이썬의 기본 자료형에는  \n",
    ">int, float, complex, str, list, tuple, dicionary, set, bool\n",
    "\n",
    "등 9개가 있다. ( 외울필요 없다.)"
   ]
  },
  {
   "cell_type": "code",
   "execution_count": null,
   "metadata": {},
   "outputs": [],
   "source": [
    "mass=100\n",
    "height=1.7\n",
    "g=9.8065\n",
    "\n",
    "print(f'질량 : {mass}')\n",
    "print(f'높이 : {height}')\n",
    "print(f'중력상수 : {g}')\n",
    "print()  # 빈줄 출력\n",
    "\n",
    "#여러 변수값 출력하기\n",
    "print(mass, height, mass*height*g)\n",
    "\n",
    "#구분자 넣고 출력하기\n",
    "print(mass, height, mass*height*g, sep=\",\") # sep: 프린트 함수의 옵션, 구분자를 지정해줌\n",
    "print(mass, height, mass*height*g, sep=\"/\")\n",
    "\n",
    "# help(print)로 도움말을 다시 읽어보고 위의 코드를 확인"
   ]
  },
  {
   "cell_type": "code",
   "execution_count": null,
   "metadata": {},
   "outputs": [],
   "source": [
    "help(print)"
   ]
  },
  {
   "cell_type": "code",
   "execution_count": 4,
   "metadata": {},
   "outputs": [
    {
     "name": "stdout",
     "output_type": "stream",
     "text": [
      "1\n",
      "60\n",
      "45\n",
      "45\n",
      "['red', 'blue', 'green']\n"
     ]
    }
   ],
   "source": [
    "number=1\n",
    "print(number)\n",
    "\n",
    "num1=10; num2=20; num3=30\n",
    "print(num1+num2+num3)\n",
    "\n",
    "result=1+2+3+\\\n",
    "        4+5+6+\\\n",
    "        7+8+9\n",
    "print(result)\n",
    "\n",
    "result=(1+2+3+  # ( 를 사용하면 \\를 쓰지 않아도 여러줄이라는 의미\n",
    "    4+5+6+\n",
    "    7+8+9)\n",
    "print(result)\n",
    "\n",
    "color=['red', 'blue', 'green'] # 리스트 / color 라는 변수 안에 값을 저장하는 것 age=20 이런 것과 같은 원리임.\n",
    "print(color)\n"
   ]
  },
  {
   "cell_type": "markdown",
   "metadata": {
    "id": "IGVQ0OOZQqd7"
   },
   "source": [
    "# ❑ 여러 개의 값 출력"
   ]
  },
  {
   "cell_type": "code",
   "execution_count": null,
   "metadata": {
    "id": "0IVHcVq8M1zx"
   },
   "outputs": [],
   "source": [
    "# print문의 다양한 사용\n",
    "# 작은 따옴표, 큰 따옴표의 쓰임새\n",
    "# string='작은 따옴표 안에 '작은 따옴표'를 쓰면 오류 발생\n",
    "# string=\"큰 따옴표 안에 \"큰따옴표\"를 쓰면 오류 발생\"\n",
    "\n",
    "txt1='문자열은 작은 따옴표 또는 큰 따옴표로 묶어서 만들 수 있다'\n",
    "print(type(txt1))\n",
    "\n",
    "txt2='작은 따옴표로 묶인 문자열 안에 \"큰 따옴표\"는 문제 없네요.'\n",
    "print(txt2)\n",
    "\n",
    "\n",
    "txt3=\"큰 따옴표로 묶인 문자열 안에 '작은 따옴표'는 문제 없네요.\"\n",
    "print(txt3)\n",
    "\n",
    "txt4='특수 문자열은 \\'이렇게\\' 출력되요' \n",
    "print(txt4)\n",
    "\n",
    "\n"
   ]
  },
  {
   "cell_type": "code",
   "execution_count": null,
   "metadata": {},
   "outputs": [],
   "source": [
    "text='나는 문자열이다. \\n줄바꿈이나 \\t탭만큼 띄우려면escape string을 써야 하고 \\n 그래서 조금 번거롭다 '\n",
    "print(text)\n",
    "print()\n",
    "\n",
    "multitext='''\n",
    "하지만 이렇게 \\'\\'\\'나 \"\"\"을 사용하면\n",
    "보이는 그대로 \n",
    "출력한다.\n",
    "물론 특수문자(~!#$%^&*()도 그대로 나온다.\n",
    "'''\n",
    "print(multitext)"
   ]
  },
  {
   "cell_type": "code",
   "execution_count": 8,
   "metadata": {},
   "outputs": [
    {
     "name": "stdout",
     "output_type": "stream",
     "text": [
      "Hello\n",
      "Hello\n",
      "WorldWorldWorldWorldWorldWorldWorldWorldWorldWorldWorldWorldWorldWorldWorldWorld\n"
     ]
    }
   ],
   "source": [
    "str_1='Hello\\n'\n",
    "str_2='World'\n",
    "print(str_1*2+str_2*16)"
   ]
  },
  {
   "cell_type": "markdown",
   "metadata": {},
   "source": [
    "### [실습1] 3과목의 점수를 입력받아, print문으로 3과목의 점수와 총점, 평균을 출력해보자"
   ]
  },
  {
   "cell_type": "code",
   "execution_count": null,
   "metadata": {},
   "outputs": [],
   "source": [
    "# your code\n",
    "score_math=float(input('수학점수를 입력하세요 : '))\n",
    "score_korean=float(input('국어점수를 입력하세요 : '))\n",
    "score_english=float(input('영어점수를 입력하세요 : '))\n",
    "avg=(score_math+score_korean+score_english)/3\n",
    "total=(score_math+score_korean+score_english)\n",
    "print(f'총점 : {total}, 평균 : {avg}')"
   ]
  },
  {
   "cell_type": "code",
   "execution_count": null,
   "metadata": {},
   "outputs": [],
   "source": []
  },
  {
   "cell_type": "markdown",
   "metadata": {
    "id": "IGVQ0OOZQqd7"
   },
   "source": [
    "# ❑ 정수(int)\n",
    "type()의 사용법을 살펴보자.  \n",
    "정수형을 int라고 하며, 소수점이 없는 음수,0,양수의 집합이다.  \n",
    "파이썬에서 정수를 표현하는데는 거의 한계가 없기 때문에 일상적으로 사용하는 수는 모두 표현 가능."
   ]
  },
  {
   "cell_type": "code",
   "execution_count": 4,
   "metadata": {
    "id": "0IVHcVq8M1zx"
   },
   "outputs": [
    {
     "name": "stdout",
     "output_type": "stream",
     "text": [
      "35 <class 'int'>\n",
      "21267647932558653966460912964485513216 <class 'int'>\n"
     ]
    }
   ],
   "source": [
    "# 정수 타입(type)이름알기\n",
    "age=35\n",
    "print(age, type(age))\n",
    "\n",
    "big_int=2**124\n",
    "print(big_int, type(big_int))\n",
    "\n"
   ]
  },
  {
   "cell_type": "markdown",
   "metadata": {},
   "source": [
    "### [실습1] C나 Java의 정수와 Python의 정수를 비교해봅시다"
   ]
  },
  {
   "cell_type": "markdown",
   "metadata": {
    "id": "IGVQ0OOZQqd7"
   },
   "source": [
    "# ❑ 실수(float)\n",
    "type()의 사용법을 살펴보자.  \n",
    "실수형을 float라고 하며, 소수점있는 숫자.  \n",
    "수학과는 다르게 실수에는 정수가 포함되지 않는다. 두개는 구별한다."
   ]
  },
  {
   "cell_type": "code",
   "execution_count": null,
   "metadata": {
    "id": "0IVHcVq8M1zx"
   },
   "outputs": [],
   "source": [
    "# 실수 타입(type)이름알기\n",
    "\n",
    "\n"
   ]
  },
  {
   "cell_type": "code",
   "execution_count": null,
   "metadata": {},
   "outputs": [],
   "source": [
    "pi=3.14\n",
    "print('변수 pi의 자료형은 ', type(pi))\n",
    "\n",
    "pi=3\n",
    "print('변수 pi의 자료형은 ', type(pi))\n",
    "\n",
    "number=0.0\n",
    "print(f'변수 number의 자료형은 {type(number)}')  # f-string방식으로 출력\n",
    "\n",
    "number=0\n",
    "print(f'변수 number의 자료형은 {type(number)}') # f-string방식으로 출력\n"
   ]
  },
  {
   "cell_type": "code",
   "execution_count": null,
   "metadata": {},
   "outputs": [],
   "source": []
  },
  {
   "cell_type": "markdown",
   "metadata": {},
   "source": [
    "### [실습1] 반지름을 입력받아 원의 면적을 구하는 프로그램을 작성하시오."
   ]
  },
  {
   "cell_type": "code",
   "execution_count": null,
   "metadata": {},
   "outputs": [],
   "source": [
    "# your code\n",
    "pi=3.14\n",
    "rad=float(input('반지름을 입력하세요 : '))\n",
    "area=pi*rad**2\n",
    "print(area)\n"
   ]
  },
  {
   "cell_type": "markdown",
   "metadata": {
    "id": "IGVQ0OOZQqd7"
   },
   "source": [
    "# ❑ bool\n",
    "참(True), 거짓(False)를 표현한다.  \n",
    "T, F는 대문자로  \n",
    "False, None, 0인 숫자, 빈컨테이너(빈 문자열, 빈 리스트, 빈 튜플, 빈 딕셔너리, 빈 집합) 는 False로, 그외에는 모두 True로 판단.\n",
    "\n",
    "즉 뭔가 없는 것 같은 것은 False라고 이해."
   ]
  },
  {
   "cell_type": "code",
   "execution_count": null,
   "metadata": {
    "id": "0IVHcVq8M1zx"
   },
   "outputs": [],
   "source": [
    "# bool 자료형(True, False) 알아보기\n",
    "\n"
   ]
  },
  {
   "cell_type": "markdown",
   "metadata": {},
   "source": [
    "### [실습1] true, TRUE, false, FALSE는 각각 무엇인지 말해보세요"
   ]
  },
  {
   "cell_type": "code",
   "execution_count": 11,
   "metadata": {},
   "outputs": [
    {
     "name": "stdout",
     "output_type": "stream",
     "text": [
      "True <class 'bool'>\n",
      "False <class 'bool'>\n",
      "False\n",
      "True\n",
      "True\n",
      "False\n",
      "False True\n",
      "True True\n",
      "True False\n",
      "2\n"
     ]
    }
   ],
   "source": [
    "# your code\n",
    "reply=True\n",
    "print(reply, type(reply))\n",
    "\n",
    "reply=False\n",
    "print(reply, type(reply))\n",
    "\n",
    "print(1>2)\n",
    "print(1<2)\n",
    "print('hafs'=='hafs')\n",
    "print('hafs'=='HAFS')\n",
    "\n",
    "print(3==True, bool(3))\n",
    "print(1==True, bool(1))\n",
    "print(0==False, bool(0))\n",
    "print(True+True)"
   ]
  },
  {
   "cell_type": "code",
   "execution_count": 3,
   "metadata": {},
   "outputs": [
    {
     "name": "stdout",
     "output_type": "stream",
     "text": [
      "pythonpythonpythonpython\n"
     ]
    }
   ],
   "source": [
    "string='python'\n",
    "string+=string\n",
    "print(string+str(string))"
   ]
  },
  {
   "cell_type": "code",
   "execution_count": 9,
   "metadata": {},
   "outputs": [
    {
     "name": "stdout",
     "output_type": "stream",
     "text": [
      "pythonhafs\n",
      "==================================================\n"
     ]
    }
   ],
   "source": [
    "txt1='python'\n",
    "txt2='hafs'\n",
    "print(txt1+txt2)\n",
    "\n",
    "print('='*50)\n"
   ]
  },
  {
   "cell_type": "code",
   "execution_count": 11,
   "metadata": {},
   "outputs": [
    {
     "name": "stdout",
     "output_type": "stream",
     "text": [
      "hafs hafs hafs hafs hafs hafs hafs hafs hafs \n"
     ]
    }
   ],
   "source": [
    "str='hafs '\n",
    "print(str*9)"
   ]
  }
 ],
 "metadata": {
  "colab": {
   "authorship_tag": "ABX9TyNQqglfZlt1aAo0zl7IKr9n",
   "name": "Ch01_파이썬 맛보기.ipynb",
   "provenance": []
  },
  "kernelspec": {
   "display_name": "Python 3",
   "language": "python",
   "name": "python3"
  },
  "language_info": {
   "codemirror_mode": {
    "name": "ipython",
    "version": 3
   },
   "file_extension": ".py",
   "mimetype": "text/x-python",
   "name": "python",
   "nbconvert_exporter": "python",
   "pygments_lexer": "ipython3",
   "version": "3.8.12"
  },
  "widgets": {
   "application/vnd.jupyter.widget-state+json": {
    "state": {},
    "version_major": 2,
    "version_minor": 0
   }
  }
 },
 "nbformat": 4,
 "nbformat_minor": 4
}
