{
 "cells": [
  {
   "cell_type": "markdown",
   "metadata": {
    "jupyter": {
     "source_hidden": true
    },
    "tags": []
   },
   "source": [
    "https://www.miricanvas.com/ 에서 썸네일 만들기  \n",
    "발음에 주의하세요~ 배쓸쉬파(배워두면 쓸모있는 쉬운 파이썬)"
   ]
  },
  {
   "cell_type": "markdown",
   "metadata": {
    "colab_type": "text",
    "id": "h4jseYIXOv94"
   },
   "source": [
    "# 학습목표\n",
    "* <h3> <font color=blue><b>프로그래밍 언어를 구성하는 요소를 이해한다.\n",
    "* <h3> <font color=blue><b> 파이썬의 실습 환경 구축 및 실행 방법을 살펴본다.    \n",
    "* <h3> <font color=blue><b> 파이썬에서 사용하는 기본 용어를 안다.         \n",
    "<hr>\n",
    "<font color=red> <h4> 핵심 키워드 : 텍스트 에디터, 파이썬인터프리터, interactive vs script, intentifier, comment"
   ]
  },
  {
   "cell_type": "markdown",
   "metadata": {},
   "source": [
    "# ❑ Python? Python!\n",
    "\n",
    "https://docs.google.com/presentation/d/1dBf8tlEJGhCn6dQ9CUOWmEIV-eqUCiOvsAgdopho4h0/edit?usp=sharing"
   ]
  },
  {
   "cell_type": "markdown",
   "metadata": {},
   "source": [
    "---"
   ]
  },
  {
   "cell_type": "markdown",
   "metadata": {},
   "source": [
    "# ❑ Why Python??\n",
    "\n",
    "요즘 유투브, 온라인 강의 사이트, 페이스북, 테크관련 뉴스 등에서 가장 많이 보이는 용어는?  \n",
    "\n",
    ">머신러닝  \n",
    "딥러닝  \n",
    "빅데이터  \n",
    "인공지능   \n",
    "코딩  \n",
    "등등  \n",
    "\n",
    "위의 모든 항목과 관련이 있는 것이 바로 <b><font color=red>Python!!</font></b>\n",
    "\n",
    "Python은 또 다른(더 넓은) 세계로 가는 Pass  \n"
   ]
  },
  {
   "cell_type": "markdown",
   "metadata": {
    "colab_type": "text",
    "id": "FW1ky6UjOv9-"
   },
   "source": [
    "# ❑ 파이썬의 특징\n",
    "\n",
    "* easy to learning.\n",
    "> 문법이 아주 간단해서 전공자 뿐만 아니라 비전공자도 쉽게 배울 수 있음.(많은 초보자가 C를 만나 얼마나 고생하는가?). \n",
    "* various\n",
    "> 다양한 분야의 많은 사용자가 있어서 문제 해결이 용이하고 각종 커뮤니티를 통한 지식 공유가 활발.   \n",
    "> 웹서버, 해킹,인공지능, 머신러닝, 생물정보학 등 정말 다양한 분야에서 활용하고 있음. \n",
    "* (almost) Platform Free.  \n",
    "> 다양한 운영체제에서 사용가능하며 사용법도 동일.  \n",
    "\n",
    "* weakness\n",
    "> 일반적으로 C언어에 비해 10~350배 정도 느림 -_-    \n",
    "Python의 목표가 빠른속도가 아니라 편리, 아름다움, 생산성!"
   ]
  },
  {
   "cell_type": "markdown",
   "metadata": {},
   "source": [
    "### 다음 코드를 비교해보자. 무엇이 느껴지나?\n",
    "\n",
    "* Java코드\n",
    "~~~java\n",
    "public static void main(String[] args) {\n",
    "    Sring msg=\"Life is too short! You need Python!\"\n",
    "    for(String m : msg.split(\" \"))\n",
    "        System.out.print(m)\n",
    "}\n",
    "~~~\n",
    "\n",
    "\n",
    "* Python코드\n",
    "~~~python\n",
    "msg=\"Life is too short! You need Python!\"\n",
    "print(msg.split())\n",
    "~~~\n",
    "\n"
   ]
  },
  {
   "cell_type": "markdown",
   "metadata": {
    "colab_type": "text",
    "id": "hPCvrburOv9_"
   },
   "source": [
    "# ❑ 실습환경 구축 및 실행 방법\n",
    "\n",
    "* 개발환경 : 프로그램을 작성하기 위해 소스를 작성하고, 편집하고, 실행시키고, 에러를 수정할 수 있는 환경.  \n",
    "> 텍스트 에디터 + 코드 실행기(파이썬 인터프리터)  \n",
    "\n",
    "* 기본 프로그램 설치. \n",
    "> [파이썬 공식 사이트](https://www.python.org) 에 접속하여 운영체제에 맞는 최신 버전의 파이썬 다운로드.  \n",
    "> 2021.3. 9 현재 최신버전 Python 3.9.2  \n",
    "> 설치 후 IDLE실행 (파이썬 interactive shell) - 파이썬 코드를 실행시켜주는 interpreter  \n",
    ">\n",
    "> idle는 간단한 코드작성 및 테스트용으로 사용하며 긴 프로그램을 작성하기 위해서는 idle에서 Ctrl-N으로 새창을 열어 사용(Script mode)\n",
    "\n",
    "\n",
    "* Online idle.  \n",
    "> 웹으로 idle 사용.   \n",
    "> [1. ideone](https://ideone.com)  \n",
    "> [2. repl](https://repl.it/languages/python3)  \n",
    "\n",
    "* 코딩 전용 프로그램 설치.  \n",
    "> [비주얼 스튜디오 코드](https://code.visualstudio.com): 무료로 사용할 수 있는 훌륭한 코딩용 에디터.\n",
    "\n",
    "* Jupyter Notebook 사용하기(수업시간 메인 툴). \n",
    "> 주피터 노트북의 형식으로 파이썬을 사용할 수 있게 해주는 3가지.  \n",
    ">\n",
    "> 1. [anaconda](https://www.anaconda.com):Python 기반의 데이터 분석에 필요한 오픈소스를 모아놓은 개발 플랫폼\n",
    "> 2. [Microsoft Azure](https://notebooks.azure.com):아나콘다 환경을 웹에서 사용할 수 있도록 연결해주는 웹서비스.   \n",
    "> 3. [Google Colab](https://colab.research.google.com/notebooks/intro.ipynb):jupyter notebook과 기능은 동일하나 UI를 변경하고 기능을 추가.\n",
    "\n",
    "\n",
    "* <font color=red><b>JupytherLab + Google Drive(추천)</b></font>  \n",
    "Azure서비스 종료 후 대비  \n",
    "약간의 기술적 처리 필요  \n",
    "[참고문서](https://docs.google.com/document/d/1nuny4fdVRYINkipaNzOTHvg2lARclxo7R7CSgX8scug/edit?usp=sharing)"
   ]
  },
  {
   "cell_type": "markdown",
   "metadata": {
    "colab_type": "text",
    "id": "8veHROGkOv-F"
   },
   "source": [
    "# ❑ 주석(Comment)\n",
    "\n",
    "프로그램에 전혀 영향을 주지 않는 코드로, 설명을 위해 사용.  <font color=red>#</font> 기호를 붙이면 #부터 그 이후의 글자는 주석처리됨(컴퓨터가 읽지 않음).   \n",
    "주석은 기술(skill)이 아니라 습관.  \n",
    "\n",
    "* 블록단위 문서(주석)처리 : 작은 따옴표 3개 연속 사용. 프로그램의 문서화 또는 시작 시 설명을 위해 주로 사용.  \n",
    "~~~python\n",
    "''' \n",
    "주석처리 적용 문장 1\n",
    "주석처리 적용 문장 2\n",
    "주석처리 적용 문장 3\n",
    "'''\n",
    "~~~\n",
    "\n",
    "* 행단위 주석처리 : #을 사용. 일반적인 주석을 위해 사용.    \n",
    "~~~python\n",
    "# 주석처리 적용 문장 1\n",
    "# 주석처리 적용 문장 2\n",
    "# 주석처리 적용 문장 3\n",
    "~~~\n",
    "\n",
    "* <font color=blue>Tip : Ctrl(Mac에서는 cmd) + /  또는 블럭 지정 후  Ctrl + /</font>"
   ]
  }
 ],
 "metadata": {
  "colab": {
   "collapsed_sections": [],
   "name": "ch1_Introduction.ipynb",
   "provenance": []
  },
  "kernelspec": {
   "display_name": "Python 3",
   "language": "python",
   "name": "python3"
  },
  "language_info": {
   "codemirror_mode": {
    "name": "ipython",
    "version": 3
   },
   "file_extension": ".py",
   "mimetype": "text/x-python",
   "name": "python",
   "nbconvert_exporter": "python",
   "pygments_lexer": "ipython3",
   "version": "3.8.8"
  }
 },
 "nbformat": 4,
 "nbformat_minor": 4
}
