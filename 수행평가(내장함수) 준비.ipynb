{
 "cells": [
  {
   "cell_type": "markdown",
   "id": "ebb2cfc8-b716-4000-849f-37c9a5254efb",
   "metadata": {},
   "source": [
    "## 수행평가 내장함수 대상 내장함수: \n",
    "['all', 'any', 'dir', 'len', 'max', 'min', 'sum', 'reversed', 'range', 'sorted']"
   ]
  },
  {
   "cell_type": "markdown",
   "id": "9fd6d4e6-b3fb-45f3-a648-8fea318377ef",
   "metadata": {},
   "source": [
    "* # all\n",
    ">\n",
    "전달받은 자료형의 element가 모두 True여야 True값을 반환한다."
   ]
  },
  {
   "cell_type": "code",
   "execution_count": 25,
   "id": "224e3af8-5fe6-48e7-b15d-b695f2231684",
   "metadata": {},
   "outputs": [
    {
     "name": "stdout",
     "output_type": "stream",
     "text": [
      "True\n",
      "False\n",
      "False\n"
     ]
    },
    {
     "ename": "TypeError",
     "evalue": "all() takes exactly one argument (4 given)",
     "output_type": "error",
     "traceback": [
      "\u001b[1;31m---------------------------------------------------------------------------\u001b[0m",
      "\u001b[1;31mTypeError\u001b[0m                                 Traceback (most recent call last)",
      "\u001b[1;32mc:\\Users\\USER\\hafs-portfolio\\수행평가(내장함수) 준비.ipynb Cell 3'\u001b[0m in \u001b[0;36m<cell line: 4>\u001b[1;34m()\u001b[0m\n\u001b[0;32m      <a href='vscode-notebook-cell:/c%3A/Users/USER/hafs-portfolio/%EC%88%98%ED%96%89%ED%8F%89%EA%B0%80%28%EB%82%B4%EC%9E%A5%ED%95%A8%EC%88%98%29%20%EC%A4%80%EB%B9%84.ipynb#ch0000002?line=1'>2</a>\u001b[0m \u001b[39mprint\u001b[39m(\u001b[39mall\u001b[39m([\u001b[39m1\u001b[39m, \u001b[39m'\u001b[39m\u001b[39m'\u001b[39m, \u001b[39mTrue\u001b[39;00m, [\u001b[39m1\u001b[39m,\u001b[39m2\u001b[39m]]))\n\u001b[0;32m      <a href='vscode-notebook-cell:/c%3A/Users/USER/hafs-portfolio/%EC%88%98%ED%96%89%ED%8F%89%EA%B0%80%28%EB%82%B4%EC%9E%A5%ED%95%A8%EC%88%98%29%20%EC%A4%80%EB%B9%84.ipynb#ch0000002?line=2'>3</a>\u001b[0m \u001b[39mprint\u001b[39m(\u001b[39mall\u001b[39m([\u001b[39m8\u001b[39m,\u001b[39m3\u001b[39m,\u001b[39m5\u001b[39m,\u001b[39mNone\u001b[39;00m]))\n\u001b[1;32m----> <a href='vscode-notebook-cell:/c%3A/Users/USER/hafs-portfolio/%EC%88%98%ED%96%89%ED%8F%89%EA%B0%80%28%EB%82%B4%EC%9E%A5%ED%95%A8%EC%88%98%29%20%EC%A4%80%EB%B9%84.ipynb#ch0000002?line=3'>4</a>\u001b[0m \u001b[39mprint\u001b[39m(\u001b[39mall\u001b[39m(\u001b[39m8\u001b[39m,\u001b[39m3\u001b[39m,\u001b[39m5\u001b[39m,\u001b[39m0\u001b[39m)) \u001b[39m# 1개만 주어줘야한다! -> 오류 메시지 one argument!\u001b[39;00m\n\u001b[0;32m      <a href='vscode-notebook-cell:/c%3A/Users/USER/hafs-portfolio/%EC%88%98%ED%96%89%ED%8F%89%EA%B0%80%28%EB%82%B4%EC%9E%A5%ED%95%A8%EC%88%98%29%20%EC%A4%80%EB%B9%84.ipynb#ch0000002?line=4'>5</a>\u001b[0m \u001b[39mprint\u001b[39m(\u001b[39mall\u001b[39m(\u001b[39m'\u001b[39m\u001b[39mhafs\u001b[39m\u001b[39m'\u001b[39m))\n",
      "\u001b[1;31mTypeError\u001b[0m: all() takes exactly one argument (4 given)"
     ]
    }
   ],
   "source": [
    "print(all([1, 'hafs', True, [1,2]]))\n",
    "print(all([1, '', True, [1,2]]))\n",
    "print(all([8,3,5,None]))\n",
    "print(all(8,3,5,0)) # 1개만 주어줘야한다! -> 오류 메시지 one argument!\n",
    "print(all('hafs'))\n",
    "#iterable: 숫자는 iterable 아님! / 문자열은 iterable 아님! / 반복적으로 나오는 것이 iterable"
   ]
  },
  {
   "cell_type": "code",
   "execution_count": 7,
   "id": "ded1ca99",
   "metadata": {},
   "outputs": [
    {
     "name": "stdout",
     "output_type": "stream",
     "text": [
      "Help on built-in function all in module builtins:\n",
      "\n",
      "all(iterable, /)\n",
      "    Return True if bool(x) is True for all values x in the iterable.\n",
      "    \n",
      "    If the iterable is empty, return True.\n",
      "\n"
     ]
    }
   ],
   "source": [
    "help(all)"
   ]
  },
  {
   "cell_type": "code",
   "execution_count": null,
   "id": "698dfc79-d984-4d0e-a0cc-3cdd998c7490",
   "metadata": {},
   "outputs": [],
   "source": [
    "data=[1,2,3,4]\n",
    "if all(0<x for x in data):\n",
    "    print('Yes')\n",
    "else:\n",
    "    print('No')\n",
    "    \n",
    "data=[1,2,3,0]\n",
    "if all(0<x for x in data):\n",
    "    print('Yes')\n",
    "else:\n",
    "    print('No')"
   ]
  },
  {
   "cell_type": "markdown",
   "id": "c8a6cb2e-f5e0-4299-bb0f-e285d1123fed",
   "metadata": {},
   "source": [
    "* # any\n",
    ">\n",
    "전달받은 자료형의 element 중 한개라도 True인 경우 True값을 돌려준다.\n",
    "(empty값을 넘겨주면 False)"
   ]
  },
  {
   "cell_type": "code",
   "execution_count": null,
   "id": "ca7a5180-6919-49f1-a690-4b8b05421823",
   "metadata": {},
   "outputs": [],
   "source": [
    "# True since 1,3 and 4 (at least one) is true\n",
    "l = [1, 3, 4, 0]\n",
    "print(any(l))\n",
    "\n",
    "# False since both are False\n",
    "l = [0, False]\n",
    "print(any(l))\n",
    "\n",
    "# True since 5 is true\n",
    "l = [0, False, 5]\n",
    "print(any(l))\n",
    "\n",
    "# False since iterable is empty\n",
    "l = []\n",
    "print(any(l))"
   ]
  },
  {
   "cell_type": "markdown",
   "id": "f7122aec-3f46-48d5-b13d-0fb324763dc5",
   "metadata": {},
   "source": [
    "* # dir\n",
    ">\n",
    "객체(Object)의 속성과 메소드 목록을 보여준다."
   ]
  },
  {
   "cell_type": "code",
   "execution_count": null,
   "id": "a1eedd6b-d1bd-4563-a4c5-8970a4866f81",
   "metadata": {},
   "outputs": [],
   "source": [
    "print(dir(''))\n",
    "print()\n",
    "print(dir(list))"
   ]
  },
  {
   "cell_type": "markdown",
   "id": "2817a5ff-c9b3-4057-994c-2b9e05cb3ac9",
   "metadata": {},
   "source": [
    "* # len\n",
    ">\n",
    "문자열, 리스트, 튜플 등의 갯수(길이)를 구한다."
   ]
  },
  {
   "cell_type": "code",
   "execution_count": 9,
   "id": "c64632ec-56b7-4e44-b991-848eba2f3e62",
   "metadata": {},
   "outputs": [
    {
     "name": "stdout",
     "output_type": "stream",
     "text": [
      "3\n",
      "16\n",
      "7\n"
     ]
    }
   ],
   "source": [
    "languages = ['Python', 'Java', 'JavaScript']\n",
    "\n",
    "# compute the length of languages\n",
    "length = len(languages)\n",
    "print(length)\n",
    "\n",
    "name='김수한무 거북이와 두루미...'\n",
    "print(len(name))\n",
    "k='김일성 개새끼' # 띄어쓰기도 len 값에 포함!\n",
    "print(len(k))"
   ]
  },
  {
   "cell_type": "code",
   "execution_count": 1,
   "id": "a6126825",
   "metadata": {},
   "outputs": [
    {
     "name": "stdout",
     "output_type": "stream",
     "text": [
      "Help on built-in function len in module builtins:\n",
      "\n",
      "len(obj, /)\n",
      "    Return the number of items in a container.\n",
      "\n"
     ]
    }
   ],
   "source": [
    "help(len)"
   ]
  },
  {
   "cell_type": "markdown",
   "id": "78d26687-b9c9-4736-bc27-042eacc7645a",
   "metadata": {},
   "source": [
    "* # max, min\n",
    ">\n",
    "매개변수로 받은 자료형(iterable)에서 최대값 또는 최소값을 반환한다"
   ]
  },
  {
   "cell_type": "code",
   "execution_count": 23,
   "id": "93859903-d762-44c5-8d46-fdb597ad77b3",
   "metadata": {},
   "outputs": [
    {
     "name": "stdout",
     "output_type": "stream",
     "text": [
      "3 1\n",
      "s B\n",
      "e A\n",
      "6 2\n"
     ]
    }
   ],
   "source": [
    "# min(iterable) 함수 예제1 : 리스트 이용 \n",
    "a = [1, 2, 3] \n",
    "print(max(a),min(a)) \n",
    "\n",
    "# min(iterable) 함수 예제2 : 문자열 이용 \n",
    "b = 'BlockDMask' \n",
    "print(max(b),min(b)) \n",
    "e='abcdeABCDE'\n",
    "print(max(e),min(e))\n",
    "\n",
    "# min(iterable) 함수 예제3 : non iterable 인 경우 \n",
    "c = 1 \n",
    "# print(min(c)) # error : 'int' object is not iterable \n",
    "\n",
    "# min(iterable) 함수 예제4 : 튜플 이용 \n",
    "d = (6, 5, 4, 2) \n",
    "print(max(d),min(d)) "
   ]
  },
  {
   "cell_type": "code",
   "execution_count": 2,
   "id": "36c701a6",
   "metadata": {},
   "outputs": [
    {
     "name": "stdout",
     "output_type": "stream",
     "text": [
      "Help on built-in function min in module builtins:\n",
      "\n",
      "min(...)\n",
      "    min(iterable, *[, default=obj, key=func]) -> value\n",
      "    min(arg1, arg2, *args, *[, key=func]) -> value\n",
      "    \n",
      "    With a single iterable argument, return its smallest item. The\n",
      "    default keyword-only argument specifies an object to return if\n",
      "    the provided iterable is empty.\n",
      "    With two or more arguments, return the smallest argument.\n",
      "\n"
     ]
    }
   ],
   "source": [
    "help(min)"
   ]
  },
  {
   "cell_type": "code",
   "execution_count": 3,
   "id": "9a591767",
   "metadata": {},
   "outputs": [
    {
     "name": "stdout",
     "output_type": "stream",
     "text": [
      "Help on built-in function max in module builtins:\n",
      "\n",
      "max(...)\n",
      "    max(iterable, *[, default=obj, key=func]) -> value\n",
      "    max(arg1, arg2, *args, *[, key=func]) -> value\n",
      "    \n",
      "    With a single iterable argument, return its biggest item. The\n",
      "    default keyword-only argument specifies an object to return if\n",
      "    the provided iterable is empty.\n",
      "    With two or more arguments, return the largest argument.\n",
      "\n"
     ]
    }
   ],
   "source": [
    "help(max)"
   ]
  },
  {
   "cell_type": "markdown",
   "id": "cde3b12a-7350-40b8-a0db-01f57291a9a3",
   "metadata": {},
   "source": [
    "* # sum\n",
    ">\n",
    "매개변수로 받은 자료형(iterable)의 값을 모두 더한 값을 반환한다.  \n",
    "iterable한 자료형을 받으며 numeric 해야함. 즉, 리스트나 튜플 처럼 인덱스 순환 접근이 가능한 자료형이고 내부에 숫자로만 이루어져 있어야함. 여기서 숫자는 정수, 실수 둘다 가능\n"
   ]
  },
  {
   "cell_type": "code",
   "execution_count": null,
   "id": "531b124c-439f-4109-ae0d-61a81a16709f",
   "metadata": {},
   "outputs": [],
   "source": [
    "# sum(iterable) 에제 1 : 리스트 \n",
    "\n",
    "result1 = sum([1, 2, 3, 4, 5, 6, 7, 8, 9, 10]) \n",
    "print(result1)\n",
    "\n",
    "# sum(iterable) 에제 2 : 숫자가 아닌 값이 들어간 리스트 \n",
    "a = [1, 2, 'python', 4, 5, 'BlockDMask', 7, 8, 9, 10] \n",
    "result2 = sum(a)  # 숫자가 아닌 값이 있기 때문에 error\n",
    "\n",
    "# sum(iterable) 에제 3 : 튜플 \n",
    "b = (1, 2, 3, 4, 5, 6, 7, 8, 9, 10) \n",
    "result3 = sum(b) \n",
    "print(result3)"
   ]
  },
  {
   "cell_type": "code",
   "execution_count": 4,
   "id": "779c09f3",
   "metadata": {},
   "outputs": [
    {
     "name": "stdout",
     "output_type": "stream",
     "text": [
      "Help on built-in function sum in module builtins:\n",
      "\n",
      "sum(iterable, /, start=0)\n",
      "    Return the sum of a 'start' value (default: 0) plus an iterable of numbers\n",
      "    \n",
      "    When the iterable is empty, return the start value.\n",
      "    This function is intended specifically for use with numeric values and may\n",
      "    reject non-numeric types.\n",
      "\n"
     ]
    }
   ],
   "source": [
    "help(sum)"
   ]
  },
  {
   "cell_type": "markdown",
   "id": "3590d364-1734-4046-b18b-3e3aacc1116f",
   "metadata": {},
   "source": [
    "* # reversed\n",
    ">\n",
    "스트링, 리스트, 튜플, 딕셔너리 등에서 사용가능하며 요소를 역순으로 배치하여 반환한다. (순서가 있어서 index 가 있고, reverse 가 있음. Set 은 리버스 없음)"
   ]
  },
  {
   "cell_type": "code",
   "execution_count": 14,
   "id": "8206d937-d4c1-4384-acc7-7a62a82efd2a",
   "metadata": {},
   "outputs": [
    {
     "name": "stdout",
     "output_type": "stream",
     "text": [
      "[9, 8, 7, 6, 5, 4, 3, 2, 1, 0]\n",
      "['orange', 'banana', 'apple']\n",
      "()\n"
     ]
    }
   ],
   "source": [
    "digits = [0, 1, 2, 3, 4, 5, 6, 7, 8, 9]\n",
    "\n",
    "reversed_digits = reversed(digits)\n",
    "print(list(reversed_digits)) # list로 타입변환해야 확인할 수 있다. 리스트의 method reverse 랑 햇갈려서 구별!\n",
    "\n",
    "fruits = [\"apple\", \"banana\", \"orange\"]\n",
    "\n",
    "reversed_fruit = reversed(fruits) \n",
    "print(list(reversed_fruit))\n",
    "print(tuple(reversed_fruit)) # tuple은 수정 불가능하다."
   ]
  },
  {
   "cell_type": "code",
   "execution_count": 5,
   "id": "09fb2870",
   "metadata": {},
   "outputs": [
    {
     "name": "stdout",
     "output_type": "stream",
     "text": [
      "Help on class reversed in module builtins:\n",
      "\n",
      "class reversed(object)\n",
      " |  reversed(sequence, /)\n",
      " |  \n",
      " |  Return a reverse iterator over the values of the given sequence.\n",
      " |  \n",
      " |  Methods defined here:\n",
      " |  \n",
      " |  __getattribute__(self, name, /)\n",
      " |      Return getattr(self, name).\n",
      " |  \n",
      " |  __iter__(self, /)\n",
      " |      Implement iter(self).\n",
      " |  \n",
      " |  __length_hint__(...)\n",
      " |      Private method returning an estimate of len(list(it)).\n",
      " |  \n",
      " |  __next__(self, /)\n",
      " |      Implement next(self).\n",
      " |  \n",
      " |  __reduce__(...)\n",
      " |      Return state information for pickling.\n",
      " |  \n",
      " |  __setstate__(...)\n",
      " |      Set state information for unpickling.\n",
      " |  \n",
      " |  ----------------------------------------------------------------------\n",
      " |  Static methods defined here:\n",
      " |  \n",
      " |  __new__(*args, **kwargs) from builtins.type\n",
      " |      Create and return a new object.  See help(type) for accurate signature.\n",
      "\n"
     ]
    }
   ],
   "source": [
    "help(reversed)"
   ]
  },
  {
   "cell_type": "markdown",
   "id": "6f2e0a6b-b3b7-476c-acd8-6da15d13ba19",
   "metadata": {},
   "source": [
    "* # range\n",
    ">\n",
    "특정 구간의 숫자의 범위를 만들어주는 함수  \n",
    "\n",
    ">range(A) \n",
    "0부터 A-1 까지의 정수 범위를 반환\n",
    "\n",
    ">range(A, B)\n",
    "A부터 B-1 까지의 정수 범위를 반환\n",
    "\n",
    ">range(A, B, C)\n",
    "A부터 C 숫자만큼의 간격으로 B-1 까지의 정수 범위를 반환"
   ]
  },
  {
   "cell_type": "code",
   "execution_count": 26,
   "id": "b533a67f-b7cc-4f1d-90d8-33da052f1c9b",
   "metadata": {},
   "outputs": [
    {
     "name": "stdout",
     "output_type": "stream",
     "text": [
      "range(0, 5)\n",
      "[1, 2, 3, 4]\n",
      "[1, 3, 5, 7, 9]\n",
      "[1, 2, 3, 4, 5, 6, 7, 8, 9, 10, 11, 12, 13, 14, 15, 16, 17, 18, 19, 20, 21, 22, 23, 24, 25, 26, 27, 28, 29, 30, 31, 32, 33, 34, 35, 36, 37, 38, 39, 40, 41, 42, 43, 44, 45, 46, 47, 48, 49, 50, 51, 52, 53, 54, 55, 56, 57, 58, 59, 60, 61, 62, 63, 64, 65, 66, 67, 68, 69, 70, 71, 72, 73, 74, 75, 76, 77, 78, 79, 80, 81, 82, 83, 84, 85, 86, 87, 88, 89, 90, 91, 92, 93, 94, 95, 96, 97, 98, 99, 100, 101, 102, 103, 104, 105, 106, 107, 108, 109, 110, 111, 112, 113, 114, 115, 116, 117, 118, 119, 120, 121, 122, 123, 124, 125, 126, 127, 128, 129, 130, 131, 132, 133, 134, 135, 136, 137, 138, 139, 140, 141, 142, 143, 144, 145, 146, 147, 148, 149, 150, 151, 152, 153, 154, 155, 156, 157, 158, 159, 160, 161, 162, 163, 164, 165, 166, 167, 168, 169, 170, 171, 172, 173, 174, 175, 176, 177, 178, 179, 180, 181, 182, 183, 184, 185, 186, 187, 188, 189, 190, 191, 192, 193, 194, 195, 196, 197, 198, 199, 200, 201, 202, 203, 204, 205, 206, 207, 208, 209, 210, 211, 212, 213, 214, 215, 216, 217, 218, 219, 220, 221, 222, 223, 224, 225, 226, 227, 228, 229, 230, 231, 232, 233, 234, 235, 236, 237, 238, 239, 240, 241, 242, 243, 244, 245, 246, 247, 248, 249, 250, 251, 252, 253, 254, 255, 256, 257, 258, 259, 260, 261, 262, 263, 264, 265, 266, 267, 268, 269, 270, 271, 272, 273, 274, 275, 276, 277, 278, 279, 280, 281, 282, 283, 284, 285, 286, 287, 288, 289, 290, 291, 292, 293, 294, 295, 296, 297, 298, 299, 300, 301, 302, 303, 304, 305, 306, 307, 308, 309, 310, 311, 312, 313, 314, 315, 316, 317, 318, 319, 320, 321, 322, 323, 324, 325, 326, 327, 328, 329, 330, 331, 332, 333, 334, 335, 336, 337, 338, 339, 340, 341, 342, 343, 344, 345, 346, 347, 348, 349, 350, 351, 352, 353, 354, 355, 356, 357, 358, 359, 360, 361, 362, 363, 364, 365, 366, 367, 368, 369, 370, 371, 372, 373, 374, 375, 376, 377, 378, 379, 380, 381, 382, 383, 384, 385, 386, 387, 388, 389, 390, 391, 392, 393, 394, 395, 396, 397, 398, 399, 400, 401, 402, 403, 404, 405, 406, 407, 408, 409, 410, 411, 412, 413, 414, 415, 416, 417, 418, 419, 420, 421, 422, 423, 424, 425, 426, 427, 428, 429, 430, 431, 432, 433, 434, 435, 436, 437, 438, 439, 440, 441, 442, 443, 444, 445, 446, 447, 448, 449, 450, 451, 452, 453, 454, 455, 456, 457, 458, 459, 460, 461, 462, 463, 464, 465, 466, 467, 468, 469, 470, 471, 472, 473, 474, 475, 476, 477, 478, 479, 480, 481, 482, 483, 484, 485, 486, 487, 488, 489, 490, 491, 492, 493, 494, 495, 496, 497, 498, 499, 500, 501, 502, 503, 504, 505, 506, 507, 508, 509, 510, 511, 512, 513, 514, 515, 516, 517, 518, 519, 520, 521, 522, 523, 524, 525, 526, 527, 528, 529, 530, 531, 532, 533, 534, 535, 536, 537, 538, 539, 540, 541, 542, 543, 544, 545, 546, 547, 548, 549, 550, 551, 552, 553, 554, 555, 556, 557, 558, 559, 560, 561, 562, 563, 564, 565, 566, 567, 568, 569, 570, 571, 572, 573, 574, 575, 576, 577, 578, 579, 580, 581, 582, 583, 584, 585, 586, 587, 588, 589, 590, 591, 592, 593, 594, 595, 596, 597, 598, 599, 600, 601, 602, 603, 604, 605, 606, 607, 608, 609, 610, 611, 612, 613, 614, 615, 616, 617, 618, 619, 620, 621, 622, 623, 624, 625, 626, 627, 628, 629, 630, 631, 632, 633, 634, 635, 636, 637, 638, 639, 640, 641, 642, 643, 644, 645, 646, 647, 648, 649, 650, 651, 652, 653, 654, 655, 656, 657, 658, 659, 660, 661, 662, 663, 664, 665, 666, 667, 668, 669, 670, 671, 672, 673, 674, 675, 676, 677, 678, 679, 680, 681, 682, 683, 684, 685, 686, 687, 688, 689, 690, 691, 692, 693, 694, 695, 696, 697, 698, 699, 700, 701, 702, 703, 704, 705, 706, 707, 708, 709, 710, 711, 712, 713, 714, 715, 716, 717, 718, 719, 720, 721, 722, 723, 724, 725, 726, 727, 728, 729, 730, 731, 732, 733, 734, 735, 736, 737, 738, 739, 740, 741, 742, 743, 744, 745, 746, 747, 748, 749, 750, 751, 752, 753, 754, 755, 756, 757, 758, 759, 760, 761, 762, 763, 764, 765, 766, 767, 768, 769, 770, 771, 772, 773, 774, 775, 776, 777, 778, 779, 780, 781, 782, 783, 784, 785, 786, 787, 788, 789, 790, 791, 792, 793, 794, 795, 796, 797, 798, 799, 800, 801, 802, 803, 804, 805, 806, 807, 808, 809, 810, 811, 812, 813, 814, 815, 816, 817, 818, 819, 820, 821, 822, 823, 824, 825, 826, 827, 828, 829, 830, 831, 832, 833, 834, 835, 836, 837, 838, 839, 840, 841, 842, 843, 844, 845, 846, 847, 848, 849, 850, 851, 852, 853, 854, 855, 856, 857, 858, 859, 860, 861, 862, 863, 864, 865, 866, 867, 868, 869, 870, 871, 872, 873, 874, 875, 876, 877, 878, 879, 880, 881, 882, 883, 884, 885, 886, 887, 888, 889, 890, 891, 892, 893, 894, 895, 896, 897, 898, 899, 900, 901, 902, 903, 904, 905, 906, 907, 908, 909, 910, 911, 912, 913, 914, 915, 916, 917, 918, 919, 920, 921, 922, 923, 924, 925, 926, 927, 928, 929, 930, 931, 932, 933, 934, 935, 936, 937, 938, 939, 940, 941, 942, 943, 944, 945, 946, 947, 948, 949, 950, 951, 952, 953, 954, 955, 956, 957, 958, 959, 960, 961, 962, 963, 964, 965, 966, 967, 968, 969, 970, 971, 972, 973, 974, 975, 976, 977, 978, 979, 980, 981, 982, 983, 984, 985, 986, 987, 988, 989, 990, 991, 992, 993, 994, 995, 996, 997, 998, 999, 1000]\n"
     ]
    }
   ],
   "source": [
    "result = (range(5)) # list로 타입변환이 필요 / 마지막은 포함하지 않는다. range(5)은 0부터 4까지의 숫자를 반환한다.\n",
    "print(result)\n",
    "\n",
    "result = list(range(1, 5))\n",
    "print(result)\n",
    "\n",
    "result = list(range(1, 10, 2)) # 1,3,5,7,9\n",
    "print(result)\n",
    "#1부터 1000까지\n",
    "print(list(range(1, 1000+1))) # -> 오류 발생 줄이고 모양 편하게 보이게 range(1, 1000+1)으로 변경해준다."
   ]
  },
  {
   "cell_type": "code",
   "execution_count": 6,
   "id": "2cd3b734",
   "metadata": {},
   "outputs": [
    {
     "name": "stdout",
     "output_type": "stream",
     "text": [
      "Help on class range in module builtins:\n",
      "\n",
      "class range(object)\n",
      " |  range(stop) -> range object\n",
      " |  range(start, stop[, step]) -> range object\n",
      " |  \n",
      " |  Return an object that produces a sequence of integers from start (inclusive)\n",
      " |  to stop (exclusive) by step.  range(i, j) produces i, i+1, i+2, ..., j-1.\n",
      " |  start defaults to 0, and stop is omitted!  range(4) produces 0, 1, 2, 3.\n",
      " |  These are exactly the valid indices for a list of 4 elements.\n",
      " |  When step is given, it specifies the increment (or decrement).\n",
      " |  \n",
      " |  Methods defined here:\n",
      " |  \n",
      " |  __bool__(self, /)\n",
      " |      self != 0\n",
      " |  \n",
      " |  __contains__(self, key, /)\n",
      " |      Return key in self.\n",
      " |  \n",
      " |  __eq__(self, value, /)\n",
      " |      Return self==value.\n",
      " |  \n",
      " |  __ge__(self, value, /)\n",
      " |      Return self>=value.\n",
      " |  \n",
      " |  __getattribute__(self, name, /)\n",
      " |      Return getattr(self, name).\n",
      " |  \n",
      " |  __getitem__(self, key, /)\n",
      " |      Return self[key].\n",
      " |  \n",
      " |  __gt__(self, value, /)\n",
      " |      Return self>value.\n",
      " |  \n",
      " |  __hash__(self, /)\n",
      " |      Return hash(self).\n",
      " |  \n",
      " |  __iter__(self, /)\n",
      " |      Implement iter(self).\n",
      " |  \n",
      " |  __le__(self, value, /)\n",
      " |      Return self<=value.\n",
      " |  \n",
      " |  __len__(self, /)\n",
      " |      Return len(self).\n",
      " |  \n",
      " |  __lt__(self, value, /)\n",
      " |      Return self<value.\n",
      " |  \n",
      " |  __ne__(self, value, /)\n",
      " |      Return self!=value.\n",
      " |  \n",
      " |  __reduce__(...)\n",
      " |      Helper for pickle.\n",
      " |  \n",
      " |  __repr__(self, /)\n",
      " |      Return repr(self).\n",
      " |  \n",
      " |  __reversed__(...)\n",
      " |      Return a reverse iterator.\n",
      " |  \n",
      " |  count(...)\n",
      " |      rangeobject.count(value) -> integer -- return number of occurrences of value\n",
      " |  \n",
      " |  index(...)\n",
      " |      rangeobject.index(value) -> integer -- return index of value.\n",
      " |      Raise ValueError if the value is not present.\n",
      " |  \n",
      " |  ----------------------------------------------------------------------\n",
      " |  Static methods defined here:\n",
      " |  \n",
      " |  __new__(*args, **kwargs) from builtins.type\n",
      " |      Create and return a new object.  See help(type) for accurate signature.\n",
      " |  \n",
      " |  ----------------------------------------------------------------------\n",
      " |  Data descriptors defined here:\n",
      " |  \n",
      " |  start\n",
      " |  \n",
      " |  step\n",
      " |  \n",
      " |  stop\n",
      "\n"
     ]
    }
   ],
   "source": [
    "help(range)"
   ]
  },
  {
   "cell_type": "markdown",
   "id": "be998821-c176-441c-9bff-e03faa7ab578",
   "metadata": {},
   "source": [
    "* # sorted\n",
    ">\n",
    "첫 번째 매개변수로 들어온 이터러블한 데이터를 새로운 정렬된 리스트로 만들어서 반환해 주는 함수  \n",
    "\n",
    ">reverse 옵션 (reverse 파라미터)\n",
    "해당 파라미터를 이용하면 오름차순으로 정렬할지 내림차순으로 정렬할지 정할 수 있습니다.\n",
    "디폴트로는 reverse=False로 오름차순으로 정렬이 됩니다.\n",
    "sorted( ~~ , reverse=True)로 입력하게 되면 내림차순으로 정렬하여 반환합니다. reverse 는 for을 안써도 된다.  어떻게 reversed는 true 를 쓰지 않고 reverse 할 수 있을 까?\n"
   ]
  },
  {
   "cell_type": "code",
   "execution_count": 22,
   "id": "9e244fad-ad7e-470c-adbf-3ab81389ea82",
   "metadata": {},
   "outputs": [
    {
     "name": "stdout",
     "output_type": "stream",
     "text": [
      "[2, 4, 1, 9, 100, 29, 40, 10]\n",
      "[1, 2, 4, 9, 10, 29, 40, 100]\n",
      "[100, 40, 29, 10, 9, 4, 2, 1]\n",
      "[1, 2, 3, 4, 5]\n"
     ]
    }
   ],
   "source": [
    "a = [2, 4, 1, 9, 100, 29, 40, 10]\n",
    "b = sorted(a)\n",
    "c = sorted(a, reverse=True)\n",
    "\n",
    "print(a,b,c,sep='\\n')\n",
    "\n",
    "\n",
    "print(sorted([5, 2, 3, 1, 4]))"
   ]
  },
  {
   "cell_type": "code",
   "execution_count": 7,
   "id": "e61e00dc",
   "metadata": {},
   "outputs": [
    {
     "name": "stdout",
     "output_type": "stream",
     "text": [
      "Help on built-in function sorted in module builtins:\n",
      "\n",
      "sorted(iterable, /, *, key=None, reverse=False)\n",
      "    Return a new list containing all items from the iterable in ascending order.\n",
      "    \n",
      "    A custom key function can be supplied to customize the sort order, and the\n",
      "    reverse flag can be set to request the result in descending order.\n",
      "\n"
     ]
    }
   ],
   "source": [
    "help(sorted)"
   ]
  },
  {
   "cell_type": "markdown",
   "id": "7dfa2aec",
   "metadata": {},
   "source": [
    "* # return"
   ]
  },
  {
   "cell_type": "code",
   "execution_count": 1,
   "id": "b1b18f4e",
   "metadata": {},
   "outputs": [
    {
     "name": "stdout",
     "output_type": "stream",
     "text": [
      "hafs\n",
      "None\n",
      "4\n",
      "6\n"
     ]
    }
   ],
   "source": [
    "# return값이란? \n",
    "\"\"\" 함수의 역할을 사용하자! 모든 함수는 실행이 끝난 후에 자기를 호출한 곳으로 돌려준다 or 돌려주지 않는다 \n",
    "돌려준 값 == return값 / 돌려주지 않은 값 == None // 모든 함수는 return 있거나 or 없다. \n",
    "\"\"\"\n",
    "\n",
    "result=print('hafs')\n",
    "print(result)\n",
    "# 프린트 함수는 리턴이 없다. 위에서 출력된거는 return 값이 출력된 것이 아니고 print 함수가 하는 일이다.\n",
    "\n",
    "result=len('hafs')\n",
    "# len 함수는 리턴이 있다. result 에는 len 함수의 리턴 값, 4가 assign 된다. \n",
    "print(result)\n",
    "print(len('python'))"
   ]
  },
  {
   "cell_type": "code",
   "execution_count": 5,
   "id": "fef707f6",
   "metadata": {},
   "outputs": [
    {
     "name": "stdout",
     "output_type": "stream",
     "text": [
      "Help on method raw_input in module ipykernel.kernelbase:\n",
      "\n",
      "raw_input(prompt='') method of ipykernel.ipkernel.IPythonKernel instance\n",
      "    Forward raw_input to frontends\n",
      "    \n",
      "    Raises\n",
      "    ------\n",
      "    StdinNotImplementedError if active frontend doesn't support stdin.\n",
      "\n"
     ]
    }
   ],
   "source": [
    "help(input)"
   ]
  },
  {
   "cell_type": "code",
   "execution_count": 18,
   "id": "a5a52a71",
   "metadata": {},
   "outputs": [
    {
     "name": "stdout",
     "output_type": "stream",
     "text": [
      "[1, 4, 37, 1000, 81001, 19683244, 14349084877, 31381448626000, 205893684435186001, 4052605390737766057684]\n",
      "[1, 1, 2, 3, 5, 8, 13, 21, 34, 55, 89]\n"
     ]
    }
   ],
   "source": [
    "a=[1]\n",
    "for i in range(1,10):\n",
    "    b=a[i-1]\n",
    "    a.append(b*(3**(i))+1)\n",
    "print(a)\n",
    "c=[1,1]\n",
    "for k in range(1,10):\n",
    "    c.append(c[k-1]+c[k])\n",
    "print(c)\n"
   ]
  },
  {
   "cell_type": "code",
   "execution_count": 24,
   "id": "609da4e5",
   "metadata": {},
   "outputs": [
    {
     "name": "stdout",
     "output_type": "stream",
     "text": [
      "점화식 계산기: k(n+1)=a^n*k(n)+b, a1=c, n=d\n",
      "k(n+1)=5^n*k(n)+1, k1=2, k3= 34501\n"
     ]
    }
   ],
   "source": [
    "print('점화식 계산기: k(n+1)=a^n*k(n)+b, a1=c, n=d')\n",
    "a,b,c,d=(int(input('a:')),int(input('b:')),int(input('c:')),int(input('d:')))\n",
    "induct=[c]\n",
    "for i in range(1,(d)+1):\n",
    "    induct.append(a**i*induct[i-1]+b)\n",
    "print(f'k(n+1)={a}^n*k(n)+{b}, k1={c}, k{d}=',induct[-1])\n"
   ]
  }
 ],
 "metadata": {
  "interpreter": {
   "hash": "df95319d8ce4e1d89f5365ae10992bc1f65da593082b1d264e8f529830ec2f02"
  },
  "kernelspec": {
   "display_name": "Python 3.10.2 64-bit",
   "language": "python",
   "name": "python3"
  },
  "language_info": {
   "codemirror_mode": {
    "name": "ipython",
    "version": 3
   },
   "file_extension": ".py",
   "mimetype": "text/x-python",
   "name": "python",
   "nbconvert_exporter": "python",
   "pygments_lexer": "ipython3",
   "version": "3.10.2"
  }
 },
 "nbformat": 4,
 "nbformat_minor": 5
}
