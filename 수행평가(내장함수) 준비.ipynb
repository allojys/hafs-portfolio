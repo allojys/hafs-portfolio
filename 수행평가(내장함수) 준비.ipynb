{
 "cells": [
  {
   "cell_type": "markdown",
   "id": "ebb2cfc8-b716-4000-849f-37c9a5254efb",
   "metadata": {},
   "source": [
    "## 수행평가 내장함수 대상 내장함수: \n",
    "['all', 'any', 'dir', 'len', 'max', 'min', 'sum', 'reversed', 'range', 'sorted']"
   ]
  },
  {
   "cell_type": "markdown",
   "id": "9fd6d4e6-b3fb-45f3-a648-8fea318377ef",
   "metadata": {},
   "source": [
    "* # all\n",
    ">\n",
    "전달받은 자료형의 element가 모두 True여야 True값을 반환한다."
   ]
  },
  {
   "cell_type": "code",
   "execution_count": 10,
   "id": "224e3af8-5fe6-48e7-b15d-b695f2231684",
   "metadata": {},
   "outputs": [
    {
     "name": "stdout",
     "output_type": "stream",
     "text": [
      "True\n",
      "False\n",
      "False\n"
     ]
    },
    {
     "ename": "TypeError",
     "evalue": "all() takes exactly one argument (4 given)",
     "output_type": "error",
     "traceback": [
      "\u001b[0;31m---------------------------------------------------------------------------\u001b[0m",
      "\u001b[0;31mTypeError\u001b[0m                                 Traceback (most recent call last)",
      "\u001b[1;32m/workspaces/hafs_portfolio/수행평가(내장함수) 준비.ipynb Cell 3'\u001b[0m in \u001b[0;36m<cell line: 4>\u001b[0;34m()\u001b[0m\n\u001b[1;32m      <a href='vscode-notebook-cell://codespaces%2Ballojys-hafs-portfolio-5w9w9w6p375rw/workspaces/hafs_portfolio/%EC%88%98%ED%96%89%ED%8F%89%EA%B0%80%28%EB%82%B4%EC%9E%A5%ED%95%A8%EC%88%98%29%20%EC%A4%80%EB%B9%84.ipynb#ch0000002vscode-remote?line=1'>2</a>\u001b[0m \u001b[39mprint\u001b[39m(\u001b[39mall\u001b[39m([\u001b[39m1\u001b[39m, \u001b[39m'\u001b[39m\u001b[39m'\u001b[39m, \u001b[39mTrue\u001b[39;00m, [\u001b[39m1\u001b[39m,\u001b[39m2\u001b[39m]]))\n\u001b[1;32m      <a href='vscode-notebook-cell://codespaces%2Ballojys-hafs-portfolio-5w9w9w6p375rw/workspaces/hafs_portfolio/%EC%88%98%ED%96%89%ED%8F%89%EA%B0%80%28%EB%82%B4%EC%9E%A5%ED%95%A8%EC%88%98%29%20%EC%A4%80%EB%B9%84.ipynb#ch0000002vscode-remote?line=2'>3</a>\u001b[0m \u001b[39mprint\u001b[39m(\u001b[39mall\u001b[39m([\u001b[39m8\u001b[39m,\u001b[39m3\u001b[39m,\u001b[39m5\u001b[39m,\u001b[39mNone\u001b[39;00m]))\n\u001b[0;32m----> <a href='vscode-notebook-cell://codespaces%2Ballojys-hafs-portfolio-5w9w9w6p375rw/workspaces/hafs_portfolio/%EC%88%98%ED%96%89%ED%8F%89%EA%B0%80%28%EB%82%B4%EC%9E%A5%ED%95%A8%EC%88%98%29%20%EC%A4%80%EB%B9%84.ipynb#ch0000002vscode-remote?line=3'>4</a>\u001b[0m \u001b[39mprint\u001b[39m(\u001b[39mall\u001b[39;49m(\u001b[39m8\u001b[39;49m,\u001b[39m3\u001b[39;49m,\u001b[39m5\u001b[39;49m,\u001b[39m0\u001b[39;49m))\n",
      "\u001b[0;31mTypeError\u001b[0m: all() takes exactly one argument (4 given)"
     ]
    }
   ],
   "source": [
    "print(all([1, 'hafs', True, [1,2]]))\n",
    "print(all([1, '', True, [1,2]]))\n",
    "print(all([8,3,5,None]))\n",
    "print(all(8,3,5,0)) # 1개만 주어줘야한다! -> 오류 메시지 one argument!\n",
    "#iterable: 숫자는 iterable 아님! / 문자열은 iterable 아님! / 반복적으로 나오는 것이 iterable"
   ]
  },
  {
   "cell_type": "code",
   "execution_count": 7,
   "id": "ded1ca99",
   "metadata": {},
   "outputs": [
    {
     "name": "stdout",
     "output_type": "stream",
     "text": [
      "Help on built-in function all in module builtins:\n",
      "\n",
      "all(iterable, /)\n",
      "    Return True if bool(x) is True for all values x in the iterable.\n",
      "    \n",
      "    If the iterable is empty, return True.\n",
      "\n"
     ]
    }
   ],
   "source": [
    "help(all)"
   ]
  },
  {
   "cell_type": "code",
   "execution_count": null,
   "id": "698dfc79-d984-4d0e-a0cc-3cdd998c7490",
   "metadata": {},
   "outputs": [],
   "source": [
    "data=[1,2,3,4]\n",
    "if all(0<x for x in data):\n",
    "    print('Yes')\n",
    "else:\n",
    "    print('No')\n",
    "    \n",
    "data=[1,2,3,0]\n",
    "if all(0<x for x in data):\n",
    "    print('Yes')\n",
    "else:\n",
    "    print('No')"
   ]
  },
  {
   "cell_type": "markdown",
   "id": "c8a6cb2e-f5e0-4299-bb0f-e285d1123fed",
   "metadata": {},
   "source": [
    "* # any\n",
    ">\n",
    "전달받은 자료형의 element 중 한개라도 True인 경우 True값을 돌려준다.\n",
    "(empty값을 넘겨주면 False)"
   ]
  },
  {
   "cell_type": "code",
   "execution_count": null,
   "id": "ca7a5180-6919-49f1-a690-4b8b05421823",
   "metadata": {},
   "outputs": [],
   "source": [
    "# True since 1,3 and 4 (at least one) is true\n",
    "l = [1, 3, 4, 0]\n",
    "print(any(l))\n",
    "\n",
    "# False since both are False\n",
    "l = [0, False]\n",
    "print(any(l))\n",
    "\n",
    "# True since 5 is true\n",
    "l = [0, False, 5]\n",
    "print(any(l))\n",
    "\n",
    "# False since iterable is empty\n",
    "l = []\n",
    "print(any(l))"
   ]
  },
  {
   "cell_type": "markdown",
   "id": "f7122aec-3f46-48d5-b13d-0fb324763dc5",
   "metadata": {},
   "source": [
    "* # dir\n",
    ">\n",
    "객체(Object)의 속성과 메소드 목록을 보여준다."
   ]
  },
  {
   "cell_type": "code",
   "execution_count": null,
   "id": "a1eedd6b-d1bd-4563-a4c5-8970a4866f81",
   "metadata": {},
   "outputs": [],
   "source": [
    "print(dir(''))\n",
    "print()\n",
    "print(dir(list))"
   ]
  },
  {
   "cell_type": "markdown",
   "id": "2817a5ff-c9b3-4057-994c-2b9e05cb3ac9",
   "metadata": {},
   "source": [
    "* # len\n",
    ">\n",
    "문자열, 리스트, 튜플 등의 갯수(길이)를 구한다."
   ]
  },
  {
   "cell_type": "code",
   "execution_count": null,
   "id": "c64632ec-56b7-4e44-b991-848eba2f3e62",
   "metadata": {},
   "outputs": [],
   "source": [
    "languages = ['Python', 'Java', 'JavaScript']\n",
    "\n",
    "# compute the length of languages\n",
    "length = len(languages)\n",
    "print(length)\n",
    "\n",
    "name='김수한무 거북이와 두루미...'\n",
    "print(len(name))"
   ]
  },
  {
   "cell_type": "markdown",
   "id": "78d26687-b9c9-4736-bc27-042eacc7645a",
   "metadata": {},
   "source": [
    "* # max, min\n",
    ">\n",
    "매개변수로 받은 자료형(iterable)에서 최대값 또는 최소값을 반환한다"
   ]
  },
  {
   "cell_type": "code",
   "execution_count": 11,
   "id": "93859903-d762-44c5-8d46-fdb597ad77b3",
   "metadata": {},
   "outputs": [
    {
     "name": "stdout",
     "output_type": "stream",
     "text": [
      "3 1\n",
      "s B\n"
     ]
    },
    {
     "ename": "TypeError",
     "evalue": "'int' object is not iterable",
     "output_type": "error",
     "traceback": [
      "\u001b[0;31m---------------------------------------------------------------------------\u001b[0m",
      "\u001b[0;31mTypeError\u001b[0m                                 Traceback (most recent call last)",
      "\u001b[1;32m/workspaces/hafs_portfolio/수행평가(내장함수) 준비.ipynb Cell 13'\u001b[0m in \u001b[0;36m<cell line: 11>\u001b[0;34m()\u001b[0m\n\u001b[1;32m      <a href='vscode-notebook-cell://codespaces%2Ballojys-hafs-portfolio-5w9w9w6p375rw/workspaces/hafs_portfolio/%EC%88%98%ED%96%89%ED%8F%89%EA%B0%80%28%EB%82%B4%EC%9E%A5%ED%95%A8%EC%88%98%29%20%EC%A4%80%EB%B9%84.ipynb#ch0000011vscode-remote?line=8'>9</a>\u001b[0m \u001b[39m# min(iterable) 함수 예제3 : non iterable 인 경우 \u001b[39;00m\n\u001b[1;32m     <a href='vscode-notebook-cell://codespaces%2Ballojys-hafs-portfolio-5w9w9w6p375rw/workspaces/hafs_portfolio/%EC%88%98%ED%96%89%ED%8F%89%EA%B0%80%28%EB%82%B4%EC%9E%A5%ED%95%A8%EC%88%98%29%20%EC%A4%80%EB%B9%84.ipynb#ch0000011vscode-remote?line=9'>10</a>\u001b[0m c \u001b[39m=\u001b[39m \u001b[39m1\u001b[39m \n\u001b[0;32m---> <a href='vscode-notebook-cell://codespaces%2Ballojys-hafs-portfolio-5w9w9w6p375rw/workspaces/hafs_portfolio/%EC%88%98%ED%96%89%ED%8F%89%EA%B0%80%28%EB%82%B4%EC%9E%A5%ED%95%A8%EC%88%98%29%20%EC%A4%80%EB%B9%84.ipynb#ch0000011vscode-remote?line=10'>11</a>\u001b[0m \u001b[39mprint\u001b[39m(\u001b[39mmin\u001b[39;49m(c)) \u001b[39m# error : 'int' object is not iterable \u001b[39;00m\n\u001b[1;32m     <a href='vscode-notebook-cell://codespaces%2Ballojys-hafs-portfolio-5w9w9w6p375rw/workspaces/hafs_portfolio/%EC%88%98%ED%96%89%ED%8F%89%EA%B0%80%28%EB%82%B4%EC%9E%A5%ED%95%A8%EC%88%98%29%20%EC%A4%80%EB%B9%84.ipynb#ch0000011vscode-remote?line=12'>13</a>\u001b[0m \u001b[39m# min(iterable) 함수 예제4 : 튜플 이용 \u001b[39;00m\n\u001b[1;32m     <a href='vscode-notebook-cell://codespaces%2Ballojys-hafs-portfolio-5w9w9w6p375rw/workspaces/hafs_portfolio/%EC%88%98%ED%96%89%ED%8F%89%EA%B0%80%28%EB%82%B4%EC%9E%A5%ED%95%A8%EC%88%98%29%20%EC%A4%80%EB%B9%84.ipynb#ch0000011vscode-remote?line=13'>14</a>\u001b[0m d \u001b[39m=\u001b[39m (\u001b[39m6\u001b[39m, \u001b[39m5\u001b[39m, \u001b[39m4\u001b[39m, \u001b[39m2\u001b[39m) \n",
      "\u001b[0;31mTypeError\u001b[0m: 'int' object is not iterable"
     ]
    }
   ],
   "source": [
    "# min(iterable) 함수 예제1 : 리스트 이용 \n",
    "a = [1, 2, 3] \n",
    "print(max(a),min(a)) \n",
    "\n",
    "# min(iterable) 함수 예제2 : 문자열 이용 \n",
    "b = 'BlockDMask' \n",
    "print(max(b),min(b)) \n",
    "\n",
    "# min(iterable) 함수 예제3 : non iterable 인 경우 \n",
    "c = 1 \n",
    "print(min(c)) # error : 'int' object is not iterable \n",
    "\n",
    "# min(iterable) 함수 예제4 : 튜플 이용 \n",
    "d = (6, 5, 4, 2) \n",
    "print(max(d),min(d)) "
   ]
  },
  {
   "cell_type": "markdown",
   "id": "cde3b12a-7350-40b8-a0db-01f57291a9a3",
   "metadata": {},
   "source": [
    "* # sum\n",
    ">\n",
    "매개변수로 받은 자료형(iterable)의 값을 모두 더한 값을 반환한다.  \n",
    "iterable한 자료형을 받으며 numeric 해야함. 즉, 리스트나 튜플 처럼 인덱스 순환 접근이 가능한 자료형이고 내부에 숫자로만 이루어져 있어야함. 여기서 숫자는 정수, 실수 둘다 가능\n"
   ]
  },
  {
   "cell_type": "code",
   "execution_count": null,
   "id": "531b124c-439f-4109-ae0d-61a81a16709f",
   "metadata": {},
   "outputs": [],
   "source": [
    "# sum(iterable) 에제 1 : 리스트 \n",
    "\n",
    "result1 = sum([1, 2, 3, 4, 5, 6, 7, 8, 9, 10]) \n",
    "print(result1)\n",
    "\n",
    "# sum(iterable) 에제 2 : 숫자가 아닌 값이 들어간 리스트 \n",
    "a = [1, 2, 'python', 4, 5, 'BlockDMask', 7, 8, 9, 10] \n",
    "result2 = sum(a)  # 숫자가 아닌 값이 있기 때문에 error\n",
    "\n",
    "# sum(iterable) 에제 3 : 튜플 \n",
    "b = (1, 2, 3, 4, 5, 6, 7, 8, 9, 10) \n",
    "result3 = sum(b) \n",
    "print(result3)"
   ]
  },
  {
   "cell_type": "markdown",
   "id": "3590d364-1734-4046-b18b-3e3aacc1116f",
   "metadata": {},
   "source": [
    "* # reversed\n",
    ">\n",
    "스트링, 리스트, 튜플, 딕셔너리 등에서 사용가능하며 요소를 역순으로 배치하여 반환한다. (순서가 있어서 index 가 있고, reverse 가 있음. Set 은 리버스 없음)"
   ]
  },
  {
   "cell_type": "code",
   "execution_count": 14,
   "id": "8206d937-d4c1-4384-acc7-7a62a82efd2a",
   "metadata": {},
   "outputs": [
    {
     "name": "stdout",
     "output_type": "stream",
     "text": [
      "[9, 8, 7, 6, 5, 4, 3, 2, 1, 0]\n",
      "['orange', 'banana', 'apple']\n",
      "()\n"
     ]
    }
   ],
   "source": [
    "digits = [0, 1, 2, 3, 4, 5, 6, 7, 8, 9]\n",
    "\n",
    "reversed_digits = reversed(digits)\n",
    "print(list(reversed_digits)) # list로 타입변환해야 확인할 수 있다. 리스트의 method reverse 랑 햇갈려서 구별!\n",
    "\n",
    "fruits = [\"apple\", \"banana\", \"orange\"]\n",
    "\n",
    "reversed_fruit = reversed(fruits) \n",
    "print(list(reversed_fruit))\n",
    "print(tuple(reversed_fruit)) # tuple은 수정 불가능하다."
   ]
  },
  {
   "cell_type": "code",
   "execution_count": null,
   "id": "09fb2870",
   "metadata": {},
   "outputs": [],
   "source": [
    "help(reversed)"
   ]
  },
  {
   "cell_type": "markdown",
   "id": "6f2e0a6b-b3b7-476c-acd8-6da15d13ba19",
   "metadata": {},
   "source": [
    "* # range\n",
    ">\n",
    "특정 구간의 숫자의 범위를 만들어주는 함수  \n",
    "\n",
    ">range(A) \n",
    "0부터 A-1 까지의 정수 범위를 반환\n",
    "\n",
    ">range(A, B)\n",
    "A부터 B-1 까지의 정수 범위를 반환\n",
    "\n",
    ">range(A, B, C)\n",
    "A부터 C 숫자만큼의 간격으로 B-1 까지의 정수 범위를 반환"
   ]
  },
  {
   "cell_type": "code",
   "execution_count": null,
   "id": "b533a67f-b7cc-4f1d-90d8-33da052f1c9b",
   "metadata": {},
   "outputs": [],
   "source": [
    "result = (range(5)) # list로 타입변환이 필요 / 마지막은 포함하지 않는다. range(5)은 0부터 4까지의 숫자를 반환한다.\n",
    "print(result)\n",
    "\n",
    "result = list(range(1, 5))\n",
    "print(result)\n",
    "\n",
    "result = list(range(1, 10, 2)) # 1,3,5,7,9\n",
    "print(result)\n",
    "#1부터 1000까지\n",
    "print(list(range(1, 1000+1))) # -> 오류 발생 줄이고 모양 편하게 보이게 range(1, 1000+1)으로 변경해준다."
   ]
  },
  {
   "cell_type": "markdown",
   "id": "be998821-c176-441c-9bff-e03faa7ab578",
   "metadata": {},
   "source": [
    "* # sorted\n",
    ">\n",
    "첫 번째 매개변수로 들어온 이터러블한 데이터를 새로운 정렬된 리스트로 만들어서 반환해 주는 함수  \n",
    "\n",
    ">reverse 옵션 (reverse 파라미터)\n",
    "해당 파라미터를 이용하면 오름차순으로 정렬할지 내림차순으로 정렬할지 정할 수 있습니다.\n",
    "디폴트로는 reverse=False로 오름차순으로 정렬이 됩니다.\n",
    "sorted( ~~ , reverse=True)로 입력하게 되면 내림차순으로 정렬하여 반환합니다. reverse 는 for을 안써도 된다.  어떻게 reversed는 true 를 쓰지 않고 reverse 할 수 있을 까?\n"
   ]
  },
  {
   "cell_type": "code",
   "execution_count": 22,
   "id": "9e244fad-ad7e-470c-adbf-3ab81389ea82",
   "metadata": {},
   "outputs": [
    {
     "name": "stdout",
     "output_type": "stream",
     "text": [
      "[2, 4, 1, 9, 100, 29, 40, 10]\n",
      "[1, 2, 4, 9, 10, 29, 40, 100]\n",
      "[100, 40, 29, 10, 9, 4, 2, 1]\n",
      "[1, 2, 3, 4, 5]\n"
     ]
    }
   ],
   "source": [
    "a = [2, 4, 1, 9, 100, 29, 40, 10]\n",
    "b = sorted(a)\n",
    "c = sorted(a, reverse=True)\n",
    "\n",
    "print(a,b,c,sep='\\n')\n",
    "\n",
    "\n",
    "print(sorted([5, 2, 3, 1, 4]))"
   ]
  },
  {
   "cell_type": "markdown",
   "id": "7dfa2aec",
   "metadata": {},
   "source": [
    "* # return"
   ]
  },
  {
   "cell_type": "code",
   "execution_count": 1,
   "id": "b1b18f4e",
   "metadata": {},
   "outputs": [
    {
     "name": "stdout",
     "output_type": "stream",
     "text": [
      "hafs\n",
      "None\n",
      "4\n",
      "6\n"
     ]
    }
   ],
   "source": [
    "# return값이란? \n",
    "\"\"\" 함수의 역할을 사용하자! 모든 함수는 실행이 끝난 후에 자기를 호출한 곳으로 돌려준다 or 돌려주지 않는다 \n",
    "돌려준 값 == return값 / 돌려주지 않은 값 == None // 모든 함수는 return 있거나 or 없다. \n",
    "\"\"\"\n",
    "\n",
    "result=print('hafs')\n",
    "print(result)\n",
    "# 프린트 함수는 리턴이 없다. 위에서 출력된거는 return 값이 출력된 것이 아니고 print 함수가 하는 일이다.\n",
    "\n",
    "result=len('hafs')\n",
    "# len 함수는 리턴이 있다. result 에는 len 함수의 리턴 값, 4가 assign 된다. \n",
    "print(result)\n",
    "print(len('python'))"
   ]
  },
  {
   "cell_type": "code",
   "execution_count": 5,
   "id": "fef707f6",
   "metadata": {},
   "outputs": [
    {
     "name": "stdout",
     "output_type": "stream",
     "text": [
      "Help on method raw_input in module ipykernel.kernelbase:\n",
      "\n",
      "raw_input(prompt='') method of ipykernel.ipkernel.IPythonKernel instance\n",
      "    Forward raw_input to frontends\n",
      "    \n",
      "    Raises\n",
      "    ------\n",
      "    StdinNotImplementedError if active frontend doesn't support stdin.\n",
      "\n"
     ]
    }
   ],
   "source": [
    "help(input)"
   ]
  }
 ],
 "metadata": {
  "kernelspec": {
   "display_name": "Python 3",
   "language": "python",
   "name": "python3"
  },
  "language_info": {
   "codemirror_mode": {
    "name": "ipython",
    "version": 3
   },
   "file_extension": ".py",
   "mimetype": "text/x-python",
   "name": "python",
   "nbconvert_exporter": "python",
   "pygments_lexer": "ipython3",
   "version": "3.8.12"
  }
 },
 "nbformat": 4,
 "nbformat_minor": 5
}
